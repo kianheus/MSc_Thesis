{
 "cells": [
  {
   "cell_type": "code",
   "execution_count": 1,
   "id": "f8d1ac2c",
   "metadata": {},
   "outputs": [
    {
     "data": {
      "text/html": [
       "<style>.container { width:200% !important; }</style>"
      ],
      "text/plain": [
       "<IPython.core.display.HTML object>"
      ]
     },
     "metadata": {},
     "output_type": "display_data"
    }
   ],
   "source": [
    "t = sp.Symbol('t')\n",
    "q1 = sp.Function(\"q1\")(t)\n",
    "q2 = sp.Function(\"q2\")(t)\n",
    "q1_dot = sp.diff(q1, t)\n",
    "q2_dot = sp.diff(q2, t)\n",
    "q1_ddot = sp.diff(q1_dot, t)\n",
    "q2_ddot = sp.diff(q2_dot, t)\n",
    "\n",
    "# Generalized coordinates and velocities\n",
    "q = [q1, q2]\n",
    "q_dot = sp.Matrix([q1_dot, q2_dot])\n",
    "q_ddot = sp.Matrix([q1_ddot, q2_ddot])\n",
    "\n",
    "# Define the link lengths and masses\n",
    "m1, m2, g = sp.symbols('m1 m2 g')\n",
    "l1, l2, lc1, lc2 = sp.symbols('l1 l2 lc1 lc2')\n",
    "J1, J2 = sp.symbols('J1 J2')"
   ]
  },
  {
   "cell_type": "code",
   "execution_count": 2,
   "id": "4ca8ce84",
   "metadata": {},
   "outputs": [],
   "source": [
    "from sympy.printing.str import StrPrinter\n",
    "\n",
    "class CustomStrPrinter(StrPrinter):\n",
    "    def _print_Pow(self, expr):\n",
    "        base, exp = expr.as_base_exp()\n",
    "        if exp == 1:\n",
    "            return self._print(base)\n",
    "        elif exp == -1:\n",
    "            return f\"1/({self._print(base)})\"\n",
    "        else:\n",
    "            return f\"{self._print(base)}^{self._print(exp)}\"\n",
    "\n",
    "# Use the custom printer\n",
    "def custom_pretty(expr):\n",
    "    return CustomStrPrinter().doprint(expr)"
   ]
  },
  {
   "cell_type": "code",
   "execution_count": 3,
   "id": "50492620",
   "metadata": {},
   "outputs": [
    {
     "name": "stdout",
     "output_type": "stream",
     "text": [
      "            l₁⋅(-lr₂⋅sin(q₁(t) - q₂(t)) + xa⋅sin(q₁(t)) - ya⋅cos(q₁(t)))            \n",
      "────────────────────────────────────────────────────────────────────────────────────\n",
      "   _________________________________________________________________________________\n",
      "  ╱                                      2                                        2 \n",
      "╲╱  (l₁⋅sin(q₁(t)) + lr₂⋅sin(q₂(t)) - ya)  + (l₁⋅cos(q₁(t)) + lr₂⋅cos(q₂(t)) - xa)  \n",
      "            lr₂⋅(l₁⋅sin(q₁(t) - q₂(t)) + xa⋅sin(q₂(t)) - ya⋅cos(q₂(t)))             \n",
      "────────────────────────────────────────────────────────────────────────────────────\n",
      "   _________________________________________________________________________________\n",
      "  ╱                                      2                                        2 \n",
      "╲╱  (l₁⋅sin(q₁(t)) + lr₂⋅sin(q₂(t)) - ya)  + (l₁⋅cos(q₁(t)) + lr₂⋅cos(q₂(t)) - xa)  \n"
     ]
    }
   ],
   "source": [
    "# Actuator parameters\n",
    "xa, ya = sp.symbols('xa ya') #x, y coordinate of actuator\n",
    "\n",
    "# Rope connection length along joint 2\n",
    "lr2 = sp.symbols('lr2')\n",
    "kx = l1 * sp.cos(q1) + lr2 * sp.cos(q2)\n",
    "ky = l1 * sp.sin(q1) + lr2 * sp.sin(q2)\n",
    "\n",
    "k = sp.Matrix([[kx],\n",
    "               [ky]])\n",
    "\n",
    "dkdq1 = sp.diff(k, q1)\n",
    "dkdq2 = sp.diff(k, q2)\n",
    "\n",
    "R = sp.Matrix([[xa - kx],\n",
    "               [ya - ky]])\n",
    "Rx = R[0]\n",
    "Ry = R[1]\n",
    "r = R/R.norm()\n",
    "\n",
    "l = sp.sqrt((xa - kx)**2 + (ya - ky)**2)\n",
    "A1 = sp.diff(l, q1).simplify()\n",
    "A2 = sp.diff(l, q2).simplify()\n",
    "sp.pprint(A1, wrap_line = False)\n",
    "sp.pprint(A2, wrap_line = False)\n",
    "\n",
    "A = sp.Matrix([[A1],\n",
    "               [A2]])\n",
    "\n",
    "A = sp.simplify(A)\n",
    "#print(custom_pretty(A))\n",
    "#print(\"\\n\")\n",
    "#sp.pprint(A, wrap_line=False)"
   ]
  },
  {
   "cell_type": "code",
   "execution_count": 7,
   "id": "ac4922e0",
   "metadata": {},
   "outputs": [
    {
     "name": "stdout",
     "output_type": "stream",
     "text": [
      "⎡            l₁⋅(-lr₂⋅sin(q₁(t) - q₂(t)) + xa⋅sin(q₁(t)) - ya⋅cos(q₁(t)))                          lr₂⋅(l₁⋅sin(q₁(t) - q₂(t)) + xa⋅sin(q₂(t)) - ya⋅cos(q₂(t)))             ⎤\n",
      "⎢────────────────────────────────────────────────────────────────────────────────────  ────────────────────────────────────────────────────────────────────────────────────⎥\n",
      "⎢   _________________________________________________________________________________     _________________________________________________________________________________⎥\n",
      "⎢  ╱                                      2                                        2     ╱                                      2                                        2 ⎥\n",
      "⎢╲╱  (l₁⋅sin(q₁(t)) + lr₂⋅sin(q₂(t)) - ya)  + (l₁⋅cos(q₁(t)) + lr₂⋅cos(q₂(t)) - xa)    ╲╱  (l₁⋅sin(q₁(t)) + lr₂⋅sin(q₂(t)) - ya)  + (l₁⋅cos(q₁(t)) + lr₂⋅cos(q₂(t)) - xa)  ⎥\n",
      "⎢                                                                                                                                                                          ⎥\n",
      "⎣                                         1                                                                                     0                                          ⎦\n"
     ]
    }
   ],
   "source": [
    "h1 = sp.atan2(Rx, Ry)\n",
    "h1 = l\n",
    "h2 = q1\n",
    "theta = sp.Matrix([[h1],\n",
    "                   [h2]])\n",
    "\n",
    "Jh = theta.jacobian(q)\n",
    "Jh = sp.simplify(Jh)\n",
    "sp.pprint(Jh, wrap_line = False)"
   ]
  },
  {
   "cell_type": "code",
   "execution_count": 8,
   "id": "c7e53a00",
   "metadata": {},
   "outputs": [],
   "source": [
    "Jh_inv = Jh.inv()\n",
    "Jh_invtrans = Jh_inv.transpose()"
   ]
  },
  {
   "cell_type": "code",
   "execution_count": 9,
   "id": "8ad2bb3b",
   "metadata": {},
   "outputs": [
    {
     "name": "stdout",
     "output_type": "stream",
     "text": [
      "⎡1⎤\n",
      "⎢ ⎥\n",
      "⎣0⎦\n"
     ]
    }
   ],
   "source": [
    "A_theta = Jh_invtrans * A\n",
    "A_theta = sp.simplify(A_theta)\n",
    "sp.pprint(A_theta, wrap_line = False)"
   ]
  },
  {
   "cell_type": "code",
   "execution_count": null,
   "id": "39c9b391",
   "metadata": {},
   "outputs": [],
   "source": []
  }
 ],
 "metadata": {
  "kernelspec": {
   "display_name": "Python (thesis)",
   "language": "python",
   "name": "thesis"
  },
  "language_info": {
   "codemirror_mode": {
    "name": "ipython",
    "version": 3
   },
   "file_extension": ".py",
   "mimetype": "text/x-python",
   "name": "python",
   "nbconvert_exporter": "python",
   "pygments_lexer": "ipython3",
   "version": "3.12.4"
  }
 },
 "nbformat": 4,
 "nbformat_minor": 5
}
