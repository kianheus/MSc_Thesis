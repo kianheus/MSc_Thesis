{
 "cells": [
  {
   "cell_type": "markdown",
   "metadata": {},
   "source": [
    "### Code to visualise training and performance of Learn Transform.ipynb"
   ]
  },
  {
   "cell_type": "markdown",
   "metadata": {},
   "source": [
    "#### Imports and parameter definitions"
   ]
  },
  {
   "cell_type": "code",
   "execution_count": null,
   "metadata": {},
   "outputs": [],
   "source": [
    "import os\n",
    "import sys\n",
    "sys.path.insert(0, os.path.abspath(\"../..\"))\n",
    "\n",
    "import torch\n",
    "\n",
    "import autoencoders\n",
    "import learning_plotters as lp\n",
    "import Double_Pendulum.robot_parameters as robot_parameters\n",
    "\n",
    "import matplotlib\n",
    "matplotlib.rcParams['font.family']   = 'serif'\n",
    "matplotlib.rcParams['font.serif']    = ['Times New Roman']\n",
    "matplotlib.rcParams['mathtext.fontset'] = 'dejavuserif'\n",
    "\n",
    "%load_ext autoreload\n",
    "%autoreload 2"
   ]
  },
  {
   "cell_type": "code",
   "execution_count": null,
   "metadata": {},
   "outputs": [],
   "source": [
    "device = torch.device(\"cuda\" if torch.cuda.is_available() else \"cpu\")\n",
    "\n",
    "rp = robot_parameters.LUMPED_PARAMETERS.copy()\n",
    "rp[\"m0\"] = 0.0"
   ]
  },
  {
   "cell_type": "code",
   "execution_count": null,
   "metadata": {},
   "outputs": [],
   "source": [
    "save_folder = \"Models/New_try\"\n",
    "os.makedirs(save_folder, exist_ok=True)\n",
    "file_counter = 0\n",
    "train_clockwise = False"
   ]
  },
  {
   "cell_type": "markdown",
   "metadata": {},
   "source": [
    "#### Load models"
   ]
  },
  {
   "cell_type": "code",
   "execution_count": null,
   "metadata": {},
   "outputs": [],
   "source": [
    "dir_name = \"NN_202505141642(half-q)\"\n",
    "\n",
    "dir_path = os.path.join(os.getcwd(), \"Models\", dir_name)\n",
    "nn_filename = \"NN_202505141642\" + \"_0.pth\"\n",
    "nn_filepath = os.path.join(dir_path, nn_filename)\n",
    "\n",
    "model_path = nn_filepath\n",
    "model = autoencoders.Autoencoder_double(rp).to(device)  # Initialize model architecture\n",
    "model.load_state_dict(torch.load(model_path, weights_only=True, map_location=device))  # Load weights\n",
    "\n",
    "model_ana = autoencoders.Analytic_transformer(rp)\n",
    "\n",
    "models = [model_ana, model]\n",
    "model_names = [\"Analytic\", \"Learned\"]"
   ]
  },
  {
   "cell_type": "code",
   "execution_count": null,
   "metadata": {},
   "outputs": [],
   "source": [
    "def load_loss(load_loss_path):\n",
    "\tlosses_dict = torch.load(load_loss_path, map_location = \"cpu\", weights_only=True)\n",
    "\treturn losses_dict[\"train\"], losses_dict[\"val\"]"
   ]
  },
  {
   "cell_type": "markdown",
   "metadata": {},
   "source": [
    "#### Visualize loss plot, single model"
   ]
  },
  {
   "cell_type": "code",
   "execution_count": null,
   "metadata": {},
   "outputs": [],
   "source": [
    "single_losses_path = \"Models/NN_202505221832/losses.pt\"\n",
    "train_loss, val_loss = load_loss(single_losses_path)"
   ]
  },
  {
   "cell_type": "code",
   "execution_count": null,
   "metadata": {},
   "outputs": [],
   "source": [
    "lp.plot_loss(train_loss, val_loss, log = True, save_folder = save_folder)"
   ]
  },
  {
   "cell_type": "markdown",
   "metadata": {},
   "source": [
    "#### Plot loss for multiple models"
   ]
  },
  {
   "cell_type": "code",
   "execution_count": null,
   "metadata": {},
   "outputs": [],
   "source": [
    "loss_paths = [\n",
    "    \"Models/NN_202505221832/losses.pt\",\n",
    "    \"Models/NN_202505221839/losses.pt\",\n",
    "    \"Models/NN_202505221919/losses.pt\"\n",
    "]"
   ]
  },
  {
   "cell_type": "code",
   "execution_count": null,
   "metadata": {},
   "outputs": [],
   "source": [
    "train_losses = []\n",
    "val_losses   = []\n",
    "\n",
    "for loss_path in loss_paths:\n",
    "\ttrain_loss, val_loss = load_loss(loss_path)\n",
    "\ttrain_losses.append(train_loss)\n",
    "\tval_losses.append(val_loss)"
   ]
  },
  {
   "cell_type": "code",
   "execution_count": null,
   "metadata": {},
   "outputs": [],
   "source": [
    "lp.plot_losses_vs_epoch(train_losses, val_losses, save_folder = save_folder)"
   ]
  },
  {
   "cell_type": "markdown",
   "metadata": {},
   "source": [
    "#### Plot Yin-Yang for $\\theta$ vs $x, y$"
   ]
  },
  {
   "cell_type": "code",
   "execution_count": null,
   "metadata": {},
   "outputs": [],
   "source": [
    "# Define the number of grid points along each dimension.\n",
    "n_points = 200\n",
    "\n",
    "lp.plot_yinyang(n_points, save_folder, file_counter, train_clockwise, models, model_names, rp, device) #TODO: Fill in"
   ]
  },
  {
   "cell_type": "code",
   "execution_count": null,
   "metadata": {},
   "outputs": [],
   "source": []
  }
 ],
 "metadata": {
  "kernelspec": {
   "display_name": "thesis2",
   "language": "python",
   "name": "python3"
  },
  "language_info": {
   "codemirror_mode": {
    "name": "ipython",
    "version": 3
   },
   "file_extension": ".py",
   "mimetype": "text/x-python",
   "name": "python",
   "nbconvert_exporter": "python",
   "pygments_lexer": "ipython3",
   "version": "3.11.10"
  }
 },
 "nbformat": 4,
 "nbformat_minor": 2
}
