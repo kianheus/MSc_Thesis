{
 "cells": [
  {
   "cell_type": "markdown",
   "metadata": {},
   "source": [
    "### File used to generate unforced trajectories, for comparison between learned and true dynamics"
   ]
  },
  {
   "cell_type": "code",
   "execution_count": null,
   "metadata": {},
   "outputs": [],
   "source": [
    "import torch\n",
    "import sys\n",
    "import os\n",
    "from matplotlib import pyplot as plt\n",
    "import numpy as np\n",
    "import matplotlib.cm as cm\n",
    "import scipy\n",
    "from datetime import datetime\n",
    "import json\n",
    "\n",
    "module_path = os.path.abspath(os.path.join('../..'))\n",
    "if module_path not in sys.path:\n",
    "\tsys.path.insert(0, module_path)\n",
    "print(sys.path)\n",
    "\n",
    "import Series_Elastic_Actuator.Learning.autoencoders_SEA as autoencoders_SEA\n",
    "import Series_Elastic_Actuator.robot_parameters_SEA as robot_parameters_SEA\n",
    "import Series_Elastic_Actuator.transforms_SEA as transforms_SEA\n",
    "import Series_Elastic_Actuator.dynamics_SEA as dynamics_SEA\n",
    "\n",
    "import Plotting.pendulum_plot as pendulum_plot\n",
    "\n",
    "import matplotlib\n",
    "matplotlib.rcParams['font.family']   = 'serif'\n",
    "matplotlib.rcParams['font.serif']    = ['Times New Roman']\n",
    "matplotlib.rcParams['mathtext.fontset'] = 'dejavuserif'\n",
    "\n",
    "from functools import partial\n",
    "\n",
    "\n",
    "\n",
    "%load_ext autoreload\n",
    "%autoreload 2\n",
    "\n",
    "\n",
    "device = torch.device(\"cuda\" if torch.cuda.is_available() else \"cpu\")"
   ]
  },
  {
   "cell_type": "markdown",
   "metadata": {},
   "source": [
    "#### Starting parameters"
   ]
  },
  {
   "cell_type": "code",
   "execution_count": null,
   "metadata": {},
   "outputs": [],
   "source": [
    "rp = robot_parameters_SEA.SEA_PARAMETERS\n",
    "\n",
    "\n",
    "neural_net = False\n",
    "print(rp)"
   ]
  },
  {
   "cell_type": "code",
   "execution_count": null,
   "metadata": {},
   "outputs": [],
   "source": [
    "t_start = 0.\n",
    "t_end = 3.\n",
    "dt = 0.01\n",
    "\n",
    "model = autoencoders_SEA.Autoencoder_double(rp).to(device)\n",
    "model_location = 'Models/NN_small_short/NN_202506181821_0.pth'\n",
    "model.load_state_dict(torch.load(model_location, weights_only=True))\n",
    "\n",
    "q0min = -torch.pi\n",
    "q0max = torch.pi"
   ]
  },
  {
   "cell_type": "markdown",
   "metadata": {},
   "source": [
    "#### Generate $q$-space trajectory"
   ]
  },
  {
   "cell_type": "code",
   "execution_count": null,
   "metadata": {},
   "outputs": [],
   "source": [
    "timestamp = datetime.now().strftime(\"%Y-%m-%d_%H-%M-%S\")"
   ]
  },
  {
   "cell_type": "code",
   "execution_count": null,
   "metadata": {},
   "outputs": [],
   "source": [
    "def sim_q(t_start, t_end, dt, q_start, q_d_start, u):\n",
    "\tq = q_start\n",
    "\tq_d = q_d_start\n",
    "\tqs_ana = []\n",
    "\tq_ds_ana = []\n",
    "\n",
    "\n",
    "\tn_steps = int((t_end - t_start) / dt)\n",
    "\n",
    "\tfor _ in range(n_steps):\n",
    "\t\t\n",
    "\t\tM_q, G_q = dynamics_SEA.dynamical_matrices(rp, q.squeeze(0), q_d.squeeze(0))\n",
    "\t\tA_q = dynamics_SEA.input_matrix()\n",
    "\n",
    "\t\ttau_q = A_q * u\n",
    "\t\tq_dd = (torch.pinverse(M_q) @ (tau_q - G_q)).T.to(device)\n",
    "\n",
    "\t\tq_d = q_d + q_dd * dt\n",
    "\t\tq = q + q_d * dt\n",
    "\t\t\n",
    "\t\tqs_ana.append(q.squeeze(0).detach())\n",
    "\t\tq_ds_ana.append(q_d.squeeze(0).detach())\n",
    "\t\n",
    "\treturn torch.stack(qs_ana,  dim=0), torch.stack(q_ds_ana, dim=0)"
   ]
  },
  {
   "cell_type": "markdown",
   "metadata": {},
   "source": [
    "#### Generate $\\hat{q}$-space trajectory"
   ]
  },
  {
   "cell_type": "code",
   "execution_count": null,
   "metadata": {},
   "outputs": [],
   "source": [
    "timestamp_alt = datetime.now().strftime(\"%Y-%m-%d_%H-%M-%S\")\n",
    "\n",
    "def sim_q_hat(t_start, t_end, dt, q_start, q_d_start, u, model):\n",
    "\tq_nn = q_start\n",
    "\tq_d_nn = q_d_start\n",
    "\n",
    "\tth = model.encoder_vmap(q_nn)\n",
    "\tth_d = (model.jacobian_enc(q_nn) @ q_d_nn.T).T\n",
    "\n",
    "\tq_nn_series, q_d_nn_series = torch.empty((0,2)).to(device), torch.empty((0,2)).to(device)\n",
    "\n",
    "\tfor t in torch.arange(t_start, t_end, dt):\n",
    "\n",
    "\n",
    "\n",
    "\n",
    "\t\tq_hat = model.decoder_vmap(th)\n",
    "\t\tq_d_hat = (model.jacobian_dec(th) @ th_d.T).T\n",
    "\t\t\n",
    "\n",
    "\t\tM_q_hat, G_q_hat = dynamics_SEA.dynamical_matrices(rp, q_hat.squeeze(0), q_d_hat.squeeze(0))\n",
    "\t\tA_q_hat = dynamics_SEA.input_matrix()\n",
    "\t\tJ_h_inv = model.jacobian_dec(th).squeeze(0)\n",
    "\t\tJ_h_inv_trans = torch.transpose(J_h_inv, 0, 1)\n",
    "\t\tM_th, C_th, G_th = transforms_SEA.transform_dynamical_from_inverse(M_q_hat, G_q_hat, th, th_d, J_h_inv, J_h_inv_trans)\n",
    "\t\t\n",
    "\t\tA_th = transforms_SEA.transform_input_matrix_from_inverse_trans(A_q_hat, J_h_inv_trans)\n",
    "\t\t\n",
    "\t\ttau_th = A_th * u\n",
    "\n",
    "\n",
    "\n",
    "\n",
    "\t\tth_dd = (torch.pinverse(M_th) @ (tau_th - C_th @ th_d.T - G_th)).T\n",
    "\t\tth_d = th_d + th_dd * dt\n",
    "\t\tth = th + th_d * dt\n",
    "\n",
    "\t\t\n",
    "\t\tq_nn = model.decoder_vmap(th)\n",
    "\t\tq_d_nn = (model.jacobian_dec(th) @ th_d.T).T\n",
    "\n",
    "\t\tq_nn_series = torch.cat((q_nn_series, q_nn.detach()), dim = 0)\n",
    "\t\tq_d_nn_series = torch.cat((q_d_nn_series, q_d_nn.detach()), dim = 0)\n",
    "\n",
    "\treturn q_nn_series, q_d_nn_series\n"
   ]
  },
  {
   "cell_type": "code",
   "execution_count": null,
   "metadata": {},
   "outputs": [],
   "source": [
    "def check_q_outside_index(q_series, q0_min, q0_max):\n",
    "\toutside = (q_series[:, 0] > q0_max) | (q_series[:, 0] < q0_min)\n",
    "\n",
    "\tif outside.any():\n",
    "\t\tidxs = torch.nonzero(outside, as_tuple=True)[0]\n",
    "\t\toutside_idx = idxs[0].item()\n",
    "\t\treturn outside_idx\n",
    "\telse:\n",
    "\t\treturn q_series.size(0)"
   ]
  },
  {
   "cell_type": "code",
   "execution_count": null,
   "metadata": {},
   "outputs": [],
   "source": [
    "def create_data_lists(qs_start, q_ds_start, us, loaded_data = None, print_iter = None, save_path = None):\n",
    "\n",
    "\n",
    "\tif loaded_data is None:\n",
    "\t\tq_ana_series_list, q_d_ana_series_list = [], []\n",
    "\t\tq_nn_series_list, q_d_nn_series_list = [], []\n",
    "\telse:\n",
    "\t\tq_ana_series_list, q_d_ana_series_list = loaded_data[\"q_ana_sl\"], loaded_data[\"q_d_ana_sl\"]\n",
    "\t\tq_nn_series_list, q_d_nn_series_list = loaded_data[\"q_nn_sl\"], loaded_data[\"q_d_nn_sl\"]\n",
    "\n",
    "\n",
    "\tfor i, (q_start, q_d_start, u) in enumerate(zip(qs_start, q_ds_start, us)):\n",
    "\t\tif print_iter is not None:\n",
    "\t\t\tif i % print_iter == 0:\n",
    "\t\t\t\tprint(\"sim nr:\", i)\n",
    "\n",
    "\n",
    "\t\t# Simulate ANALYTIC trajectory\n",
    "\t\tq_ana_series, q_d_ana_series = sim_q(t_start, t_end, dt, q_start.clone(), q_d_start.clone(), u)\n",
    "\t\t\n",
    "\n",
    "\n",
    "\t\t# Check for exclusion criteria, trim based on most stringent one\n",
    "\t\tq_outside_idx = check_q_outside_index(q_ana_series, q0min, q0max)\n",
    "\t\t#save_idx = min(too_long_idx, q_outside_idx, too_short_idx)\n",
    "\t\tsave_idx = q_outside_idx\n",
    "\n",
    "\t\tif save_idx > 0:\n",
    "\n",
    "\t\t\t# Only simulate NEURAL NETWORK trajectory if analytic makes it the whole way\n",
    "\t\t\tq_nn_series, q_d_nn_series = sim_q_hat(t_start, t_end, dt, q_start.clone(), q_d_start.clone(), u, model)\n",
    "\n",
    "\t\t\tq_ana_series_list.append(q_ana_series[:save_idx])\n",
    "\t\t\tq_d_ana_series_list.append(q_d_ana_series[:save_idx])\n",
    "\n",
    "\t\t\tq_nn_series_list.append(q_nn_series[:save_idx])\n",
    "\t\t\tq_d_nn_series_list.append(q_d_nn_series[:save_idx])\n",
    "\n",
    "\t\tif save_path is not None:\n",
    "\t\t\tdata_to_save = {\n",
    "\t\t\t\t\"q_ana_sl\": q_ana_series_list,\n",
    "\t\t\t\t\"q_d_ana_sl\": q_d_ana_series_list,\n",
    "\t\t\t\t\"q_nn_sl\": q_nn_series_list,\n",
    "\t\t\t\t\"q_d_nn_sl\": q_d_nn_series_list,\n",
    "\t\t\t}\n",
    "\t\t\ttorch.save(data_to_save, save_path)\n",
    "\t\n",
    "\treturn q_ana_series_list, q_d_ana_series_list, q_nn_series_list, q_d_nn_series_list"
   ]
  },
  {
   "cell_type": "code",
   "execution_count": null,
   "metadata": {},
   "outputs": [],
   "source": [
    "def create_plot_datasets(q_ana_series, q_nn_series):\n",
    "\tdatasets_q = [\n",
    "\t\t{\n",
    "\t\t\t\"name\": \"Learned\",\n",
    "\t\t\t\"values\": q_nn_series.cpu().detach().numpy(),\n",
    "\t\t\t\"color\": \"tab:orange\"\n",
    "\t\t},\n",
    "\t\t{\n",
    "\t\t\t\"name\": \"Ground truth\",\n",
    "\t\t\t\"values\": q_ana_series.cpu().detach().numpy(),\n",
    "\t\t\t\"color\": \"tab:blue\"\n",
    "\t\t}\n",
    "\t]\n",
    "\n",
    "\n",
    "\n",
    "\t# Common labels for the plots.\n",
    "\tname_q = \"q trajectory\"\n",
    "\tt_series = torch.arange(0, t_end, dt)\n",
    "\tt_series = t_series[:q_ana_series.size(0)]\n",
    "\n",
    "\t# Create an instance of ErrorPlotter.\n",
    "\tep = pendulum_plot.Error_plotter(rp)\n",
    "\n",
    "\t# Prepare plot datasets for each column.\n",
    "\t# Each call groups a set of datasets to be drawn in one subplot column.\n",
    "\tq_plot_dataset = ep.create_plot_dataset(t=t_series, datasets=datasets_q, reference=None, name=name_q)\n",
    "\n",
    "\n",
    "\tplot_datasets = [q_plot_dataset]\n",
    "\tplot_colormaps = [\"Oranges\", \"Blues\", \"Greens\"]\n",
    "\n",
    "\treturn plot_datasets, plot_colormaps"
   ]
  },
  {
   "cell_type": "code",
   "execution_count": null,
   "metadata": {},
   "outputs": [],
   "source": [
    "\n",
    "def make_error_plots(plot_datasets, save_dir, ep):\n",
    "\tfile_name = \"Error plot.png\"\n",
    "\tfile_counter = 0\n",
    "\n",
    "\toutput_path = os.path.join(save_dir, file_name)\n",
    "\n",
    "\t# Pass the list of columns (plot_dataset objects) to plot_multi.\n",
    "\tep.plot_multi(plot_datasets=plot_datasets, save_path=output_path, axes_names = [\"q\", \"th\"])\n",
    "\n",
    "\n"
   ]
  },
  {
   "cell_type": "markdown",
   "metadata": {},
   "source": [
    "#### Plot $q$-space error"
   ]
  },
  {
   "cell_type": "code",
   "execution_count": null,
   "metadata": {},
   "outputs": [],
   "source": [
    "from matplotlib.lines import Line2D\n",
    "def plot_q_trajs(q_dataset, plot_colormaps):\n",
    "\tfig, ax = plt.subplots(figsize=(6,4))\n",
    "\tscs = []\n",
    "\tfor i, cmap in zip(range(2), plot_colormaps):\n",
    "\t\tt = q_dataset[\"x\"]                      # shape (N,)\n",
    "\t\tq1 = q_dataset[\"data\"][i][\"y1\"]         # shape (N,)\n",
    "\t\tq2 = q_dataset[\"data\"][i][\"y2\"]         # shape (N,)\n",
    "\t\tsc = ax.scatter(q1, q2, c=t, cmap=cmap, s=20)\n",
    "\n",
    "\t\t# optionally connect points in order\n",
    "\t\tax.plot(q1, q2, lw=0.5, color='gray', alpha=0.5)\n",
    "\t\tscs.append(sc)\n",
    "\n",
    "\t# labels and colorbar\n",
    "\tax.set_xlabel('$q_0$')\n",
    "\tax.set_ylabel('$q_1$')\n",
    "\tax.grid()\n",
    "\n",
    "\tcbar1 = fig.colorbar(\n",
    "\t\tscs[0], ax=ax, pad=-0.01, fraction=0.057\n",
    "\t)\n",
    "\tcbar1.set_label('time')\n",
    "\n",
    "\tcbar2 = fig.colorbar(\n",
    "\t\tscs[1], ax=ax, pad=0.02, fraction=0.057, ticks=[]\n",
    "\t)\n",
    "\n",
    "\tlabels = [q_dataset[\"data\"][i][\"name\"] for i in range(2)]\n",
    "\tproxies = []\n",
    "\tfor cmap, label in zip(plot_colormaps, labels):\n",
    "\t\tcolor = plt.get_cmap(cmap)(0.7)\n",
    "\t\tproxies.append(Line2D([0], [0], marker='o', \n",
    "\t\t\t\t\t\t\t  color='w',\n",
    "\t\t\t\t\t\t\t  markerfacecolor=color,\n",
    "\t\t\t\t\t\t\t  markersize=8, \n",
    "\t\t\t\t\t\t\t  linestyle='',\n",
    "\t\t\t\t\t\t\t  label=label))\n",
    "\n",
    "\tax.legend(handles=proxies, title=\"Trajectories\")\n",
    "\n",
    "\tax.set_title('Trajectory in $(q_0,q_1)$ colored by time')\n",
    "\tplt.tight_layout()\n",
    "\tplt.show()"
   ]
  },
  {
   "cell_type": "code",
   "execution_count": null,
   "metadata": {},
   "outputs": [],
   "source": [
    "n_sims = 20\n",
    "print_iter = max(torch.floor(torch.tensor(n_sims)/100).item(), 1)\n",
    "\n",
    "\n",
    "q0min, q0max = -torch.pi/2, torch.pi/2\n",
    "q1min, q1max = 0, torch.pi\n",
    "q0s = torch.rand(n_sims) * (q0max - q0min) + q0min\n",
    "q1s = torch.rand(n_sims) * (q1max - q1min) + q1min\n",
    "qs_start = torch.stack((q0s, q1s), dim=1).requires_grad_().to(device)\n",
    "\n",
    "\n",
    "\n",
    "q_d0min, q_d0max = -1, 1\n",
    "q_d1min, q_d1max = -1, 1\n",
    "q_d0s = torch.rand(n_sims) * (q_d0max - q_d0min) + q_d0min\n",
    "q_d1s = torch.rand(n_sims) * (q_d1max - q_d1min) + q_d1min \n",
    "q_ds_start = torch.stack((q0s, q1s), dim=1).requires_grad_().to(device)\n",
    "\n",
    "\n",
    "print(qs_start.size())\n",
    "\n",
    "qs_start = qs_start.unsqueeze(1)\n",
    "q_ds_start = q_ds_start.unsqueeze(1)\n",
    "\n",
    "us = -5 + 10 * torch.rand(n_sims)"
   ]
  },
  {
   "cell_type": "markdown",
   "metadata": {},
   "source": [
    "#### Load the data (in case you want to append to existing trials)"
   ]
  },
  {
   "cell_type": "code",
   "execution_count": null,
   "metadata": {},
   "outputs": [],
   "source": [
    "load_data = False\n",
    "loaded_data_dir = \"Performance_Sims/Optimal\"\n",
    "load_num = 0\n",
    "if load_data:\n",
    "\tloaded_data = torch.load(loaded_data_dir+\"/simulations_data_\" + str(load_num) + \".pt\")\n",
    "\tprint(\"Loading simulation data from:\", loaded_data_dir)\n",
    "else:\n",
    "\tloaded_data = None\n",
    "\tprint(\"Not loading simulation data.\")\n"
   ]
  },
  {
   "cell_type": "code",
   "execution_count": null,
   "metadata": {},
   "outputs": [],
   "source": [
    "save_dir = \"Performance_Sims/Optimal\"\n",
    "save_path = save_dir + \"/simulations_data_0.pt\"\n",
    "file_iter = 1\n",
    "while os.path.isfile(save_path):\n",
    "    save_path = save_path[:-4] + str(file_iter) + \".pt\"\n",
    "    file_iter += 1\n",
    "\n",
    "q_ana_sl, q_d_ana_sl, q_nn_sl, q_d_nn_sl = create_data_lists(qs_start, q_ds_start, us, loaded_data = loaded_data, \n",
    "\t\t\t\t\t\t\t\t\t\t\t\t\t\t\t\t\t\t\t\t  print_iter = print_iter, save_path=save_path)"
   ]
  },
  {
   "cell_type": "markdown",
   "metadata": {},
   "source": [
    "#### Save the data (also happens during generation)"
   ]
  },
  {
   "cell_type": "code",
   "execution_count": null,
   "metadata": {},
   "outputs": [],
   "source": [
    "os.makedirs(save_dir, exist_ok=True)\n",
    "\n",
    "data_to_save = {\n",
    "\t\"q_ana_sl\": q_ana_sl,\n",
    "\t\"q_d_ana_sl\": q_d_ana_sl,\t\n",
    "\t\"q_nn_sl\": q_nn_sl,\n",
    "\t\"q_d_nn_sl\": q_d_nn_sl,\n",
    "}\n",
    "\n",
    "torch.save(data_to_save, save_dir + \"/simulations_data_\" + str(file_iter) + \".pt\")"
   ]
  },
  {
   "cell_type": "markdown",
   "metadata": {},
   "source": [
    "#### Load the data (in case you're running without generating)"
   ]
  },
  {
   "cell_type": "code",
   "execution_count": null,
   "metadata": {},
   "outputs": [],
   "source": [
    "load_data_dir = \"Performance_Sims/Optimal\"\n",
    "load_num = 1\n",
    "loaded_data = torch.load(load_data_dir + \"/simulations_data_\" + str(load_num) + \".pt\")\n",
    "\n",
    "q_ana_sl = loaded_data[\"q_ana_sl\"]\n",
    "q_d_ana_sl = loaded_data[\"q_d_ana_sl\"]\n",
    "q_nn_sl = loaded_data[\"q_nn_sl\"]\n",
    "q_d_nn_sl = loaded_data[\"q_d_nn_sl\"]\n",
    "\n",
    "print(\"Loaded model containing\",  len(q_ana_sl), \"simulations.\")"
   ]
  },
  {
   "cell_type": "code",
   "execution_count": null,
   "metadata": {},
   "outputs": [],
   "source": [
    "q_error_list = []\n",
    "plotter_counter = 0\n",
    "for i, (qas, qdas, qns, qdns) in enumerate(zip(q_ana_sl, q_d_ana_sl, q_nn_sl, q_d_nn_sl)):\n",
    "\n",
    "\tq_error_series = qas - qns\n",
    "\tq_d_error_series = qdas - qdns\n",
    "\tplot_datasets, plot_colormaps = create_plot_datasets(qas, qns)\n",
    "\tq_plot_dataset = plot_datasets[0]\n",
    "\tif qas.size(0) == 300 or True:\n",
    "\t\tq_error_list.append(q_error_series)\n",
    "\n",
    "\t\tif plotter_counter < 5:\n",
    "\t\t\tplot_q_trajs(q_plot_dataset, plot_colormaps)\n",
    "\t\t\tplotter_counter += 1\n",
    "\n",
    "\n"
   ]
  },
  {
   "cell_type": "code",
   "execution_count": null,
   "metadata": {},
   "outputs": [],
   "source": [
    "\n",
    "for i in range(20):\n",
    "\tprint(q_ana_sl[i].size())\n"
   ]
  },
  {
   "cell_type": "code",
   "execution_count": null,
   "metadata": {},
   "outputs": [],
   "source": [
    "# Number of trials that made it to the end\n",
    "print(len(q_error_list))"
   ]
  },
  {
   "cell_type": "code",
   "execution_count": null,
   "metadata": {},
   "outputs": [],
   "source": [
    "# Transform the q_error_list into a pytorch tensor\n",
    "q_error_list_full = torch.nn.utils.rnn.pad_sequence(q_error_list, batch_first = True, padding_value=float(\"nan\"))\n",
    "\n",
    "# Calculate the sample mean\n",
    "q_error_mean = torch.nanmean(q_error_list_full, dim=0)\n",
    "\n",
    "# Calculate the rmse error manually\n",
    "q_error_square = torch.square(q_error_list_full)\n",
    "q_error_mse = torch.nanmean(q_error_square, dim=0)\n",
    "q_error_rmse = torch.sqrt(q_error_mse)\n",
    "\n",
    "# Create mask which is True where index is NOT nan\n",
    "nan_mask = ~torch.isnan(q_error_list_full)\n",
    "# Log how many of the trials are not nan at each time step\n",
    "counts = nan_mask.sum(dim=(0))[:,0]\n",
    "\n",
    "# Calculate the sample standard deviation manually\n",
    "q_error_diff = q_error_list_full - q_error_mean\n",
    "q_error_sqdiff = torch.square(q_error_diff)\n",
    "q_error_sumsqdiff = torch.nansum(q_error_sqdiff, dim=0)\n",
    "q_error_var = q_error_sumsqdiff / (counts-1).unsqueeze(1)\n",
    "q_error_std = torch.sqrt(q_error_var)"
   ]
  },
  {
   "cell_type": "code",
   "execution_count": null,
   "metadata": {},
   "outputs": [],
   "source": [
    "def calc_rmse(error_list):\n",
    "\terror_list_full = torch.nn.utils.rnn.pad_sequence(error_list, batch_first = True, padding_value=float(\"nan\"))\n",
    "\terror_square = torch.square(error_list_full)\n",
    "\terror_mse = torch.nanmean(error_square, dim=0)\n",
    "\terror_rmse = torch.sqrt(error_mse)\n",
    "\treturn error_rmse\n",
    "\n",
    "def calc_std(error_list):\n",
    "\terror_list_full = torch.nn.utils.rnn.pad_sequence(error_list, batch_first = True, padding_value=float(\"nan\"))\n",
    "\terror_mean = torch.nanmean(error_list_full, dim=0)\n",
    "\tnan_mask = ~torch.isnan(error_list_full)\n",
    "\tcounts = nan_mask.sum(dim=(0))[:,0]\n",
    "\terror_diff = error_list_full - error_mean\n",
    "\terror_sqdiff = torch.square(error_diff)\n",
    "\terror_sumsqdiff = torch.nansum(error_sqdiff, dim=0)\n",
    "\terror_var = error_sumsqdiff / (counts-1).unsqueeze(1)\n",
    "\terror_std = torch.sqrt(error_var)\n",
    "\treturn error_std"
   ]
  },
  {
   "cell_type": "code",
   "execution_count": null,
   "metadata": {},
   "outputs": [],
   "source": [
    "def plot_error_std(error_rmse, error_std, ylim, y1label, y2label, yaxislabel, title_string, save_dir, file_name):\n",
    "\tt = torch.arange(error_rmse.size(0))/100\n",
    "\n",
    "\ty = error_rmse.cpu().detach().numpy()\n",
    "\tystd = error_std.cpu().detach().numpy()\n",
    "\n",
    "\tfig, ax = plt.subplots(figsize=(5, 2.5))\n",
    "\n",
    "\t# Plot each column with shaded std area\n",
    "\tcolors = [\"C0\", \"C1\"]\n",
    "\tfor i, label in enumerate([y1label, y2label]):\n",
    "\t\tax.plot(t, y[:, i], label=label, color = colors[i], linewidth = 2.5)\n",
    "\t\tax.fill_between(\n",
    "\t\t\tt,\n",
    "\t\t\t(y[:, i] - ystd[:, i]),\n",
    "\t\t\t(y[:, i] + ystd[:, i]),\n",
    "\t\t\talpha=0.1,\n",
    "\t\t\tcolor = colors[i]\n",
    "\t\t)\n",
    "\t\tax.plot(t, (y[:, i] - ystd[:, i]), linestyle=\"--\", color = colors[i], alpha = 0.5)\n",
    "\t\tax.plot(t, (y[:, i] + ystd[:, i]), linestyle=\"--\", color = colors[i], alpha = 0.5)\n",
    "\n",
    "\tax.set_xlabel('time (s)')\n",
    "\tax.set_ylabel(yaxislabel)\n",
    "\tax.set_title('SEA learned dynamics prediction error ' + title_string)\n",
    "\t#ax.set_ylim(ylim)\n",
    "\tax.set_xlim((0, error_rmse.size(0)/100))\n",
    "\tax.legend()\n",
    "\tax.grid()\n",
    "\tplt.tight_layout()\n",
    "\tplt.savefig(save_dir + file_name +\".pdf\", format=\"pdf\")\n",
    "\tplt.show()\n",
    "\t\n"
   ]
  },
  {
   "cell_type": "code",
   "execution_count": null,
   "metadata": {},
   "outputs": [],
   "source": [
    "\n",
    "plot_error_std(q_error_rmse, q_error_std, (0, 0.2), r\"$\\theta_0$\", r\"$\\theta_1$\", \"RMSE (rad)\", \"in original angles \" + r\"$\\theta$\", save_dir, \"/Dynamics_prediction_error_q\")"
   ]
  },
  {
   "cell_type": "code",
   "execution_count": null,
   "metadata": {},
   "outputs": [],
   "source": []
  }
 ],
 "metadata": {
  "kernelspec": {
   "display_name": "thesis2",
   "language": "python",
   "name": "python3"
  },
  "language_info": {
   "codemirror_mode": {
    "name": "ipython",
    "version": 3
   },
   "file_extension": ".py",
   "mimetype": "text/x-python",
   "name": "python",
   "nbconvert_exporter": "python",
   "pygments_lexer": "ipython3",
   "version": "3.11.10"
  }
 },
 "nbformat": 4,
 "nbformat_minor": 2
}
