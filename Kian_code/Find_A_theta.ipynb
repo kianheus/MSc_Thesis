{
 "cells": [
  {
   "cell_type": "code",
   "execution_count": 1,
   "id": "f8d1ac2c",
   "metadata": {},
   "outputs": [
    {
     "data": {
      "text/html": [
       "<style>.container { width:200% !important; }</style>"
      ],
      "text/plain": [
       "<IPython.core.display.HTML object>"
      ]
     },
     "metadata": {},
     "output_type": "display_data"
    }
   ],
   "source": [
    "import sympy as sp\n",
    "from IPython.display import display, HTML\n",
    "display(HTML(\"<style>.container { width:200% !important; }</style>\"))\n",
    "\n",
    "t = sp.Symbol('t')\n",
    "q1 = sp.Function(\"q1\")(t)\n",
    "q2 = sp.Function(\"q2\")(t)\n",
    "q1_dot = sp.diff(q1, t)\n",
    "q2_dot = sp.diff(q2, t)\n",
    "q1_ddot = sp.diff(q1_dot, t)\n",
    "q2_ddot = sp.diff(q2_dot, t)\n",
    "\n",
    "# Generalized coordinates and velocities\n",
    "q = [q1, q2]\n",
    "q_dot = sp.Matrix([q1_dot, q2_dot])\n",
    "q_ddot = sp.Matrix([q1_ddot, q2_ddot])\n",
    "\n",
    "# Define the link lengths and masses\n",
    "m1, m2, g = sp.symbols('m1 m2 g')\n",
    "l1, l2, lc1, lc2 = sp.symbols('l1 l2 lc1 lc2')\n",
    "J1, J2 = sp.symbols('J1 J2')"
   ]
  },
  {
   "cell_type": "code",
   "execution_count": 2,
   "id": "4ca8ce84",
   "metadata": {},
   "outputs": [],
   "source": [
    "from sympy.printing.str import StrPrinter\n",
    "\n",
    "class CustomStrPrinter(StrPrinter):\n",
    "    def _print_Pow(self, expr):\n",
    "        base, exp = expr.as_base_exp()\n",
    "        if exp == 1:\n",
    "            return self._print(base)\n",
    "        elif exp == -1:\n",
    "            return f\"1/({self._print(base)})\"\n",
    "        else:\n",
    "            return f\"{self._print(base)}^{self._print(exp)}\"\n",
    "\n",
    "# Use the custom printer\n",
    "def custom_pretty(expr):\n",
    "    return CustomStrPrinter().doprint(expr)"
   ]
  },
  {
   "cell_type": "code",
   "execution_count": 3,
   "id": "50492620",
   "metadata": {},
   "outputs": [
    {
     "name": "stdout",
     "output_type": "stream",
     "text": [
      "Matrix([\n",
      "[ l1*(lr2*sin(q1(t) - q2(t)) - xa*sin(q1(t)) + ya*cos(q1(t)))/Abs(l1*sin(q1(t)) + lr2*sin(q2(t)) - ya)^2 + Abs(l1*cos(q1(t)) + lr2*cos(q2(t)) - xa)^2^1/2],\n",
      "[lr2*(-l1*sin(q1(t) - q2(t)) - xa*sin(q2(t)) + ya*cos(q2(t)))/Abs(l1*sin(q1(t)) + lr2*sin(q2(t)) - ya)^2 + Abs(l1*cos(q1(t)) + lr2*cos(q2(t)) - xa)^2^1/2]])\n",
      "\n",
      "\n",
      "⎡            l₁⋅(lr₂⋅sin(q₁(t) - q₂(t)) - xa⋅sin(q₁(t)) + ya⋅cos(q₁(t)))             ⎤\n",
      "⎢────────────────────────────────────────────────────────────────────────────────────⎥\n",
      "⎢   _________________________________________________________________________________⎥\n",
      "⎢  ╱                                      2                                        2 ⎥\n",
      "⎢╲╱  │l₁⋅sin(q₁(t)) + lr₂⋅sin(q₂(t)) - ya│  + │l₁⋅cos(q₁(t)) + lr₂⋅cos(q₂(t)) - xa│  ⎥\n",
      "⎢                                                                                    ⎥\n",
      "⎢            lr₂⋅(-l₁⋅sin(q₁(t) - q₂(t)) - xa⋅sin(q₂(t)) + ya⋅cos(q₂(t)))            ⎥\n",
      "⎢────────────────────────────────────────────────────────────────────────────────────⎥\n",
      "⎢   _________________________________________________________________________________⎥\n",
      "⎢  ╱                                      2                                        2 ⎥\n",
      "⎣╲╱  │l₁⋅sin(q₁(t)) + lr₂⋅sin(q₂(t)) - ya│  + │l₁⋅cos(q₁(t)) + lr₂⋅cos(q₂(t)) - xa│  ⎦\n"
     ]
    }
   ],
   "source": [
    "# Actuator parameters\n",
    "xa, ya = sp.symbols('xa ya') #x, y coordinate of actuator\n",
    "\n",
    "# Rope connection length along joint 2\n",
    "lr2 = sp.symbols('lr2')\n",
    "kx = l1 * sp.cos(q1) + lr2 * sp.cos(q2)\n",
    "ky = l1 * sp.sin(q1) + lr2 * sp.sin(q2)\n",
    "\n",
    "k = sp.Matrix([[kx],\n",
    "               [ky]])\n",
    "\n",
    "dkdq1 = sp.diff(k, q1)\n",
    "dkdq2 = sp.diff(k, q2)\n",
    "\n",
    "R = sp.Matrix([[xa - kx],\n",
    "               [ya - ky]])\n",
    "Rx = R[0]\n",
    "Ry = R[1]\n",
    "r = R/R.norm()\n",
    "\n",
    "A1 = r.dot(dkdq1)\n",
    "A2 = r.dot(dkdq2)\n",
    "A = sp.Matrix([[A1],\n",
    "               [A2]])\n",
    "\n",
    "A = sp.simplify(A)\n",
    "print(custom_pretty(A))\n",
    "print(\"\\n\")\n",
    "sp.pprint(A, wrap_line=False)"
   ]
  },
  {
   "cell_type": "code",
   "execution_count": 4,
   "id": "ac4922e0",
   "metadata": {},
   "outputs": [
    {
     "name": "stdout",
     "output_type": "stream",
     "text": [
      "⎡       l₁⋅(-l₁ - lr₂⋅cos(q₁(t) - q₂(t)) + xa⋅cos(q₁(t)) + ya⋅sin(q₁(t)))               lr₂⋅(-l₁⋅cos(q₁(t) - q₂(t)) - lr₂ + xa⋅cos(q₂(t)) + ya⋅sin(q₂(t)))       ⎤\n",
      "⎢───────────────────────────────────────────────────────────────────────────────  ───────────────────────────────────────────────────────────────────────────────⎥\n",
      "⎢                                     2                                        2                                       2                                        2⎥\n",
      "⎢(l₁⋅sin(q₁(t)) + lr₂⋅sin(q₂(t)) - ya)  + (l₁⋅cos(q₁(t)) + lr₂⋅cos(q₂(t)) - xa)   (l₁⋅sin(q₁(t)) + lr₂⋅sin(q₂(t)) - ya)  + (l₁⋅cos(q₁(t)) + lr₂⋅cos(q₂(t)) - xa) ⎥\n",
      "⎢                                                                                                                                                                ⎥\n",
      "⎣                                       0                                                                                1                                       ⎦\n"
     ]
    }
   ],
   "source": [
    "h = sp.atan2(Rx, Ry)\n",
    "theta = sp.Matrix([[h],\n",
    "                   [q2]])\n",
    "\n",
    "Jh = theta.jacobian(q)\n",
    "Jh = sp.simplify(Jh)\n",
    "sp.pprint(Jh, wrap_line = False)"
   ]
  },
  {
   "cell_type": "code",
   "execution_count": 5,
   "id": "c7e53a00",
   "metadata": {},
   "outputs": [],
   "source": [
    "Jh_inv = Jh.inv()\n",
    "Jh_invtrans = Jh_inv.transpose()"
   ]
  },
  {
   "cell_type": "code",
   "execution_count": 6,
   "id": "8ad2bb3b",
   "metadata": {},
   "outputs": [
    {
     "name": "stdout",
     "output_type": "stream",
     "text": [
      "⎡                                                                                 ⎛  2                                                                              2                                                 2     2⎞                        ⎤\n",
      "⎢                       -(lr₂⋅sin(q₁(t) - q₂(t)) - xa⋅sin(q₁(t)) + ya⋅cos(q₁(t)))⋅⎝l₁  + 2⋅l₁⋅lr₂⋅cos(q₁(t) - q₂(t)) - 2⋅l₁⋅xa⋅cos(q₁(t)) - 2⋅l₁⋅ya⋅sin(q₁(t)) + lr₂  - 2⋅lr₂⋅xa⋅cos(q₂(t)) - 2⋅lr₂⋅ya⋅sin(q₂(t)) + xa  + ya ⎠                        ⎥\n",
      "⎢                       ───────────────────────────────────────────────────────────────────────────────────────────────────────────────────────────────────────────────────────────────────────────────────────────────────────                       ⎥\n",
      "⎢                                                    _________________________________________________________________________________                                                                                                                ⎥\n",
      "⎢                                                   ╱                                      2                                        2                                                                                                                 ⎥\n",
      "⎢                                                 ╲╱  │l₁⋅sin(q₁(t)) + lr₂⋅sin(q₂(t)) - ya│  + │l₁⋅cos(q₁(t)) + lr₂⋅cos(q₂(t)) - xa│  ⋅(l₁ + lr₂⋅cos(q₁(t) - q₂(t)) - xa⋅cos(q₁(t)) - ya⋅sin(q₁(t)))                                                  ⎥\n",
      "⎢                                                                                                                                                                                                                                                     ⎥\n",
      "⎢lr₂⋅(-(l₁⋅sin(q₁(t) - q₂(t)) + xa⋅sin(q₂(t)) - ya⋅cos(q₂(t)))⋅(l₁ + lr₂⋅cos(q₁(t) - q₂(t)) - xa⋅cos(q₁(t)) - ya⋅sin(q₁(t))) - (lr₂⋅sin(q₁(t) - q₂(t)) - xa⋅sin(q₁(t)) + ya⋅cos(q₁(t)))⋅(l₁⋅cos(q₁(t) - q₂(t)) + lr₂ - xa⋅cos(q₂(t)) - ya⋅sin(q₂(t))))⎥\n",
      "⎢─────────────────────────────────────────────────────────────────────────────────────────────────────────────────────────────────────────────────────────────────────────────────────────────────────────────────────────────────────────────────────⎥\n",
      "⎢                                                    _________________________________________________________________________________                                                                                                                ⎥\n",
      "⎢                                                   ╱                                      2                                        2                                                                                                                 ⎥\n",
      "⎣                                                 ╲╱  │l₁⋅sin(q₁(t)) + lr₂⋅sin(q₂(t)) - ya│  + │l₁⋅cos(q₁(t)) + lr₂⋅cos(q₂(t)) - xa│  ⋅(l₁ + lr₂⋅cos(q₁(t) - q₂(t)) - xa⋅cos(q₁(t)) - ya⋅sin(q₁(t)))                                                  ⎦\n"
     ]
    }
   ],
   "source": [
    "A_theta = Jh_invtrans * A\n",
    "A_theta = sp.simplify(A_theta)\n",
    "sp.pprint(A_theta, wrap_line = False)"
   ]
  },
  {
   "cell_type": "code",
   "execution_count": 7,
   "id": "51506e19",
   "metadata": {},
   "outputs": [
    {
     "name": "stdout",
     "output_type": "stream",
     "text": [
      "lr₂⋅((-l₁⋅sin(q₁(t) - q₂(t)) - xa⋅sin(q₂(t)) + ya⋅cos(q₂(t)))⋅(l₁ + lr₂⋅cos(q₁(t) - q₂(t)) - xa⋅cos(q₁(t)) - ya⋅sin(q₁(t))) + (-lr₂⋅sin(q₁(t) - q₂(t)) + xa⋅sin(q₁(t)) - ya⋅cos(q₁(t)))⋅(l₁⋅cos(q₁(t) - q₂(t)) + lr₂ - xa⋅cos(q₂(t)) - ya⋅sin(q₂(t))))\n"
     ]
    }
   ],
   "source": [
    "expr = lr2 * ((-l1*sp.sin(q1 - q2) - xa*sp.sin(q2) + ya*sp.cos(q2)) *\n",
    "              (l1 + lr2*sp.cos(q1 - q2) - xa*sp.cos(q1) - ya*sp.sin(q1)) +\n",
    "              (-lr2*sp.sin(q1 - q2) + xa*sp.sin(q1) - ya*sp.cos(q1)) *\n",
    "              (l1*sp.cos(q1 - q2) + lr2 - xa*sp.cos(q2) - ya*sp.sin(q2)))\n",
    "\n",
    "sp.pprint(expr, wrap_line=False)"
   ]
  },
  {
   "cell_type": "code",
   "execution_count": 8,
   "id": "0fff7a7a",
   "metadata": {},
   "outputs": [
    {
     "name": "stdout",
     "output_type": "stream",
     "text": [
      "2.45027466133665\n"
     ]
    }
   ],
   "source": [
    "l1 = 1\n",
    "lr2 = 2\n",
    "xa = 3\n",
    "ya = 4\n",
    "q1 = 0.1\n",
    "q2 = 0.2\n",
    "expr = lr2 * ((-l1*sp.sin(q1 - q2) - xa*sp.sin(q2) + ya*sp.cos(q2)) *\n",
    "              (l1 + lr2*sp.cos(q1 - q2) - xa*sp.cos(q1) - ya*sp.sin(q1)) +\n",
    "              (-lr2*sp.sin(q1 - q2) + xa*sp.sin(q1) - ya*sp.cos(q1)) *\n",
    "              (l1*sp.cos(q1 - q2) + lr2 - xa*sp.cos(q2) - ya*sp.sin(q2)))\n",
    "expr = sp.simplify(expr)\n",
    "sp.pprint(expr, wrap_line=False)"
   ]
  },
  {
   "cell_type": "code",
   "execution_count": null,
   "id": "c0974126",
   "metadata": {},
   "outputs": [],
   "source": []
  }
 ],
 "metadata": {
  "kernelspec": {
   "display_name": "Python (ics)",
   "language": "python",
   "name": "ics"
  },
  "language_info": {
   "codemirror_mode": {
    "name": "ipython",
    "version": 3
   },
   "file_extension": ".py",
   "mimetype": "text/x-python",
   "name": "python",
   "nbconvert_exporter": "python",
   "pygments_lexer": "ipython3",
   "version": "3.11.9"
  }
 },
 "nbformat": 4,
 "nbformat_minor": 5
}
