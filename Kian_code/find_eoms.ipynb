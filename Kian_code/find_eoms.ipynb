{
 "cells": [
  {
   "cell_type": "code",
   "execution_count": 1,
   "id": "b43582c4",
   "metadata": {},
   "outputs": [],
   "source": [
    "import sympy as sp\n",
    "\n",
    "t = sp.Symbol('t')\n",
    "q1= sp.Function(\"q1\")(t)\n",
    "q2= sp.Function(\"q2\")(t)\n",
    "q1_dot = sp.diff(q1, t)\n",
    "q2_dot = sp.diff(q2, t)\n",
    "q1_ddot = sp.diff(q1_dot, t)\n",
    "q2_ddot = sp.diff(q2_dot, t)\n",
    "\n",
    "# Define the link lengths and masses\n",
    "m1, m2, g = sp.symbols('m1 m2 g')\n",
    "l1, l2, lc1, lc2 = sp.symbols('l1 l2 lc1 lc2')\n",
    "J1, J2 = sp.symbols('J1 J2')\n",
    "\n",
    "# Positions of the center of mass for each link\n",
    "x1 = lc1 * sp.cos(q1)\n",
    "y1 = lc1 * sp.sin(q1)\n",
    "x2 = l1 * sp.cos(q1) + lc2 * sp.cos(q2)\n",
    "y2 = l1 * sp.sin(q1) + lc2 * sp.sin(q2)\n",
    "\n",
    "# Velocities of the center of mass for each link\n",
    "vx1 = sp.diff(x1, t)\n",
    "vy1 = sp.diff(y1, t)\n",
    "vx2 = sp.diff(x2, t)\n",
    "vy2 = sp.diff(y2, t)"
   ]
  },
  {
   "cell_type": "code",
   "execution_count": 2,
   "id": "22d6051c",
   "metadata": {},
   "outputs": [],
   "source": [
    "# Kinetic energy of each link\n",
    "T1 = 0.5 * m1 * (vx1**2 + vy1**2) + 0.5 * J1 * q1_dot**2\n",
    "T2 = 0.5 * m2 * (vx2**2 + vy2**2) + 0.5 * J2 * q2_dot**2\n",
    "\n",
    "# Total kinetic energy\n",
    "T = T1 + T2"
   ]
  },
  {
   "cell_type": "code",
   "execution_count": 3,
   "id": "1acbaf45",
   "metadata": {},
   "outputs": [
    {
     "name": "stdout",
     "output_type": "stream",
     "text": [
      "((Derivative(q1(t), (t, 2)), ddq1), (Derivative(q1(t), t), dq1), (q1(t), q1), (Derivative(q2(t), (t, 2)), ddq2), (Derivative(q2(t), t), dq2), (q2(t), q2))\n"
     ]
    }
   ],
   "source": [
    "# Potential energy of each link\n",
    "V1 = m1 * g * y1\n",
    "V2 = m2 * g * y2\n",
    "\n",
    "# Total potential energy\n",
    "V = V1 + V2\n",
    "\n",
    "# Lagrangian\n",
    "L = T - V\n",
    "\n",
    "# Generalized coordinates and velocities\n",
    "q = [q1, q2]\n",
    "q_dot = sp.Matrix([q1_dot, q2_dot])\n",
    "q_ddot = sp.Matrix([q1_ddot, q2_ddot])\n",
    "replacements = ()\n",
    "for i in range(2):\n",
    "    replacements += ((q[i].diff(t).diff(t), sp.Symbol(f'ddq{i + 1}')),\n",
    "                    (q[i].diff(t), sp.Symbol(f'dq{i + 1}')),\n",
    "                    (q[i], sp.Symbol(f'q{i + 1}')))\n",
    "\n",
    "print(replacements)"
   ]
  },
  {
   "cell_type": "code",
   "execution_count": 4,
   "id": "24fd786e",
   "metadata": {},
   "outputs": [
    {
     "name": "stdout",
     "output_type": "stream",
     "text": [
      "L_q1 = J1*ddq1\n",
      "       + ddq1*l1**2*m2\n",
      "       + ddq1*lc1**2*m1\n",
      "       + ddq2*l1*lc2*m2*cos(q1 - q2)\n",
      "       + dq2**2*l1*lc2*m2*sin(q1 - q2)\n",
      "       + g*l1*m2*cos(q1)\n",
      "       + g*lc1*m1*cos(q1)\n",
      "\n",
      "L_q2 = J2*ddq2\n",
      "       + ddq1*l1*lc2*m2*cos(q1 - q2)\n",
      "       + ddq2*lc2**2*m2 - dq1**2*l1*lc2*m2*sin(q1 - q2)\n",
      "       + g*lc2*m2*cos(q2)\n",
      "\n"
     ]
    }
   ],
   "source": [
    "# Lagrangian equations\n",
    "eoms = []\n",
    "for i in range(2):\n",
    "    L_qi = L.diff(q[i].diff(t)).diff(t) - L.diff(q[i])\n",
    "    L_qi = L_qi.simplify().subs(replacements)\n",
    "    eoms.append(L_qi)\n",
    "\n",
    "\n",
    "# L_q2 = sp.diff(sp.diff(L, q2_dot), t) - sp.diff(L, q2)\n",
    "# L_q2 = L_q2.simplify().subs({sp.diff(q2_dot, t): q2_ddot})\n",
    "# L_q3 = sp.diff(sp.diff(L, q3_dot), t) - sp.diff(L, q3)\n",
    "# L_q3 = L_q3.simplify().subs({sp.diff(q3_dot, t): q3_ddot})\n",
    "# Pretty print the mass matrix, Coriolis matrix, and equations of motion\n",
    "\n",
    "\n",
    "def format_lagrange(eom, name):\n",
    "    eom = str(eom).replace('1.0*','')\n",
    "    terms = str(eom).split('+')\n",
    "    formatted = f\"{name} = \" \n",
    "    for i, term in enumerate(terms):\n",
    "        if i == 0:\n",
    "            formatted += f\"{term.strip()}\\n\"\n",
    "        else:\n",
    "            formatted += f\"       + {term.strip()}\\n\"\n",
    "    return formatted\n",
    "\n",
    "L_q1_formatted = format_lagrange(eoms[0], \"L_q1\")\n",
    "L_q2_formatted = format_lagrange(eoms[1], \"L_q2\")\n",
    "\n",
    "# Print the formatted equations\n",
    "print(L_q1_formatted)\n",
    "print(L_q2_formatted)\n"
   ]
  },
  {
   "cell_type": "code",
   "execution_count": 5,
   "id": "9d0ede96",
   "metadata": {},
   "outputs": [
    {
     "name": "stdout",
     "output_type": "stream",
     "text": [
      "\n",
      "Mass Matrix (M):\n",
      "Matrix([\n",
      "[J1 + l1^2*m2 + lc1^2*m1, l1*lc2*m2*cos(q1 - q2)],\n",
      "[ l1*lc2*m2*cos(q1 - q2),          J2 + lc2^2*m2]])\n",
      "\n",
      "Coriolis Matrix (C):\n",
      "Matrix([\n",
      "[                          0, dq2*l1*lc2*m2*sin(q1 - q2)],\n",
      "[-dq1*l1*lc2*m2*sin(q1 - q2),                          0]])\n",
      "\n",
      "Gravitational Vector (G):\n",
      "Matrix([\n",
      "[g*(l1*m2 + lc1*m1)*cos(q1)],\n",
      "[          g*lc2*m2*cos(q2)]])\n"
     ]
    }
   ],
   "source": [
    "# Custom printer to replace ** with ^ and remove superscript formatting\n",
    "\n",
    "from sympy.printing.str import StrPrinter\n",
    "\n",
    "class CustomStrPrinter(StrPrinter):\n",
    "    def _print_Pow(self, expr):\n",
    "        base, exp = expr.as_base_exp()\n",
    "        if exp == 1:\n",
    "            return self._print(base)\n",
    "        elif exp == -1:\n",
    "            return f\"1/({self._print(base)})\"\n",
    "        else:\n",
    "            return f\"{self._print(base)}^{self._print(exp)}\"\n",
    "\n",
    "# Use the custom printer\n",
    "def custom_pretty(expr):\n",
    "    return CustomStrPrinter().doprint(expr)\n",
    "\n",
    "# Generalized velocity and acceleration\n",
    "q_dot = [q[0].diff(t), q[1].diff(t)]\n",
    "q_ddot = [q_dot[0].diff(t), q_dot[1].diff(t)]\n",
    "# Mass matrix (inertia matrix)\n",
    "M = sp.zeros(2)\n",
    "M4C = sp.zeros(2)\n",
    "for i in range(2):\n",
    "    for j in range(2):\n",
    "        M4C[i, j] = (T.diff(q_dot[i]).diff(q_dot[j])).simplify()\n",
    "        M[i, j] = M4C[i, j].subs(replacements)\n",
    "        # M[i, j] = sp.diff(T, q_dot[i], q_dot[j])\n",
    "M = sp.nsimplify(M)\n",
    "\n",
    "# Coriolis matrix\n",
    "C = sp.zeros(2, 2)\n",
    "for i in range(2):\n",
    "    for j in range(2):\n",
    "        for k in range(2):\n",
    "            C[i, j] += 0.5 * (M4C[i, j].diff(q[k]) + M4C[i, k].diff(q[j]) - M4C[j, k].diff(q[i])) * q_dot[k]\n",
    "        C[i, j] = C[i, j].simplify().subs(replacements)\n",
    "C = sp.nsimplify(C)\n",
    "\n",
    "# Gravitational force vector\n",
    "G = sp.zeros(2, 1)\n",
    "for i in range(2):\n",
    "    G[i] = V.diff(q[i]).simplify().subs(replacements)\n",
    "G = sp.nsimplify(G)\n",
    "\n",
    "# Print the matrices using the custom printer\n",
    "print(\"\\nMass Matrix (M):\")\n",
    "print(custom_pretty(M))\n",
    "\n",
    "print(\"\\nCoriolis Matrix (C):\")\n",
    "print(custom_pretty(C))\n",
    "\n",
    "print(\"\\nGravitational Vector (G):\")\n",
    "print(custom_pretty(G))"
   ]
  },
  {
   "cell_type": "code",
   "execution_count": 15,
   "id": "99f80ea1",
   "metadata": {},
   "outputs": [
    {
     "name": "stdout",
     "output_type": "stream",
     "text": [
      "Matrix([\n",
      "[ l1*(lr2*sin(q1(t) - q2(t)) - xa*sin(q1(t)) + ya*cos(q1(t)))/Abs(l1*sin(q1(t)) + lr2*sin(q2(t)) - ya)^2 + Abs(l1*cos(q1(t)) + lr2*cos(q2(t)) - xa)^2^1/2],\n",
      "[lr2*(-l1*sin(q1(t) - q2(t)) - xa*sin(q2(t)) + ya*cos(q2(t)))/Abs(l1*sin(q1(t)) + lr2*sin(q2(t)) - ya)^2 + Abs(l1*cos(q1(t)) + lr2*cos(q2(t)) - xa)^2^1/2]])\n"
     ]
    }
   ],
   "source": [
    "# Actuator parameters (pulley)\n",
    "xa, ya = sp.symbols('xa ya') #x, y coordinate of pulley center\n",
    "\n",
    "# Rope connection length along joint 2\n",
    "lr2 = sp.symbols('lr2')\n",
    "kx = l1 * sp.cos(q1) + lr2 * sp.cos(q2)\n",
    "ky = l1 * sp.sin(q1) + lr2 * sp.sin(q2)\n",
    "\n",
    "k = sp.Matrix([[kx],\n",
    "               [ky]])\n",
    "\n",
    "dkdq1 = sp.diff(k, q1)\n",
    "dkdq2 = sp.diff(k, q2)\n",
    "\n",
    "R = sp.Matrix([[xa - kx],\n",
    "               [ya - ky]])\n",
    "Rx = R[0]\n",
    "Ry = R[1]\n",
    "r = R/R.norm()\n",
    "\n",
    "A1 = r.dot(dkdq1)\n",
    "A2 = r.dot(dkdq2)\n",
    "A = sp.Matrix([[A1],\n",
    "               [A2]])\n",
    "A = sp.simplify(A)\n",
    "print(custom_pretty(A))"
   ]
  },
  {
   "cell_type": "code",
   "execution_count": 11,
   "id": "12ebe607",
   "metadata": {},
   "outputs": [],
   "source": [
    "h = sp.atan2(Rx, Ry)\n",
    "theta = sp.Matrix([[h],\n",
    "                   [q2]])\n",
    "theta = sp.Matrix([[q2],\n",
    "                   [h]])\n",
    "Jh = theta.jacobian(q)\n",
    "Jh = sp.simplify(Jh)"
   ]
  },
  {
   "cell_type": "code",
   "execution_count": 12,
   "id": "4d214328",
   "metadata": {},
   "outputs": [],
   "source": [
    "Jh_inv = Jh.inv()\n",
    "Jh_invtrans = Jh_inv.transpose()"
   ]
  },
  {
   "cell_type": "code",
   "execution_count": 17,
   "id": "7e9dda5d",
   "metadata": {
    "scrolled": true
   },
   "outputs": [
    {
     "data": {
      "text/html": [
       "<style>.container { width:200% !important; }</style>"
      ],
      "text/plain": [
       "<IPython.core.display.HTML object>"
      ]
     },
     "metadata": {},
     "output_type": "display_data"
    },
    {
     "name": "stdout",
     "output_type": "stream",
     "text": [
      "⎡lr₂⋅(-(l₁⋅sin(q₁(t) - q₂(t)) + xa⋅sin(q₂(t)) - ya⋅cos(q₂(t)))⋅(l₁ + lr₂⋅cos(q₁(t) - q₂(t)) - xa⋅cos(q₁(t)) - ya⋅sin(q₁(t))) - (lr₂⋅sin(q₁(t) - q₂(t)) - xa⋅sin(q₁(t)) + ya⋅cos(q₁(t)))⋅(l₁⋅cos(q₁(t) - q₂(t)) + lr₂ - xa⋅cos(q₂(t)) - ya⋅sin(q₂(t))))⎤\n",
      "⎢─────────────────────────────────────────────────────────────────────────────────────────────────────────────────────────────────────────────────────────────────────────────────────────────────────────────────────────────────────────────────────⎥\n",
      "⎢                                                    _________________________________________________________________________________                                                                                                                ⎥\n",
      "⎢                                                   ╱                                      2                                        2                                                                                                                 ⎥\n",
      "⎢                                                 ╲╱  │l₁⋅sin(q₁(t)) + lr₂⋅sin(q₂(t)) - ya│  + │l₁⋅cos(q₁(t)) + lr₂⋅cos(q₂(t)) - xa│  ⋅(l₁ + lr₂⋅cos(q₁(t) - q₂(t)) - xa⋅cos(q₁(t)) - ya⋅sin(q₁(t)))                                                  ⎥\n",
      "⎢                                                                                                                                                                                                                                                     ⎥\n",
      "⎢                                                                                 ⎛  2                                                                              2                                                 2     2⎞                        ⎥\n",
      "⎢                       -(lr₂⋅sin(q₁(t) - q₂(t)) - xa⋅sin(q₁(t)) + ya⋅cos(q₁(t)))⋅⎝l₁  + 2⋅l₁⋅lr₂⋅cos(q₁(t) - q₂(t)) - 2⋅l₁⋅xa⋅cos(q₁(t)) - 2⋅l₁⋅ya⋅sin(q₁(t)) + lr₂  - 2⋅lr₂⋅xa⋅cos(q₂(t)) - 2⋅lr₂⋅ya⋅sin(q₂(t)) + xa  + ya ⎠                        ⎥\n",
      "⎢                       ───────────────────────────────────────────────────────────────────────────────────────────────────────────────────────────────────────────────────────────────────────────────────────────────────────                       ⎥\n",
      "⎢                                                    _________________________________________________________________________________                                                                                                                ⎥\n",
      "⎢                                                   ╱                                      2                                        2                                                                                                                 ⎥\n",
      "⎣                                                 ╲╱  │l₁⋅sin(q₁(t)) + lr₂⋅sin(q₂(t)) - ya│  + │l₁⋅cos(q₁(t)) + lr₂⋅cos(q₂(t)) - xa│  ⋅(l₁ + lr₂⋅cos(q₁(t) - q₂(t)) - xa⋅cos(q₁(t)) - ya⋅sin(q₁(t)))                                                  ⎦\n"
     ]
    }
   ],
   "source": [
    "from IPython.display import display, HTML\n",
    "display(HTML(\"<style>.container { width:200% !important; }</style>\"))\n",
    "\n",
    "A_theta = Jh_invtrans * A\n",
    "A_theta = sp.simplify(A_theta)\n",
    "sp.pprint(A_theta, wrap_line = False)"
   ]
  },
  {
   "cell_type": "code",
   "execution_count": 14,
   "id": "369aa4ff",
   "metadata": {},
   "outputs": [
    {
     "name": "stdout",
     "output_type": "stream",
     "text": [
      "⎡lr₂⋅(-(l₁⋅sin(q₁(t) - q₂(t)) + xa⋅sin(q₂(t)) - ya⋅cos(q₂(t)))⋅(l₁ + lr₂⋅cos(q₁(t) - q₂(t)) - xa⋅cos(q₁(t)) - ya⋅sin(q₁(t))) - (lr₂⋅sin(q₁(t) - q₂(t)) - xa⋅sin(q₁(t)) + ya⋅cos(q₁(t)))⋅(l₁⋅cos(q₁(t) - q₂(t)) + lr₂ - xa⋅cos(q₂(t)) - ya⋅sin(q₂(t))))⎤\n",
      "⎢─────────────────────────────────────────────────────────────────────────────────────────────────────────────────────────────────────────────────────────────────────────────────────────────────────────────────────────────────────────────────────⎥\n",
      "⎢                                                    _________________________________________________________________________________                                                                                                                ⎥\n",
      "⎢                                                   ╱                                      2                                        2                                                                                                                 ⎥\n",
      "⎢                                                 ╲╱  │l₁⋅sin(q₁(t)) + lr₂⋅sin(q₂(t)) - ya│  + │l₁⋅cos(q₁(t)) + lr₂⋅cos(q₂(t)) - xa│  ⋅(l₁ + lr₂⋅cos(q₁(t) - q₂(t)) - xa⋅cos(q₁(t)) - ya⋅sin(q₁(t)))                                                  ⎥\n",
      "⎢                                                                                                                                                                                                                                                     ⎥\n",
      "⎢                                                                                 ⎛  2                                                                              2                                                 2     2⎞                        ⎥\n",
      "⎢                       -(lr₂⋅sin(q₁(t) - q₂(t)) - xa⋅sin(q₁(t)) + ya⋅cos(q₁(t)))⋅⎝l₁  + 2⋅l₁⋅lr₂⋅cos(q₁(t) - q₂(t)) - 2⋅l₁⋅xa⋅cos(q₁(t)) - 2⋅l₁⋅ya⋅sin(q₁(t)) + lr₂  - 2⋅lr₂⋅xa⋅cos(q₂(t)) - 2⋅lr₂⋅ya⋅sin(q₂(t)) + xa  + ya ⎠                        ⎥\n",
      "⎢                       ───────────────────────────────────────────────────────────────────────────────────────────────────────────────────────────────────────────────────────────────────────────────────────────────────────                       ⎥\n",
      "⎢                                                    _________________________________________________________________________________                                                                                                                ⎥\n",
      "⎢                                                   ╱                                      2                                        2                                                                                                                 ⎥\n",
      "⎣                                                 ╲╱  │l₁⋅sin(q₁(t)) + lr₂⋅sin(q₂(t)) - ya│  + │l₁⋅cos(q₁(t)) + lr₂⋅cos(q₂(t)) - xa│  ⋅(l₁ + lr₂⋅cos(q₁(t) - q₂(t)) - xa⋅cos(q₁(t)) - ya⋅sin(q₁(t)))                                                  ⎦\n",
      "⎡0⎤\n",
      "⎢ ⎥\n",
      "⎣0⎦\n"
     ]
    }
   ],
   "source": [
    "h2 = sp.asin(Rx/R.norm())\n",
    "theta2 = sp.Matrix([[h2],\n",
    "                    [q2]])\n",
    "\n",
    "Jh2 = theta.jacobian(q)\n",
    "Jh2 = sp.simplify(Jh2)\n",
    "\n",
    "Jh2_inv = Jh2.inv()\n",
    "Jh2_invtrans = Jh2_inv.transpose()\n",
    "\n",
    "A_theta2 = Jh2_invtrans * A\n",
    "A_theta2 = sp.simplify(A_theta2)\n",
    "sp.pprint(A_theta2,  wrap_line = False)\n",
    "\n",
    "sp.pprint(A_theta-A_theta2,  wrap_line = False)"
   ]
  },
  {
   "cell_type": "code",
   "execution_count": null,
   "id": "353a82fe",
   "metadata": {},
   "outputs": [],
   "source": []
  }
 ],
 "metadata": {
  "kernelspec": {
   "display_name": "Python (ics)",
   "language": "python",
   "name": "ics"
  },
  "language_info": {
   "codemirror_mode": {
    "name": "ipython",
    "version": 3
   },
   "file_extension": ".py",
   "mimetype": "text/x-python",
   "name": "python",
   "nbconvert_exporter": "python",
   "pygments_lexer": "ipython3",
   "version": "3.11.9"
  }
 },
 "nbformat": 4,
 "nbformat_minor": 5
}
