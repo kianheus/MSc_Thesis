{
 "cells": [
  {
   "cell_type": "code",
   "execution_count": 1,
   "id": "85bd716d",
   "metadata": {},
   "outputs": [
    {
     "name": "stdout",
     "output_type": "stream",
     "text": [
      "            l₁⋅(-lr₂⋅sin(q₁(t) - q₂(t)) + xa⋅sin(q₁(t)) - ya⋅cos(q₁(t)))            \n",
      "────────────────────────────────────────────────────────────────────────────────────\n",
      "   _________________________________________________________________________________\n",
      "  ╱                                      2                                        2 \n",
      "╲╱  (l₁⋅sin(q₁(t)) + lr₂⋅sin(q₂(t)) - ya)  + (l₁⋅cos(q₁(t)) + lr₂⋅cos(q₂(t)) - xa)  \n",
      "            lr₂⋅(l₁⋅sin(q₁(t) - q₂(t)) + xa⋅sin(q₂(t)) - ya⋅cos(q₂(t)))             \n",
      "────────────────────────────────────────────────────────────────────────────────────\n",
      "   _________________________________________________________________________________\n",
      "  ╱                                      2                                        2 \n",
      "╲╱  (l₁⋅sin(q₁(t)) + lr₂⋅sin(q₂(t)) - ya)  + (l₁⋅cos(q₁(t)) + lr₂⋅cos(q₂(t)) - xa)  \n",
      "Matrix([\n",
      "[-l1*(lr2*sin(q1(t) - q2(t)) - xa*sin(q1(t)) + ya*cos(q1(t)))/l1*sin(q1(t)) + lr2*sin(q2(t)) - ya^2 + l1*cos(q1(t)) + lr2*cos(q2(t)) - xa^2^1/2],\n",
      "[ lr2*(l1*sin(q1(t) - q2(t)) + xa*sin(q2(t)) - ya*cos(q2(t)))/l1*sin(q1(t)) + lr2*sin(q2(t)) - ya^2 + l1*cos(q1(t)) + lr2*cos(q2(t)) - xa^2^1/2]])\n",
      "\n",
      "\n",
      "⎡           -l₁⋅(lr₂⋅sin(q₁(t) - q₂(t)) - xa⋅sin(q₁(t)) + ya⋅cos(q₁(t)))             ⎤\n",
      "⎢────────────────────────────────────────────────────────────────────────────────────⎥\n",
      "⎢   _________________________________________________________________________________⎥\n",
      "⎢  ╱                                      2                                        2 ⎥\n",
      "⎢╲╱  (l₁⋅sin(q₁(t)) + lr₂⋅sin(q₂(t)) - ya)  + (l₁⋅cos(q₁(t)) + lr₂⋅cos(q₂(t)) - xa)  ⎥\n",
      "⎢                                                                                    ⎥\n",
      "⎢            lr₂⋅(l₁⋅sin(q₁(t) - q₂(t)) + xa⋅sin(q₂(t)) - ya⋅cos(q₂(t)))             ⎥\n",
      "⎢────────────────────────────────────────────────────────────────────────────────────⎥\n",
      "⎢   _________________________________________________________________________________⎥\n",
      "⎢  ╱                                      2                                        2 ⎥\n",
      "⎣╲╱  (l₁⋅sin(q₁(t)) + lr₂⋅sin(q₂(t)) - ya)  + (l₁⋅cos(q₁(t)) + lr₂⋅cos(q₂(t)) - xa)  ⎦\n",
      "⎡            l₁⋅(-lr₂⋅sin(q₁(t) - q₂(t)) + xa⋅sin(q₁(t)) - ya⋅cos(q₁(t)))                          lr₂⋅(l₁⋅sin(q₁(t) - q₂(t)) + xa⋅sin(q₂(t)) - ya⋅cos(q₂(t)))             ⎤\n",
      "⎢────────────────────────────────────────────────────────────────────────────────────  ────────────────────────────────────────────────────────────────────────────────────⎥\n",
      "⎢   _________________________________________________________________________________     _________________________________________________________________________________⎥\n",
      "⎢  ╱                                      2                                        2     ╱                                      2                                        2 ⎥\n",
      "⎢╲╱  (l₁⋅sin(q₁(t)) + lr₂⋅sin(q₂(t)) - ya)  + (l₁⋅cos(q₁(t)) + lr₂⋅cos(q₂(t)) - xa)    ╲╱  (l₁⋅sin(q₁(t)) + lr₂⋅sin(q₂(t)) - ya)  + (l₁⋅cos(q₁(t)) + lr₂⋅cos(q₂(t)) - xa)  ⎥\n",
      "⎢                                                                                                                                                                          ⎥\n",
      "⎣                                         1                                                                                     0                                          ⎦\n",
      "⎡1⎤\n",
      "⎢ ⎥\n",
      "⎣0⎦\n"
     ]
    }
   ],
   "source": [
    "import find_eoms\n",
    "import find_A_theta\n",
    "\n",
    "import torch\n",
    "from torch.utils.data import TensorDataset, Dataset, DataLoader"
   ]
  },
  {
   "cell_type": "code",
   "execution_count": 19,
   "id": "a49075fe",
   "metadata": {},
   "outputs": [],
   "source": [
    "import numpy as np\n",
    "torch.manual_seed(124121692)\n",
    "\n",
    "# Number of samples\n",
    "q1_low  = -10\n",
    "q1_high =  10\n",
    "q2_low  = -10\n",
    "q2_high =  10\n",
    "\n",
    "# Generate uniformly distributed points for q1 and q2\n",
    "#q1 = torch.random.uniform(low=-10, high=10, size=n_samples)\n",
    "#q2 = torch.random.uniform(low=-10, high=10, size=n_samples)\n",
    "q1 = torch.linspace(q1_low, q1_high, n_samples)\n",
    "q2 = torch.linspace(q2_low, q2_high, n_samples)\n",
    "\n",
    "# Stack q1 and q2 to get the 2D coordinates\n",
    "points = torch.stack([q1, q2], axis=1)  # Shape will be (1000, 2)"
   ]
  },
  {
   "cell_type": "code",
   "execution_count": 20,
   "id": "6e2bb2f7",
   "metadata": {},
   "outputs": [
    {
     "name": "stdout",
     "output_type": "stream",
     "text": [
      "<torch.utils.data.dataloader.DataLoader object at 0x7ff70e23a8a0>\n"
     ]
    }
   ],
   "source": [
    "# Use TensorDataset to create the dataset\n",
    "dataset = TensorDataset(points)\n",
    "\n",
    "# Create the DataLoader with batch size and shuffling\n",
    "batch_size = 32\n",
    "dataloader = DataLoader(dataset, batch_size=batch_size, shuffle=True)\n",
    "\n",
    "print(dataloader)\n",
    "\n",
    "# Example usage: iterate through the DataLoader\n",
    "for batch in dataloader:\n",
    "    #print(batch)\n",
    "    break  # Just to show one batch"
   ]
  },
  {
   "cell_type": "code",
   "execution_count": 21,
   "id": "6718026f",
   "metadata": {},
   "outputs": [
    {
     "name": "stdout",
     "output_type": "stream",
     "text": [
      "[tensor([[ 1.2112,  1.2112],\n",
      "        [ 1.1311,  1.1311],\n",
      "        [-3.3333, -3.3333],\n",
      "        [ 4.2342,  4.2342],\n",
      "        [-9.0190, -9.0190],\n",
      "        [ 9.5796,  9.5796],\n",
      "        [-2.4725, -2.4725],\n",
      "        [ 0.8709,  0.8709],\n",
      "        [-4.5345, -4.5345],\n",
      "        [-4.9750, -4.9750],\n",
      "        [ 4.0340,  4.0340],\n",
      "        [-0.4905, -0.4905],\n",
      "        [-5.3554, -5.3554],\n",
      "        [ 4.0140,  4.0140],\n",
      "        [ 7.1371,  7.1371],\n",
      "        [ 3.7137,  3.7137],\n",
      "        [-2.5325, -2.5325],\n",
      "        [-9.0791, -9.0791],\n",
      "        [-5.8759, -5.8759],\n",
      "        [-5.1151, -5.1151],\n",
      "        [-9.4194, -9.4194],\n",
      "        [-0.2703, -0.2703],\n",
      "        [-1.8118, -1.8118],\n",
      "        [-7.6977, -7.6977],\n",
      "        [ 4.3744,  4.3744],\n",
      "        [ 1.6316,  1.6316],\n",
      "        [-7.2372, -7.2372],\n",
      "        [-6.9970, -6.9970],\n",
      "        [-3.9740, -3.9740],\n",
      "        [ 8.3784,  8.3784],\n",
      "        [ 9.7598,  9.7598],\n",
      "        [-1.2913, -1.2913]])]\n",
      "[tensor([[-3.8539, -3.8539],\n",
      "        [-0.7908, -0.7908],\n",
      "        [-7.0170, -7.0170],\n",
      "        [ 1.0911,  1.0911],\n",
      "        [-5.3353, -5.3353],\n",
      "        [-3.5936, -3.5936],\n",
      "        [ 5.1952,  5.1952],\n",
      "        [-2.3924, -2.3924],\n",
      "        [-4.4344, -4.4344],\n",
      "        [ 5.6557,  5.6557],\n",
      "        [ 8.3584,  8.3584],\n",
      "        [-9.6597, -9.6597],\n",
      "        [ 1.4114,  1.4114],\n",
      "        [ 5.8158,  5.8158],\n",
      "        [-8.8789, -8.8789],\n",
      "        [ 1.5516,  1.5516],\n",
      "        [ 0.7508,  0.7508],\n",
      "        [-4.8549, -4.8549],\n",
      "        [-0.9710, -0.9710],\n",
      "        [-9.0390, -9.0390],\n",
      "        [-0.1101, -0.1101],\n",
      "        [-5.6957, -5.6957],\n",
      "        [ 9.1992,  9.1992],\n",
      "        [-1.6917, -1.6917],\n",
      "        [-7.1371, -7.1371],\n",
      "        [-6.0160, -6.0160],\n",
      "        [ 3.0731,  3.0731],\n",
      "        [-2.7127, -2.7127],\n",
      "        [-1.2713, -1.2713],\n",
      "        [-9.9600, -9.9600],\n",
      "        [-8.3784, -8.3784],\n",
      "        [ 7.6777,  7.6777]])]\n"
     ]
    }
   ],
   "source": [
    "dataiter = iter(dataloader)\n",
    "coordinates = next(dataiter)\n",
    "print(coordinates)\n",
    "coordinates = next(dataiter)\n",
    "print(coordinates)\n"
   ]
  },
  {
   "cell_type": "code",
   "execution_count": null,
   "id": "7783ab2d",
   "metadata": {},
   "outputs": [],
   "source": []
  }
 ],
 "metadata": {
  "kernelspec": {
   "display_name": "Python (thesis)",
   "language": "python",
   "name": "thesis"
  },
  "language_info": {
   "codemirror_mode": {
    "name": "ipython",
    "version": 3
   },
   "file_extension": ".py",
   "mimetype": "text/x-python",
   "name": "python",
   "nbconvert_exporter": "python",
   "pygments_lexer": "ipython3",
   "version": "3.12.4"
  }
 },
 "nbformat": 4,
 "nbformat_minor": 5
}
