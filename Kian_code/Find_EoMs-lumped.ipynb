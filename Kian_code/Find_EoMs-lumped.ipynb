{
 "cells": [
  {
   "cell_type": "code",
   "execution_count": 2,
   "id": "f8d1ac2c",
   "metadata": {},
   "outputs": [],
   "source": [
    "import sympy as sp\n",
    "\n",
    "t = sp.Symbol('t')\n",
    "q1 = sp.Function(\"q1\")(t)\n",
    "q2 = sp.Function(\"q2\")(t)\n",
    "q1_dot = sp.diff(q1, t)\n",
    "q2_dot = sp.diff(q2, t)\n",
    "q1_ddot = sp.diff(q1_dot, t)\n",
    "q2_ddot = sp.diff(q2_dot, t)\n",
    "\n",
    "# Generalized coordinates and velocities\n",
    "q = [q1, q2]\n",
    "q_dot = sp.Matrix([q1_dot, q2_dot])\n",
    "q_ddot = sp.Matrix([q1_ddot, q2_ddot])\n",
    "\n",
    "# Define the link lengths and masses\n",
    "m, g = sp.symbols('m g')\n",
    "l1, l2 = sp.symbols('l1 l2')\n",
    "J1, J2 = sp.symbols('J1 J2')"
   ]
  },
  {
   "cell_type": "code",
   "execution_count": 3,
   "id": "4ca8ce84",
   "metadata": {},
   "outputs": [],
   "source": [
    "from sympy.printing.str import StrPrinter\n",
    "\n",
    "class CustomStrPrinter(StrPrinter):\n",
    "    def _print_Pow(self, expr):\n",
    "        base, exp = expr.as_base_exp()\n",
    "        if exp == 1:\n",
    "            return self._print(base)\n",
    "        elif exp == -1:\n",
    "            return f\"1/({self._print(base)})\"\n",
    "        else:\n",
    "            return f\"{self._print(base)}^{self._print(exp)}\"\n",
    "\n",
    "# Use the custom printer\n",
    "def custom_pretty(expr):\n",
    "    return CustomStrPrinter().doprint(expr)"
   ]
  },
  {
   "cell_type": "code",
   "execution_count": 15,
   "id": "50492620",
   "metadata": {},
   "outputs": [
    {
     "name": "stdout",
     "output_type": "stream",
     "text": [
      "           l₁⋅(-l₂⋅sin(q₁(t) - q₂(t)) + xa⋅sin(q₁(t)) - ya⋅cos(q₁(t)))            \n",
      "──────────────────────────────────────────────────────────────────────────────────\n",
      "   _______________________________________________________________________________\n",
      "  ╱                                     2                                       2 \n",
      "╲╱  (l₁⋅sin(q₁(t)) + l₂⋅sin(q₂(t)) - ya)  + (l₁⋅cos(q₁(t)) + l₂⋅cos(q₂(t)) - xa)  \n",
      "            l₂⋅(l₁⋅sin(q₁(t) - q₂(t)) + xa⋅sin(q₂(t)) - ya⋅cos(q₂(t)))            \n",
      "──────────────────────────────────────────────────────────────────────────────────\n",
      "   _______________________________________________________________________________\n",
      "  ╱                                     2                                       2 \n",
      "╲╱  (l₁⋅sin(q₁(t)) + l₂⋅sin(q₂(t)) - ya)  + (l₁⋅cos(q₁(t)) + l₂⋅cos(q₂(t)) - xa)  \n"
     ]
    }
   ],
   "source": [
    "# Actuator parameters\n",
    "xa, ya = sp.symbols('xa ya') #x, y coordinate of actuator\n",
    "\n",
    "# Rope connection length along joint 2\n",
    "kx = l1 * sp.cos(q1) + l2 * sp.cos(q2)\n",
    "ky = l1 * sp.sin(q1) + l2 * sp.sin(q2)\n",
    "\n",
    "k = sp.Matrix([[kx],\n",
    "               [ky]])\n",
    "\n",
    "dkdq1 = sp.diff(k, q1)\n",
    "dkdq2 = sp.diff(k, q2)\n",
    "\n",
    "R = sp.Matrix([[xa - kx],\n",
    "               [ya - ky]])\n",
    "Rx = R[0]\n",
    "Ry = R[1]\n",
    "r = R/R.norm()\n",
    "\n",
    "l = sp.sqrt((xa - kx)**2 + (ya - ky)**2)\n",
    "alpha = sp.atan2((ya - ky),(xa - kx))\n",
    "\n",
    "\n",
    "A1 = sp.diff(l, q1).simplify()\n",
    "A2 = sp.diff(l, q2).simplify()\n",
    "sp.pprint(A1, wrap_line = False)\n",
    "sp.pprint(A2, wrap_line = False)\n",
    "\n",
    "A = sp.Matrix([[A1],\n",
    "               [A2]])\n",
    "\n",
    "A = sp.simplify(A)\n",
    "#print(custom_pretty(A))\n",
    "#print(\"\\n\")\n",
    "#sp.pprint(A, wrap_line=False)"
   ]
  },
  {
   "cell_type": "code",
   "execution_count": 16,
   "id": "ac4922e0",
   "metadata": {},
   "outputs": [
    {
     "name": "stdout",
     "output_type": "stream",
     "text": [
      "⎡           l₁⋅(-l₂⋅sin(q₁(t) - q₂(t)) + xa⋅sin(q₁(t)) - ya⋅cos(q₁(t)))                          l₂⋅(l₁⋅sin(q₁(t) - q₂(t)) + xa⋅sin(q₂(t)) - ya⋅cos(q₂(t)))            ⎤\n",
      "⎢──────────────────────────────────────────────────────────────────────────────────  ──────────────────────────────────────────────────────────────────────────────────⎥\n",
      "⎢   _______________________________________________________________________________     _______________________________________________________________________________⎥\n",
      "⎢  ╱                                     2                                       2     ╱                                     2                                       2 ⎥\n",
      "⎢╲╱  (l₁⋅sin(q₁(t)) + l₂⋅sin(q₂(t)) - ya)  + (l₁⋅cos(q₁(t)) + l₂⋅cos(q₂(t)) - xa)    ╲╱  (l₁⋅sin(q₁(t)) + l₂⋅sin(q₂(t)) - ya)  + (l₁⋅cos(q₁(t)) + l₂⋅cos(q₂(t)) - xa)  ⎥\n",
      "⎢                                                                                                                                                                      ⎥\n",
      "⎢         l₁⋅(l₁ + l₂⋅cos(q₁(t) - q₂(t)) - xa⋅cos(q₁(t)) - ya⋅sin(q₁(t)))                     l₂⋅(l₁⋅cos(q₁(t) - q₂(t)) + l₂ - xa⋅cos(q₂(t)) - ya⋅sin(q₂(t)))          ⎥\n",
      "⎢  ─────────────────────────────────────────────────────────────────────────────       ─────────────────────────────────────────────────────────────────────────────   ⎥\n",
      "⎢                                      2                                       2                                           2                                       2   ⎥\n",
      "⎣  (l₁⋅sin(q₁(t)) + l₂⋅sin(q₂(t)) - ya)  + (l₁⋅cos(q₁(t)) + l₂⋅cos(q₂(t)) - xa)        (l₁⋅sin(q₁(t)) + l₂⋅sin(q₂(t)) - ya)  + (l₁⋅cos(q₁(t)) + l₂⋅cos(q₂(t)) - xa)    ⎦\n"
     ]
    }
   ],
   "source": [
    "h1 = sp.atan2(Rx, Ry)\n",
    "h1 = l\n",
    "h2 = alpha\n",
    "theta = sp.Matrix([[h1],\n",
    "                   [h2]])\n",
    "\n",
    "Jh = theta.jacobian(q)\n",
    "Jh = sp.simplify(Jh)\n",
    "sp.pprint(Jh, wrap_line = False)"
   ]
  },
  {
   "cell_type": "code",
   "execution_count": 17,
   "id": "c7e53a00",
   "metadata": {},
   "outputs": [],
   "source": [
    "Jh_inv = Jh.inv()\n",
    "Jh_invtrans = Jh_inv.transpose()"
   ]
  },
  {
   "cell_type": "code",
   "execution_count": 18,
   "id": "8ad2bb3b",
   "metadata": {
    "scrolled": true
   },
   "outputs": [
    {
     "name": "stdout",
     "output_type": "stream",
     "text": [
      "⎡1⎤\n",
      "⎢ ⎥\n",
      "⎣0⎦\n"
     ]
    }
   ],
   "source": [
    "A_theta = Jh_invtrans * A\n",
    "A_theta = sp.simplify(A_theta)\n",
    "sp.pprint(A_theta, wrap_line = False)"
   ]
  },
  {
   "cell_type": "markdown",
   "id": "44f2cb3d",
   "metadata": {},
   "source": [
    "# Now to find the Mass, Coriolis & Centrifugal and Gravity matrix\n",
    "\n",
    "\n"
   ]
  },
  {
   "cell_type": "code",
   "execution_count": 19,
   "id": "ee4b05b1",
   "metadata": {},
   "outputs": [],
   "source": [
    "# Positions of the center of mass for each link\n",
    "# Defined in absolute angles from the horizontal \n",
    "x1 = l1 * sp.cos(q1)\n",
    "y1 = l1 * sp.sin(q1)\n",
    "x2 = l1 * sp.cos(q1) + l2 * sp.cos(q2)\n",
    "y2 = l1 * sp.sin(q1) + l2 * sp.sin(q2)\n",
    "\n",
    "# Velocities of the center of mass for each link\n",
    "vx1 = sp.diff(x1, t)\n",
    "vy1 = sp.diff(y1, t)\n",
    "vx2 = sp.diff(x2, t)\n",
    "vy2 = sp.diff(y2, t)"
   ]
  },
  {
   "cell_type": "code",
   "execution_count": 20,
   "id": "3024f9ab",
   "metadata": {},
   "outputs": [],
   "source": [
    "# Total kinetic energy\n",
    "T = 0.5 * m * (vx2**2 + vy2**2)"
   ]
  },
  {
   "cell_type": "code",
   "execution_count": 21,
   "id": "c49ba0d7",
   "metadata": {},
   "outputs": [],
   "source": [
    "# Total potential energy\n",
    "V = m * g * y2\n",
    "\n",
    "# Lagrangian\n",
    "L = T - V\n",
    "\n",
    "# Generalized coordinates and velocities\n",
    "q = [q1, q2]\n",
    "q_dot = sp.Matrix([q1_dot, q2_dot])\n",
    "q_ddot = sp.Matrix([q1_ddot, q2_ddot])\n",
    "replacements = ()\n",
    "for i in range(2):\n",
    "    replacements += ((q[i].diff(t).diff(t), sp.Symbol(f'ddq{i + 1}')),\n",
    "                    (q[i].diff(t), sp.Symbol(f'dq{i + 1}')),\n",
    "                    (q[i], sp.Symbol(f'q{i + 1}')))\n"
   ]
  },
  {
   "cell_type": "code",
   "execution_count": 22,
   "id": "8d81f271",
   "metadata": {},
   "outputs": [
    {
     "name": "stdout",
     "output_type": "stream",
     "text": [
      "L_q1 = l1*m*(ddq1*l1\n",
      "       + ddq2*l2*cos(q1 - q2)\n",
      "       + dq2**2*l2*sin(q1 - q2)\n",
      "       + g*cos(q1))\n",
      "\n",
      "L_q2 = l2*m*(ddq1*l1*cos(q1 - q2)\n",
      "       + ddq2*l2 - dq1**2*l1*sin(q1 - q2)\n",
      "       + g*cos(q2))\n",
      "\n"
     ]
    }
   ],
   "source": [
    "# Lagrangian equations\n",
    "eoms = []\n",
    "for i in range(2):\n",
    "    L_qi = L.diff(q[i].diff(t)).diff(t) - L.diff(q[i])\n",
    "    L_qi = L_qi.simplify().subs(replacements)\n",
    "    eoms.append(L_qi)\n",
    "\n",
    "\n",
    "# L_q2 = sp.diff(sp.diff(L, q2_dot), t) - sp.diff(L, q2)\n",
    "# L_q2 = L_q2.simplify().subs({sp.diff(q2_dot, t): q2_ddot})\n",
    "# L_q3 = sp.diff(sp.diff(L, q3_dot), t) - sp.diff(L, q3)\n",
    "# L_q3 = L_q3.simplify().subs({sp.diff(q3_dot, t): q3_ddot})\n",
    "# Pretty print the mass matrix, Coriolis matrix, and equations of motion\n",
    "\n",
    "\n",
    "def format_lagrange(eom, name):\n",
    "    eom = str(eom).replace('1.0*','')\n",
    "    terms = str(eom).split('+')\n",
    "    formatted = f\"{name} = \" \n",
    "    for i, term in enumerate(terms):\n",
    "        if i == 0:\n",
    "            formatted += f\"{term.strip()}\\n\"\n",
    "        else:\n",
    "            formatted += f\"       + {term.strip()}\\n\"\n",
    "    return formatted\n",
    "\n",
    "L_q1_formatted = format_lagrange(eoms[0], \"L_q1\")\n",
    "L_q2_formatted = format_lagrange(eoms[1], \"L_q2\")\n",
    "\n",
    "if __name__ == \"__main__\":\n",
    "    # Print the formatted equations\n",
    "    print(L_q1_formatted)\n",
    "    print(L_q2_formatted)\n"
   ]
  },
  {
   "cell_type": "code",
   "execution_count": 23,
   "id": "b1a83625",
   "metadata": {},
   "outputs": [
    {
     "name": "stdout",
     "output_type": "stream",
     "text": [
      "\n",
      "Mass Matrix (M):\n",
      "Matrix([\n",
      "[              l1^2*m, l1*l2*m*cos(q1 - q2)],\n",
      "[l1*l2*m*cos(q1 - q2),               l2^2*m]])\n",
      "\n",
      "Coriolis Matrix (C):\n",
      "Matrix([\n",
      "[                        0, dq2*l1*l2*m*sin(q1 - q2)],\n",
      "[-dq1*l1*l2*m*sin(q1 - q2),                        0]])\n",
      "\n",
      "Gravitational Vector (G):\n",
      "Matrix([\n",
      "[g*l1*m*cos(q1)],\n",
      "[g*l2*m*cos(q2)]])\n"
     ]
    }
   ],
   "source": [
    "# Custom printer to replace ** with ^ and remove superscript formatting\n",
    "\n",
    "from sympy.printing.str import StrPrinter\n",
    "\n",
    "class CustomStrPrinter(StrPrinter):\n",
    "    def _print_Pow(self, expr):\n",
    "        base, exp = expr.as_base_exp()\n",
    "        if exp == 1:\n",
    "            return self._print(base)\n",
    "        elif exp == -1:\n",
    "            return f\"1/({self._print(base)})\"\n",
    "        else:\n",
    "            return f\"{self._print(base)}^{self._print(exp)}\"\n",
    "\n",
    "# Use the custom printer\n",
    "def custom_pretty(expr):\n",
    "    return CustomStrPrinter().doprint(expr)\n",
    "\n",
    "# Generalized velocity and acceleration\n",
    "q_dot = [q[0].diff(t), q[1].diff(t)]\n",
    "q_ddot = [q_dot[0].diff(t), q_dot[1].diff(t)]\n",
    "# Mass matrix (inertia matrix)\n",
    "M = sp.zeros(2)\n",
    "M4C = sp.zeros(2)\n",
    "for i in range(2):\n",
    "    for j in range(2):\n",
    "        M4C[i, j] = (T.diff(q_dot[i]).diff(q_dot[j])).simplify()\n",
    "        M[i, j] = M4C[i, j].subs(replacements)\n",
    "        # M[i, j] = sp.diff(T, q_dot[i], q_dot[j])\n",
    "M = sp.nsimplify(M)\n",
    "\n",
    "# Coriolis matrix\n",
    "C = sp.zeros(2, 2)\n",
    "for i in range(2):\n",
    "    for j in range(2):\n",
    "        for k in range(2):\n",
    "            C[i, j] += 0.5 * (M4C[i, j].diff(q[k]) + M4C[i, k].diff(q[j]) - M4C[j, k].diff(q[i])) * q_dot[k]\n",
    "        C[i, j] = C[i, j].simplify().subs(replacements)\n",
    "C = sp.nsimplify(C)\n",
    "\n",
    "# Gravitational force vector\n",
    "G = sp.zeros(2, 1)\n",
    "for i in range(2):\n",
    "    G[i] = V.diff(q[i]).simplify().subs(replacements)\n",
    "G = sp.nsimplify(G)\n",
    "\n",
    "if __name__ == \"__main__\":\n",
    "    # Print the matrices using the custom printer\n",
    "    print(\"\\nMass Matrix (M):\")\n",
    "    print(custom_pretty(M))\n",
    "\n",
    "    print(\"\\nCoriolis Matrix (C):\")\n",
    "    print(custom_pretty(C))\n",
    "\n",
    "    print(\"\\nGravitational Vector (G):\")\n",
    "    print(custom_pretty(G))"
   ]
  },
  {
   "cell_type": "code",
   "execution_count": 35,
   "id": "03ac2072",
   "metadata": {},
   "outputs": [
    {
     "name": "stdout",
     "output_type": "stream",
     "text": [
      "⎡           l₁⋅(-l₂⋅sin(q₁(t) - q₂(t)) + xa⋅sin(q₁(t)) - ya⋅cos(q₁(t)))            ⎤\n",
      "⎢──────────────────────────────────────────────────────────────────────────────────⎥\n",
      "⎢   _______________________________________________________________________________⎥\n",
      "⎢  ╱                                     2                                       2 ⎥\n",
      "⎢╲╱  (l₁⋅sin(q₁(t)) + l₂⋅sin(q₂(t)) - ya)  + (l₁⋅cos(q₁(t)) + l₂⋅cos(q₂(t)) - xa)  ⎥\n",
      "⎢                                                                                  ⎥\n",
      "⎢         l₁⋅(l₁ + l₂⋅cos(q₁(t) - q₂(t)) - xa⋅cos(q₁(t)) - ya⋅sin(q₁(t)))          ⎥\n",
      "⎢  ─────────────────────────────────────────────────────────────────────────────   ⎥\n",
      "⎢                                      2                                       2   ⎥\n",
      "⎣  (l₁⋅sin(q₁(t)) + l₂⋅sin(q₂(t)) - ya)  + (l₁⋅cos(q₁(t)) + l₂⋅cos(q₂(t)) - xa)    ⎦\n"
     ]
    }
   ],
   "source": [
    "A = (xa - kx)\n",
    "B = (ya - ky)\n",
    "\n",
    "h = sp.Matrix([[sp.sqrt(A**2+B**2)],\n",
    "               [sp.atan2(B, A)]])\n",
    "\n",
    "\n",
    "h1q1 = sp.simplify(sp.diff(h, q1))\n",
    "sp.pprint(h1q1, wrap_line = False)"
   ]
  },
  {
   "cell_type": "code",
   "execution_count": 30,
   "id": "0eae6116",
   "metadata": {},
   "outputs": [
    {
     "name": "stdout",
     "output_type": "stream",
     "text": [
      "⎡  l₂⋅(l₁⋅cos(q₁(t)) + l₂⋅cos(q₂(t)) - xa)⋅(l₁⋅cos(q₁(t) - q₂(t)) + l₂ - xa⋅cos(q₂(t)) - ya⋅sin(q₂(t)))       -(l₁⋅cos(q₁(t)) + l₂⋅cos(q₂(t)) - xa)⋅(l₁ + l₂⋅cos(q₁(t) - q₂(t)) - xa⋅cos(q₁(t)) - ya⋅sin(q₁(t)))    ⎤\n",
      "⎢─────────────────────────────────────────────────────────────────────────────────────────────────────────  ────────────────────────────────────────────────────────────────────────────────────────────────────────⎥\n",
      "⎢       _______________________________________________________________________________                           _______________________________________________________________________________                   ⎥\n",
      "⎢  2   ╱                                     2                                       2                           ╱                                     2                                       2                    ⎥\n",
      "⎢l₁ ⋅╲╱  (l₁⋅sin(q₁(t)) + l₂⋅sin(q₂(t)) - ya)  + (l₁⋅cos(q₁(t)) + l₂⋅cos(q₂(t)) - xa)  ⋅sin(q₁(t) - q₂(t))  l₁⋅╲╱  (l₁⋅sin(q₁(t)) + l₂⋅sin(q₂(t)) - ya)  + (l₁⋅cos(q₁(t)) + l₂⋅cos(q₂(t)) - xa)  ⋅sin(q₁(t) - q₂(t))⎥\n",
      "⎢                                                                                                                                                                                                                   ⎥\n",
      "⎢     -(l₁⋅sin(q₁(t) - q₂(t)) + xa⋅sin(q₂(t)) - ya⋅cos(q₂(t)))⋅(l₁⋅cos(q₁(t)) + l₂⋅cos(q₂(t)) - xa)              -(l₁⋅cos(q₁(t)) + l₂⋅cos(q₂(t)) - xa)⋅(l₂⋅sin(q₁(t) - q₂(t)) - xa⋅sin(q₁(t)) + ya⋅cos(q₁(t)))      ⎥\n",
      "⎢     ──────────────────────────────────────────────────────────────────────────────────────────────             ──────────────────────────────────────────────────────────────────────────────────────────────     ⎥\n",
      "⎣                                         l₁⋅sin(q₁(t) - q₂(t))                                                                                      l₂⋅sin(q₁(t) - q₂(t))                                          ⎦\n"
     ]
    }
   ],
   "source": [
    "Jh_inv = sp.Matrix([[(A*l2*sp.cos(q2)+B*l2*sp.sin(q2))/(sp.sqrt(A**2+B**2)*l1*l1*sp.sin(q1-q2)),\n",
    "                     (A*l2*sp.sin(q2)-B*l2*sp.cos(q2))/(l1*l2*sp.sin(q1-q2))],\n",
    "                   [(-A*l1*sp.cos(q1)-B*l1*sp.sin(q1))/(sp.sqrt(A**2+B**2)*l1*l1*sp.sin(q1-q2)),\n",
    "                    (-A*l1*sp.sin(q1)+B*l1*sp.cos(q1))/(l1*l2*sp.sin(q1-q2))]])\n",
    "Jh_inv = sp.simplify(Jh_inv)\n",
    "Jh_invtrans = Jh_inv.transpose()\n",
    "A_theta = Jh_invtrans * A\n",
    "A_theta = sp.simplify(A_theta)\n",
    "sp.pprint(A_theta, wrap_line = False)"
   ]
  },
  {
   "cell_type": "code",
   "execution_count": null,
   "id": "cd9d238f",
   "metadata": {},
   "outputs": [],
   "source": []
  }
 ],
 "metadata": {
  "kernelspec": {
   "display_name": "Python (thesis)",
   "language": "python",
   "name": "thesis"
  },
  "language_info": {
   "codemirror_mode": {
    "name": "ipython",
    "version": 3
   },
   "file_extension": ".py",
   "mimetype": "text/x-python",
   "name": "python",
   "nbconvert_exporter": "python",
   "pygments_lexer": "ipython3",
   "version": "3.12.4"
  }
 },
 "nbformat": 4,
 "nbformat_minor": 5
}
