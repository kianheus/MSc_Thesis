{
 "cells": [
  {
   "cell_type": "code",
   "execution_count": 1,
   "id": "f8d1ac2c",
   "metadata": {},
   "outputs": [
    {
     "data": {
      "text/html": [
       "<style>.container { width:300% !important; }</style>"
      ],
      "text/plain": [
       "<IPython.core.display.HTML object>"
      ]
     },
     "metadata": {},
     "output_type": "display_data"
    }
   ],
   "source": [
    "from IPython.display import display, HTML\n",
    "display(HTML(\"<style>.container { width:300% !important; }</style>\"))\n",
    "\n",
    "import sympy as sp\n",
    "\n",
    "t = sp.Symbol('t')\n",
    "q1 = sp.Function(\"q1\")(t)\n",
    "q2 = sp.Function(\"q2\")(t)\n",
    "q1_dot = sp.diff(q1, t)\n",
    "q2_dot = sp.diff(q2, t)\n",
    "q1_ddot = sp.diff(q1_dot, t)\n",
    "q2_ddot = sp.diff(q2_dot, t)\n",
    "\n",
    "# Generalized coordinates and velocities\n",
    "q = [q1, q2]\n",
    "q_dot = sp.Matrix([q1_dot, q2_dot])\n",
    "q_ddot = sp.Matrix([q1_ddot, q2_ddot])\n",
    "\n",
    "# Define the link lengths and masses\n",
    "m, g = sp.symbols('m g')\n",
    "l1, l2 = sp.symbols('l1 l2')\n",
    "J1, J2 = sp.symbols('J1 J2')"
   ]
  },
  {
   "cell_type": "code",
   "execution_count": 2,
   "id": "50492620",
   "metadata": {},
   "outputs": [
    {
     "name": "stdout",
     "output_type": "stream",
     "text": [
      "\n",
      "\n",
      "⎡           -l₁⋅(l₂⋅sin(q₁(t) - q₂(t)) - xa⋅sin(q₁(t)) + ya⋅cos(q₁(t)))            ⎤\n",
      "⎢──────────────────────────────────────────────────────────────────────────────────⎥\n",
      "⎢   _______________________________________________________________________________⎥\n",
      "⎢  ╱                                     2                                       2 ⎥\n",
      "⎢╲╱  (l₁⋅sin(q₁(t)) + l₂⋅sin(q₂(t)) - ya)  + (l₁⋅cos(q₁(t)) + l₂⋅cos(q₂(t)) - xa)  ⎥\n",
      "⎢                                                                                  ⎥\n",
      "⎢            l₂⋅(l₁⋅sin(q₁(t) - q₂(t)) + xa⋅sin(q₂(t)) - ya⋅cos(q₂(t)))            ⎥\n",
      "⎢──────────────────────────────────────────────────────────────────────────────────⎥\n",
      "⎢   _______________________________________________________________________________⎥\n",
      "⎢  ╱                                     2                                       2 ⎥\n",
      "⎣╲╱  (l₁⋅sin(q₁(t)) + l₂⋅sin(q₂(t)) - ya)  + (l₁⋅cos(q₁(t)) + l₂⋅cos(q₂(t)) - xa)  ⎦\n"
     ]
    }
   ],
   "source": [
    "# Actuator parameters\n",
    "xa, ya = sp.symbols('xa ya') #x, y coordinate of actuator\n",
    "\n",
    "# Rope connection length along joint 2\n",
    "kx = l1 * sp.cos(q1) + l2 * sp.cos(q2)\n",
    "ky = l1 * sp.sin(q1) + l2 * sp.sin(q2)\n",
    "k = sp.Matrix([[kx],\n",
    "               [ky]])\n",
    "\n",
    "#R = sp.Matrix([[xa - kx],\n",
    "#               [ya - ky]])\n",
    "#Rx = R[0]\n",
    "#Ry = R[1]\n",
    "#r = R/R.norm()\n",
    "\n",
    "l = sp.sqrt((xa - kx)**2 + (ya - ky)**2)\n",
    "alpha = sp.atan2((ya - ky),(xa - kx))\n",
    "\n",
    "\n",
    "A1 = sp.diff(l, q1).simplify()\n",
    "A2 = sp.diff(l, q2).simplify()\n",
    "A_q = sp.simplify(sp.Matrix([[A1],\n",
    "                  [A2]]))\n",
    "\n",
    "print(\"\\n\")\n",
    "sp.pprint(A_q, wrap_line=False)"
   ]
  },
  {
   "cell_type": "code",
   "execution_count": 3,
   "id": "ac4922e0",
   "metadata": {},
   "outputs": [
    {
     "name": "stdout",
     "output_type": "stream",
     "text": [
      "⎡           l₁⋅(-l₂⋅sin(q₁(t) - q₂(t)) + xa⋅sin(q₁(t)) - ya⋅cos(q₁(t)))                          l₂⋅(l₁⋅sin(q₁(t) - q₂(t)) + xa⋅sin(q₂(t)) - ya⋅cos(q₂(t)))            ⎤\n",
      "⎢──────────────────────────────────────────────────────────────────────────────────  ──────────────────────────────────────────────────────────────────────────────────⎥\n",
      "⎢   _______________________________________________________________________________     _______________________________________________________________________________⎥\n",
      "⎢  ╱                                     2                                       2     ╱                                     2                                       2 ⎥\n",
      "⎢╲╱  (l₁⋅sin(q₁(t)) + l₂⋅sin(q₂(t)) - ya)  + (l₁⋅cos(q₁(t)) + l₂⋅cos(q₂(t)) - xa)    ╲╱  (l₁⋅sin(q₁(t)) + l₂⋅sin(q₂(t)) - ya)  + (l₁⋅cos(q₁(t)) + l₂⋅cos(q₂(t)) - xa)  ⎥\n",
      "⎢                                                                                                                                                                      ⎥\n",
      "⎢         l₁⋅(l₁ + l₂⋅cos(q₁(t) - q₂(t)) - xa⋅cos(q₁(t)) - ya⋅sin(q₁(t)))                     l₂⋅(l₁⋅cos(q₁(t) - q₂(t)) + l₂ - xa⋅cos(q₂(t)) - ya⋅sin(q₂(t)))          ⎥\n",
      "⎢  ─────────────────────────────────────────────────────────────────────────────       ─────────────────────────────────────────────────────────────────────────────   ⎥\n",
      "⎢                                      2                                       2                                           2                                       2   ⎥\n",
      "⎣  (l₁⋅sin(q₁(t)) + l₂⋅sin(q₂(t)) - ya)  + (l₁⋅cos(q₁(t)) + l₂⋅cos(q₂(t)) - xa)        (l₁⋅sin(q₁(t)) + l₂⋅sin(q₂(t)) - ya)  + (l₁⋅cos(q₁(t)) + l₂⋅cos(q₂(t)) - xa)    ⎦\n"
     ]
    }
   ],
   "source": [
    "h1 = l\n",
    "h2 = alpha\n",
    "theta = sp.Matrix([[h1],\n",
    "                   [h2]])\n",
    "\n",
    "Jh = theta.jacobian(q)\n",
    "Jh = sp.simplify(Jh)\n",
    "sp.pprint(Jh, wrap_line = False)"
   ]
  },
  {
   "cell_type": "markdown",
   "id": "9e84e694",
   "metadata": {},
   "source": [
    "# Jh_inv obtained from Mathematica code (Find_EoMs-lumped.nb)"
   ]
  },
  {
   "cell_type": "code",
   "execution_count": 5,
   "id": "c7e53a00",
   "metadata": {},
   "outputs": [
    {
     "ename": "KeyboardInterrupt",
     "evalue": "",
     "output_type": "error",
     "traceback": [
      "\u001b[0;31m---------------------------------------------------------------------------\u001b[0m",
      "\u001b[0;31mKeyboardInterrupt\u001b[0m                         Traceback (most recent call last)",
      "Cell \u001b[0;32mIn[5], line 1\u001b[0m\n\u001b[0;32m----> 1\u001b[0m Jh_inv \u001b[38;5;241m=\u001b[39m sp\u001b[38;5;241m.\u001b[39msimplify(\u001b[43mJh\u001b[49m\u001b[38;5;241;43m.\u001b[39;49m\u001b[43minv\u001b[49m\u001b[43m(\u001b[49m\u001b[43m)\u001b[49m)\n\u001b[1;32m      2\u001b[0m Jh_invtrans \u001b[38;5;241m=\u001b[39m Jh_inv\u001b[38;5;241m.\u001b[39mtranspose()\n",
      "File \u001b[0;32m~/anaconda3/envs/thesis/lib/python3.12/site-packages/sympy/matrices/matrixbase.py:5225\u001b[0m, in \u001b[0;36mMatrixBase.inv\u001b[0;34m(self, method, iszerofunc, try_block_diag)\u001b[0m\n\u001b[1;32m   5224\u001b[0m \u001b[38;5;28;01mdef\u001b[39;00m \u001b[38;5;21minv\u001b[39m(\u001b[38;5;28mself\u001b[39m, method\u001b[38;5;241m=\u001b[39m\u001b[38;5;28;01mNone\u001b[39;00m, iszerofunc\u001b[38;5;241m=\u001b[39m_iszero, try_block_diag\u001b[38;5;241m=\u001b[39m\u001b[38;5;28;01mFalse\u001b[39;00m):\n\u001b[0;32m-> 5225\u001b[0m     \u001b[38;5;28;01mreturn\u001b[39;00m \u001b[43m_inv\u001b[49m\u001b[43m(\u001b[49m\u001b[38;5;28;43mself\u001b[39;49m\u001b[43m,\u001b[49m\u001b[43m \u001b[49m\u001b[43mmethod\u001b[49m\u001b[38;5;241;43m=\u001b[39;49m\u001b[43mmethod\u001b[49m\u001b[43m,\u001b[49m\u001b[43m \u001b[49m\u001b[43miszerofunc\u001b[49m\u001b[38;5;241;43m=\u001b[39;49m\u001b[43miszerofunc\u001b[49m\u001b[43m,\u001b[49m\n\u001b[1;32m   5226\u001b[0m \u001b[43m            \u001b[49m\u001b[43mtry_block_diag\u001b[49m\u001b[38;5;241;43m=\u001b[39;49m\u001b[43mtry_block_diag\u001b[49m\u001b[43m)\u001b[49m\n",
      "File \u001b[0;32m~/anaconda3/envs/thesis/lib/python3.12/site-packages/sympy/matrices/inverse.py:508\u001b[0m, in \u001b[0;36m_inv\u001b[0;34m(M, method, iszerofunc, try_block_diag)\u001b[0m\n\u001b[1;32m    506\u001b[0m     rv \u001b[38;5;241m=\u001b[39m _inv_DM(dM, cancel\u001b[38;5;241m=\u001b[39m\u001b[38;5;28;01mFalse\u001b[39;00m)\n\u001b[1;32m    507\u001b[0m \u001b[38;5;28;01melif\u001b[39;00m method \u001b[38;5;241m==\u001b[39m \u001b[38;5;124m\"\u001b[39m\u001b[38;5;124mGE\u001b[39m\u001b[38;5;124m\"\u001b[39m:\n\u001b[0;32m--> 508\u001b[0m     rv \u001b[38;5;241m=\u001b[39m \u001b[43mM\u001b[49m\u001b[38;5;241;43m.\u001b[39;49m\u001b[43minverse_GE\u001b[49m\u001b[43m(\u001b[49m\u001b[43miszerofunc\u001b[49m\u001b[38;5;241;43m=\u001b[39;49m\u001b[43miszerofunc\u001b[49m\u001b[43m)\u001b[49m\n\u001b[1;32m    509\u001b[0m \u001b[38;5;28;01melif\u001b[39;00m method \u001b[38;5;241m==\u001b[39m \u001b[38;5;124m\"\u001b[39m\u001b[38;5;124mLU\u001b[39m\u001b[38;5;124m\"\u001b[39m:\n\u001b[1;32m    510\u001b[0m     rv \u001b[38;5;241m=\u001b[39m M\u001b[38;5;241m.\u001b[39minverse_LU(iszerofunc\u001b[38;5;241m=\u001b[39miszerofunc)\n",
      "File \u001b[0;32m~/anaconda3/envs/thesis/lib/python3.12/site-packages/sympy/matrices/matrixbase.py:5210\u001b[0m, in \u001b[0;36mMatrixBase.inverse_GE\u001b[0;34m(self, iszerofunc)\u001b[0m\n\u001b[1;32m   5209\u001b[0m \u001b[38;5;28;01mdef\u001b[39;00m \u001b[38;5;21minverse_GE\u001b[39m(\u001b[38;5;28mself\u001b[39m, iszerofunc\u001b[38;5;241m=\u001b[39m_iszero):\n\u001b[0;32m-> 5210\u001b[0m     \u001b[38;5;28;01mreturn\u001b[39;00m \u001b[43m_inv_GE\u001b[49m\u001b[43m(\u001b[49m\u001b[38;5;28;43mself\u001b[39;49m\u001b[43m,\u001b[49m\u001b[43m \u001b[49m\u001b[43miszerofunc\u001b[49m\u001b[38;5;241;43m=\u001b[39;49m\u001b[43miszerofunc\u001b[49m\u001b[43m)\u001b[49m\n",
      "File \u001b[0;32m~/anaconda3/envs/thesis/lib/python3.12/site-packages/sympy/matrices/inverse.py:196\u001b[0m, in \u001b[0;36m_inv_GE\u001b[0;34m(M, iszerofunc)\u001b[0m\n\u001b[1;32m    193\u001b[0m     \u001b[38;5;28;01mraise\u001b[39;00m NonSquareMatrixError(\u001b[38;5;124m\"\u001b[39m\u001b[38;5;124mA Matrix must be square to invert.\u001b[39m\u001b[38;5;124m\"\u001b[39m)\n\u001b[1;32m    195\u001b[0m big \u001b[38;5;241m=\u001b[39m Matrix\u001b[38;5;241m.\u001b[39mhstack(M\u001b[38;5;241m.\u001b[39mas_mutable(), Matrix\u001b[38;5;241m.\u001b[39meye(M\u001b[38;5;241m.\u001b[39mrows))\n\u001b[0;32m--> 196\u001b[0m red \u001b[38;5;241m=\u001b[39m \u001b[43mbig\u001b[49m\u001b[38;5;241;43m.\u001b[39;49m\u001b[43mrref\u001b[49m\u001b[43m(\u001b[49m\u001b[43miszerofunc\u001b[49m\u001b[38;5;241;43m=\u001b[39;49m\u001b[43miszerofunc\u001b[49m\u001b[43m,\u001b[49m\u001b[43m \u001b[49m\u001b[43msimplify\u001b[49m\u001b[38;5;241;43m=\u001b[39;49m\u001b[38;5;28;43;01mTrue\u001b[39;49;00m\u001b[43m)\u001b[49m[\u001b[38;5;241m0\u001b[39m]\n\u001b[1;32m    198\u001b[0m \u001b[38;5;28;01mif\u001b[39;00m \u001b[38;5;28many\u001b[39m(iszerofunc(red[j, j]) \u001b[38;5;28;01mfor\u001b[39;00m j \u001b[38;5;129;01min\u001b[39;00m \u001b[38;5;28mrange\u001b[39m(red\u001b[38;5;241m.\u001b[39mrows)):\n\u001b[1;32m    199\u001b[0m     \u001b[38;5;28;01mraise\u001b[39;00m NonInvertibleMatrixError(\u001b[38;5;124m\"\u001b[39m\u001b[38;5;124mMatrix det == 0; not invertible.\u001b[39m\u001b[38;5;124m\"\u001b[39m)\n",
      "File \u001b[0;32m~/anaconda3/envs/thesis/lib/python3.12/site-packages/sympy/matrices/matrixbase.py:3141\u001b[0m, in \u001b[0;36mMatrixBase.rref\u001b[0;34m(self, iszerofunc, simplify, pivots, normalize_last)\u001b[0m\n\u001b[1;32m   3139\u001b[0m \u001b[38;5;28;01mdef\u001b[39;00m \u001b[38;5;21mrref\u001b[39m(\u001b[38;5;28mself\u001b[39m, iszerofunc\u001b[38;5;241m=\u001b[39m_iszero, simplify\u001b[38;5;241m=\u001b[39m\u001b[38;5;28;01mFalse\u001b[39;00m, pivots\u001b[38;5;241m=\u001b[39m\u001b[38;5;28;01mTrue\u001b[39;00m,\n\u001b[1;32m   3140\u001b[0m         normalize_last\u001b[38;5;241m=\u001b[39m\u001b[38;5;28;01mTrue\u001b[39;00m):\n\u001b[0;32m-> 3141\u001b[0m     \u001b[38;5;28;01mreturn\u001b[39;00m \u001b[43m_rref\u001b[49m\u001b[43m(\u001b[49m\u001b[38;5;28;43mself\u001b[39;49m\u001b[43m,\u001b[49m\u001b[43m \u001b[49m\u001b[43miszerofunc\u001b[49m\u001b[38;5;241;43m=\u001b[39;49m\u001b[43miszerofunc\u001b[49m\u001b[43m,\u001b[49m\u001b[43m \u001b[49m\u001b[43msimplify\u001b[49m\u001b[38;5;241;43m=\u001b[39;49m\u001b[43msimplify\u001b[49m\u001b[43m,\u001b[49m\n\u001b[1;32m   3142\u001b[0m \u001b[43m        \u001b[49m\u001b[43mpivots\u001b[49m\u001b[38;5;241;43m=\u001b[39;49m\u001b[43mpivots\u001b[49m\u001b[43m,\u001b[49m\u001b[43m \u001b[49m\u001b[43mnormalize_last\u001b[49m\u001b[38;5;241;43m=\u001b[39;49m\u001b[43mnormalize_last\u001b[49m\u001b[43m)\u001b[49m\n",
      "File \u001b[0;32m~/anaconda3/envs/thesis/lib/python3.12/site-packages/sympy/matrices/reductions.py:381\u001b[0m, in \u001b[0;36m_rref\u001b[0;34m(M, iszerofunc, simplify, pivots, normalize_last)\u001b[0m\n\u001b[1;32m    378\u001b[0m     \u001b[38;5;28;01melse\u001b[39;00m:\n\u001b[1;32m    379\u001b[0m         simpfunc \u001b[38;5;241m=\u001b[39m _simplify\n\u001b[0;32m--> 381\u001b[0m     mat, pivot_cols, _ \u001b[38;5;241m=\u001b[39m \u001b[43m_row_reduce\u001b[49m\u001b[43m(\u001b[49m\u001b[43mM\u001b[49m\u001b[43m,\u001b[49m\u001b[43m \u001b[49m\u001b[43miszerofunc\u001b[49m\u001b[43m,\u001b[49m\u001b[43m \u001b[49m\u001b[43msimpfunc\u001b[49m\u001b[43m,\u001b[49m\n\u001b[1;32m    382\u001b[0m \u001b[43m            \u001b[49m\u001b[43mnormalize_last\u001b[49m\u001b[43m,\u001b[49m\u001b[43m \u001b[49m\u001b[43mnormalize\u001b[49m\u001b[38;5;241;43m=\u001b[39;49m\u001b[38;5;28;43;01mTrue\u001b[39;49;00m\u001b[43m,\u001b[49m\u001b[43m \u001b[49m\u001b[43mzero_above\u001b[49m\u001b[38;5;241;43m=\u001b[39;49m\u001b[38;5;28;43;01mTrue\u001b[39;49;00m\u001b[43m)\u001b[49m\n\u001b[1;32m    384\u001b[0m \u001b[38;5;28;01mif\u001b[39;00m pivots:\n\u001b[1;32m    385\u001b[0m     \u001b[38;5;28;01mreturn\u001b[39;00m mat, pivot_cols\n",
      "File \u001b[0;32m~/anaconda3/envs/thesis/lib/python3.12/site-packages/sympy/matrices/reductions.py:127\u001b[0m, in \u001b[0;36m_row_reduce\u001b[0;34m(M, iszerofunc, simpfunc, normalize_last, normalize, zero_above)\u001b[0m\n\u001b[1;32m    124\u001b[0m \u001b[38;5;28;01mdef\u001b[39;00m \u001b[38;5;21m_row_reduce\u001b[39m(M, iszerofunc, simpfunc, normalize_last\u001b[38;5;241m=\u001b[39m\u001b[38;5;28;01mTrue\u001b[39;00m,\n\u001b[1;32m    125\u001b[0m                 normalize\u001b[38;5;241m=\u001b[39m\u001b[38;5;28;01mTrue\u001b[39;00m, zero_above\u001b[38;5;241m=\u001b[39m\u001b[38;5;28;01mTrue\u001b[39;00m):\n\u001b[0;32m--> 127\u001b[0m     mat, pivot_cols, swaps \u001b[38;5;241m=\u001b[39m \u001b[43m_row_reduce_list\u001b[49m\u001b[43m(\u001b[49m\u001b[38;5;28;43mlist\u001b[39;49m\u001b[43m(\u001b[49m\u001b[43mM\u001b[49m\u001b[43m)\u001b[49m\u001b[43m,\u001b[49m\u001b[43m \u001b[49m\u001b[43mM\u001b[49m\u001b[38;5;241;43m.\u001b[39;49m\u001b[43mrows\u001b[49m\u001b[43m,\u001b[49m\u001b[43m \u001b[49m\u001b[43mM\u001b[49m\u001b[38;5;241;43m.\u001b[39;49m\u001b[43mcols\u001b[49m\u001b[43m,\u001b[49m\u001b[43m \u001b[49m\u001b[43mM\u001b[49m\u001b[38;5;241;43m.\u001b[39;49m\u001b[43mone\u001b[49m\u001b[43m,\u001b[49m\n\u001b[1;32m    128\u001b[0m \u001b[43m            \u001b[49m\u001b[43miszerofunc\u001b[49m\u001b[43m,\u001b[49m\u001b[43m \u001b[49m\u001b[43msimpfunc\u001b[49m\u001b[43m,\u001b[49m\u001b[43m \u001b[49m\u001b[43mnormalize_last\u001b[49m\u001b[38;5;241;43m=\u001b[39;49m\u001b[43mnormalize_last\u001b[49m\u001b[43m,\u001b[49m\n\u001b[1;32m    129\u001b[0m \u001b[43m            \u001b[49m\u001b[43mnormalize\u001b[49m\u001b[38;5;241;43m=\u001b[39;49m\u001b[43mnormalize\u001b[49m\u001b[43m,\u001b[49m\u001b[43m \u001b[49m\u001b[43mzero_above\u001b[49m\u001b[38;5;241;43m=\u001b[39;49m\u001b[43mzero_above\u001b[49m\u001b[43m)\u001b[49m\n\u001b[1;32m    131\u001b[0m     \u001b[38;5;28;01mreturn\u001b[39;00m M\u001b[38;5;241m.\u001b[39m_new(M\u001b[38;5;241m.\u001b[39mrows, M\u001b[38;5;241m.\u001b[39mcols, mat), pivot_cols, swaps\n",
      "File \u001b[0;32m~/anaconda3/envs/thesis/lib/python3.12/site-packages/sympy/matrices/reductions.py:118\u001b[0m, in \u001b[0;36m_row_reduce_list\u001b[0;34m(mat, rows, cols, one, iszerofunc, simpfunc, normalize_last, normalize, zero_above)\u001b[0m\n\u001b[1;32m    116\u001b[0m         mat[piv_i\u001b[38;5;241m*\u001b[39mcols \u001b[38;5;241m+\u001b[39m piv_j] \u001b[38;5;241m=\u001b[39m one\n\u001b[1;32m    117\u001b[0m         \u001b[38;5;28;01mfor\u001b[39;00m p \u001b[38;5;129;01min\u001b[39;00m \u001b[38;5;28mrange\u001b[39m(piv_i\u001b[38;5;241m*\u001b[39mcols \u001b[38;5;241m+\u001b[39m piv_j \u001b[38;5;241m+\u001b[39m \u001b[38;5;241m1\u001b[39m, (piv_i \u001b[38;5;241m+\u001b[39m \u001b[38;5;241m1\u001b[39m)\u001b[38;5;241m*\u001b[39mcols):\n\u001b[0;32m--> 118\u001b[0m             mat[p] \u001b[38;5;241m=\u001b[39m \u001b[43misimp\u001b[49m\u001b[43m(\u001b[49m\u001b[43mmat\u001b[49m\u001b[43m[\u001b[49m\u001b[43mp\u001b[49m\u001b[43m]\u001b[49m\u001b[43m \u001b[49m\u001b[38;5;241;43m/\u001b[39;49m\u001b[43m \u001b[49m\u001b[43mpivot_val\u001b[49m\u001b[43m)\u001b[49m\n\u001b[1;32m    120\u001b[0m \u001b[38;5;28;01mreturn\u001b[39;00m mat, \u001b[38;5;28mtuple\u001b[39m(pivot_cols), \u001b[38;5;28mtuple\u001b[39m(swaps)\n",
      "File \u001b[0;32m~/anaconda3/envs/thesis/lib/python3.12/site-packages/sympy/matrices/utilities.py:27\u001b[0m, in \u001b[0;36m_dotprodsimp\u001b[0;34m(expr, withsimp)\u001b[0m\n\u001b[1;32m     25\u001b[0m \u001b[38;5;250m\u001b[39m\u001b[38;5;124;03m\"\"\"Wrapper for simplify.dotprodsimp to avoid circular imports.\"\"\"\u001b[39;00m\n\u001b[1;32m     26\u001b[0m \u001b[38;5;28;01mfrom\u001b[39;00m \u001b[38;5;21;01msympy\u001b[39;00m\u001b[38;5;21;01m.\u001b[39;00m\u001b[38;5;21;01msimplify\u001b[39;00m\u001b[38;5;21;01m.\u001b[39;00m\u001b[38;5;21;01msimplify\u001b[39;00m \u001b[38;5;28;01mimport\u001b[39;00m dotprodsimp \u001b[38;5;28;01mas\u001b[39;00m dps\n\u001b[0;32m---> 27\u001b[0m \u001b[38;5;28;01mreturn\u001b[39;00m \u001b[43mdps\u001b[49m\u001b[43m(\u001b[49m\u001b[43mexpr\u001b[49m\u001b[43m,\u001b[49m\u001b[43m \u001b[49m\u001b[43mwithsimp\u001b[49m\u001b[38;5;241;43m=\u001b[39;49m\u001b[43mwithsimp\u001b[49m\u001b[43m)\u001b[49m\n",
      "File \u001b[0;32m~/anaconda3/envs/thesis/lib/python3.12/site-packages/sympy/simplify/simplify.py:2084\u001b[0m, in \u001b[0;36mdotprodsimp\u001b[0;34m(expr, withsimp)\u001b[0m\n\u001b[1;32m   2081\u001b[0m simplified \u001b[38;5;241m=\u001b[39m \u001b[38;5;28;01mFalse\u001b[39;00m \u001b[38;5;66;03m# doesn't really mean simplified, rather \"can simplify again\"\u001b[39;00m\n\u001b[1;32m   2083\u001b[0m \u001b[38;5;28;01mif\u001b[39;00m \u001b[38;5;28misinstance\u001b[39m(expr, Basic) \u001b[38;5;129;01mand\u001b[39;00m (expr\u001b[38;5;241m.\u001b[39mis_Add \u001b[38;5;129;01mor\u001b[39;00m expr\u001b[38;5;241m.\u001b[39mis_Mul \u001b[38;5;129;01mor\u001b[39;00m expr\u001b[38;5;241m.\u001b[39mis_Pow):\n\u001b[0;32m-> 2084\u001b[0m     expr2 \u001b[38;5;241m=\u001b[39m \u001b[43mexpr\u001b[49m\u001b[38;5;241;43m.\u001b[39;49m\u001b[43mexpand\u001b[49m\u001b[43m(\u001b[49m\u001b[43mdeep\u001b[49m\u001b[38;5;241;43m=\u001b[39;49m\u001b[38;5;28;43;01mTrue\u001b[39;49;00m\u001b[43m,\u001b[49m\u001b[43m \u001b[49m\u001b[43mmodulus\u001b[49m\u001b[38;5;241;43m=\u001b[39;49m\u001b[38;5;28;43;01mNone\u001b[39;49;00m\u001b[43m,\u001b[49m\u001b[43m \u001b[49m\u001b[43mpower_base\u001b[49m\u001b[38;5;241;43m=\u001b[39;49m\u001b[38;5;28;43;01mFalse\u001b[39;49;00m\u001b[43m,\u001b[49m\n\u001b[1;32m   2085\u001b[0m \u001b[43m        \u001b[49m\u001b[43mpower_exp\u001b[49m\u001b[38;5;241;43m=\u001b[39;49m\u001b[38;5;28;43;01mFalse\u001b[39;49;00m\u001b[43m,\u001b[49m\u001b[43m \u001b[49m\u001b[43mmul\u001b[49m\u001b[38;5;241;43m=\u001b[39;49m\u001b[38;5;28;43;01mTrue\u001b[39;49;00m\u001b[43m,\u001b[49m\u001b[43m \u001b[49m\u001b[43mlog\u001b[49m\u001b[38;5;241;43m=\u001b[39;49m\u001b[38;5;28;43;01mFalse\u001b[39;49;00m\u001b[43m,\u001b[49m\u001b[43m \u001b[49m\u001b[43mmultinomial\u001b[49m\u001b[38;5;241;43m=\u001b[39;49m\u001b[38;5;28;43;01mTrue\u001b[39;49;00m\u001b[43m,\u001b[49m\u001b[43m \u001b[49m\u001b[43mbasic\u001b[49m\u001b[38;5;241;43m=\u001b[39;49m\u001b[38;5;28;43;01mFalse\u001b[39;49;00m\u001b[43m)\u001b[49m\n\u001b[1;32m   2087\u001b[0m     \u001b[38;5;28;01mif\u001b[39;00m expr2 \u001b[38;5;241m!=\u001b[39m expr:\n\u001b[1;32m   2088\u001b[0m         expr       \u001b[38;5;241m=\u001b[39m expr2\n",
      "File \u001b[0;32m~/anaconda3/envs/thesis/lib/python3.12/site-packages/sympy/core/cache.py:72\u001b[0m, in \u001b[0;36m__cacheit.<locals>.func_wrapper.<locals>.wrapper\u001b[0;34m(*args, **kwargs)\u001b[0m\n\u001b[1;32m     69\u001b[0m \u001b[38;5;129m@wraps\u001b[39m(func)\n\u001b[1;32m     70\u001b[0m \u001b[38;5;28;01mdef\u001b[39;00m \u001b[38;5;21mwrapper\u001b[39m(\u001b[38;5;241m*\u001b[39margs, \u001b[38;5;241m*\u001b[39m\u001b[38;5;241m*\u001b[39mkwargs):\n\u001b[1;32m     71\u001b[0m     \u001b[38;5;28;01mtry\u001b[39;00m:\n\u001b[0;32m---> 72\u001b[0m         retval \u001b[38;5;241m=\u001b[39m \u001b[43mcfunc\u001b[49m\u001b[43m(\u001b[49m\u001b[38;5;241;43m*\u001b[39;49m\u001b[43margs\u001b[49m\u001b[43m,\u001b[49m\u001b[43m \u001b[49m\u001b[38;5;241;43m*\u001b[39;49m\u001b[38;5;241;43m*\u001b[39;49m\u001b[43mkwargs\u001b[49m\u001b[43m)\u001b[49m\n\u001b[1;32m     73\u001b[0m     \u001b[38;5;28;01mexcept\u001b[39;00m \u001b[38;5;167;01mTypeError\u001b[39;00m \u001b[38;5;28;01mas\u001b[39;00m e:\n\u001b[1;32m     74\u001b[0m         \u001b[38;5;28;01mif\u001b[39;00m \u001b[38;5;129;01mnot\u001b[39;00m e\u001b[38;5;241m.\u001b[39margs \u001b[38;5;129;01mor\u001b[39;00m \u001b[38;5;129;01mnot\u001b[39;00m e\u001b[38;5;241m.\u001b[39margs[\u001b[38;5;241m0\u001b[39m]\u001b[38;5;241m.\u001b[39mstartswith(\u001b[38;5;124m'\u001b[39m\u001b[38;5;124munhashable type:\u001b[39m\u001b[38;5;124m'\u001b[39m):\n",
      "File \u001b[0;32m~/anaconda3/envs/thesis/lib/python3.12/site-packages/sympy/core/expr.py:3681\u001b[0m, in \u001b[0;36mExpr.expand\u001b[0;34m(self, deep, modulus, power_base, power_exp, mul, log, multinomial, basic, **hints)\u001b[0m\n\u001b[1;32m   3678\u001b[0m     expr, _ \u001b[38;5;241m=\u001b[39m Expr\u001b[38;5;241m.\u001b[39m_expand_hint(\n\u001b[1;32m   3679\u001b[0m         expr, \u001b[38;5;124m'\u001b[39m\u001b[38;5;124m_eval_expand_multinomial\u001b[39m\u001b[38;5;124m'\u001b[39m, deep\u001b[38;5;241m=\u001b[39mdeep, \u001b[38;5;241m*\u001b[39m\u001b[38;5;241m*\u001b[39mhints)\n\u001b[1;32m   3680\u001b[0m \u001b[38;5;28;01mif\u001b[39;00m hints\u001b[38;5;241m.\u001b[39mget(\u001b[38;5;124m'\u001b[39m\u001b[38;5;124mmul\u001b[39m\u001b[38;5;124m'\u001b[39m, \u001b[38;5;28;01mFalse\u001b[39;00m):\n\u001b[0;32m-> 3681\u001b[0m     expr, _ \u001b[38;5;241m=\u001b[39m \u001b[43mExpr\u001b[49m\u001b[38;5;241;43m.\u001b[39;49m\u001b[43m_expand_hint\u001b[49m\u001b[43m(\u001b[49m\n\u001b[1;32m   3682\u001b[0m \u001b[43m        \u001b[49m\u001b[43mexpr\u001b[49m\u001b[43m,\u001b[49m\u001b[43m \u001b[49m\u001b[38;5;124;43m'\u001b[39;49m\u001b[38;5;124;43m_eval_expand_mul\u001b[39;49m\u001b[38;5;124;43m'\u001b[39;49m\u001b[43m,\u001b[49m\u001b[43m \u001b[49m\u001b[43mdeep\u001b[49m\u001b[38;5;241;43m=\u001b[39;49m\u001b[43mdeep\u001b[49m\u001b[43m,\u001b[49m\u001b[43m \u001b[49m\u001b[38;5;241;43m*\u001b[39;49m\u001b[38;5;241;43m*\u001b[39;49m\u001b[43mhints\u001b[49m\u001b[43m)\u001b[49m\n\u001b[1;32m   3683\u001b[0m \u001b[38;5;28;01mif\u001b[39;00m hints\u001b[38;5;241m.\u001b[39mget(\u001b[38;5;124m'\u001b[39m\u001b[38;5;124mlog\u001b[39m\u001b[38;5;124m'\u001b[39m, \u001b[38;5;28;01mFalse\u001b[39;00m):\n\u001b[1;32m   3684\u001b[0m     expr, _ \u001b[38;5;241m=\u001b[39m Expr\u001b[38;5;241m.\u001b[39m_expand_hint(\n\u001b[1;32m   3685\u001b[0m         expr, \u001b[38;5;124m'\u001b[39m\u001b[38;5;124m_eval_expand_log\u001b[39m\u001b[38;5;124m'\u001b[39m, deep\u001b[38;5;241m=\u001b[39mdeep, \u001b[38;5;241m*\u001b[39m\u001b[38;5;241m*\u001b[39mhints)\n",
      "File \u001b[0;32m~/anaconda3/envs/thesis/lib/python3.12/site-packages/sympy/core/expr.py:3604\u001b[0m, in \u001b[0;36mExpr._expand_hint\u001b[0;34m(expr, hint, deep, **hints)\u001b[0m\n\u001b[1;32m   3602\u001b[0m sargs \u001b[38;5;241m=\u001b[39m []\n\u001b[1;32m   3603\u001b[0m \u001b[38;5;28;01mfor\u001b[39;00m arg \u001b[38;5;129;01min\u001b[39;00m expr\u001b[38;5;241m.\u001b[39margs:\n\u001b[0;32m-> 3604\u001b[0m     arg, arghit \u001b[38;5;241m=\u001b[39m \u001b[43mExpr\u001b[49m\u001b[38;5;241;43m.\u001b[39;49m\u001b[43m_expand_hint\u001b[49m\u001b[43m(\u001b[49m\u001b[43marg\u001b[49m\u001b[43m,\u001b[49m\u001b[43m \u001b[49m\u001b[43mhint\u001b[49m\u001b[43m,\u001b[49m\u001b[43m \u001b[49m\u001b[38;5;241;43m*\u001b[39;49m\u001b[38;5;241;43m*\u001b[39;49m\u001b[43mhints\u001b[49m\u001b[43m)\u001b[49m\n\u001b[1;32m   3605\u001b[0m     hit \u001b[38;5;241m|\u001b[39m\u001b[38;5;241m=\u001b[39m arghit\n\u001b[1;32m   3606\u001b[0m     sargs\u001b[38;5;241m.\u001b[39mappend(arg)\n",
      "File \u001b[0;32m~/anaconda3/envs/thesis/lib/python3.12/site-packages/sympy/core/expr.py:3604\u001b[0m, in \u001b[0;36mExpr._expand_hint\u001b[0;34m(expr, hint, deep, **hints)\u001b[0m\n\u001b[1;32m   3602\u001b[0m sargs \u001b[38;5;241m=\u001b[39m []\n\u001b[1;32m   3603\u001b[0m \u001b[38;5;28;01mfor\u001b[39;00m arg \u001b[38;5;129;01min\u001b[39;00m expr\u001b[38;5;241m.\u001b[39margs:\n\u001b[0;32m-> 3604\u001b[0m     arg, arghit \u001b[38;5;241m=\u001b[39m \u001b[43mExpr\u001b[49m\u001b[38;5;241;43m.\u001b[39;49m\u001b[43m_expand_hint\u001b[49m\u001b[43m(\u001b[49m\u001b[43marg\u001b[49m\u001b[43m,\u001b[49m\u001b[43m \u001b[49m\u001b[43mhint\u001b[49m\u001b[43m,\u001b[49m\u001b[43m \u001b[49m\u001b[38;5;241;43m*\u001b[39;49m\u001b[38;5;241;43m*\u001b[39;49m\u001b[43mhints\u001b[49m\u001b[43m)\u001b[49m\n\u001b[1;32m   3605\u001b[0m     hit \u001b[38;5;241m|\u001b[39m\u001b[38;5;241m=\u001b[39m arghit\n\u001b[1;32m   3606\u001b[0m     sargs\u001b[38;5;241m.\u001b[39mappend(arg)\n",
      "    \u001b[0;31m[... skipping similar frames: Expr._expand_hint at line 3604 (4 times)]\u001b[0m\n",
      "File \u001b[0;32m~/anaconda3/envs/thesis/lib/python3.12/site-packages/sympy/core/expr.py:3604\u001b[0m, in \u001b[0;36mExpr._expand_hint\u001b[0;34m(expr, hint, deep, **hints)\u001b[0m\n\u001b[1;32m   3602\u001b[0m sargs \u001b[38;5;241m=\u001b[39m []\n\u001b[1;32m   3603\u001b[0m \u001b[38;5;28;01mfor\u001b[39;00m arg \u001b[38;5;129;01min\u001b[39;00m expr\u001b[38;5;241m.\u001b[39margs:\n\u001b[0;32m-> 3604\u001b[0m     arg, arghit \u001b[38;5;241m=\u001b[39m \u001b[43mExpr\u001b[49m\u001b[38;5;241;43m.\u001b[39;49m\u001b[43m_expand_hint\u001b[49m\u001b[43m(\u001b[49m\u001b[43marg\u001b[49m\u001b[43m,\u001b[49m\u001b[43m \u001b[49m\u001b[43mhint\u001b[49m\u001b[43m,\u001b[49m\u001b[43m \u001b[49m\u001b[38;5;241;43m*\u001b[39;49m\u001b[38;5;241;43m*\u001b[39;49m\u001b[43mhints\u001b[49m\u001b[43m)\u001b[49m\n\u001b[1;32m   3605\u001b[0m     hit \u001b[38;5;241m|\u001b[39m\u001b[38;5;241m=\u001b[39m arghit\n\u001b[1;32m   3606\u001b[0m     sargs\u001b[38;5;241m.\u001b[39mappend(arg)\n",
      "File \u001b[0;32m~/anaconda3/envs/thesis/lib/python3.12/site-packages/sympy/core/expr.py:3612\u001b[0m, in \u001b[0;36mExpr._expand_hint\u001b[0;34m(expr, hint, deep, **hints)\u001b[0m\n\u001b[1;32m   3609\u001b[0m         expr \u001b[38;5;241m=\u001b[39m expr\u001b[38;5;241m.\u001b[39mfunc(\u001b[38;5;241m*\u001b[39msargs)\n\u001b[1;32m   3611\u001b[0m \u001b[38;5;28;01mif\u001b[39;00m \u001b[38;5;28mhasattr\u001b[39m(expr, hint):\n\u001b[0;32m-> 3612\u001b[0m     newexpr \u001b[38;5;241m=\u001b[39m \u001b[38;5;28;43mgetattr\u001b[39;49m\u001b[43m(\u001b[49m\u001b[43mexpr\u001b[49m\u001b[43m,\u001b[49m\u001b[43m \u001b[49m\u001b[43mhint\u001b[49m\u001b[43m)\u001b[49m\u001b[43m(\u001b[49m\u001b[38;5;241;43m*\u001b[39;49m\u001b[38;5;241;43m*\u001b[39;49m\u001b[43mhints\u001b[49m\u001b[43m)\u001b[49m\n\u001b[1;32m   3613\u001b[0m     \u001b[38;5;28;01mif\u001b[39;00m newexpr \u001b[38;5;241m!=\u001b[39m expr:\n\u001b[1;32m   3614\u001b[0m         \u001b[38;5;28;01mreturn\u001b[39;00m (newexpr, \u001b[38;5;28;01mTrue\u001b[39;00m)\n",
      "File \u001b[0;32m~/anaconda3/envs/thesis/lib/python3.12/site-packages/sympy/core/mul.py:923\u001b[0m, in \u001b[0;36mMul._eval_expand_mul\u001b[0;34m(self, **hints)\u001b[0m\n\u001b[1;32m    921\u001b[0m expr \u001b[38;5;241m=\u001b[39m \u001b[38;5;28mself\u001b[39m\n\u001b[1;32m    922\u001b[0m \u001b[38;5;66;03m# default matches fraction's default\u001b[39;00m\n\u001b[0;32m--> 923\u001b[0m n, d \u001b[38;5;241m=\u001b[39m \u001b[43mfraction\u001b[49m\u001b[43m(\u001b[49m\u001b[43mexpr\u001b[49m\u001b[43m,\u001b[49m\u001b[43m \u001b[49m\u001b[43mhints\u001b[49m\u001b[38;5;241;43m.\u001b[39;49m\u001b[43mget\u001b[49m\u001b[43m(\u001b[49m\u001b[38;5;124;43m'\u001b[39;49m\u001b[38;5;124;43mexact\u001b[39;49m\u001b[38;5;124;43m'\u001b[39;49m\u001b[43m,\u001b[49m\u001b[43m \u001b[49m\u001b[38;5;28;43;01mFalse\u001b[39;49;00m\u001b[43m)\u001b[49m\u001b[43m)\u001b[49m\n\u001b[1;32m    924\u001b[0m \u001b[38;5;28;01mif\u001b[39;00m d\u001b[38;5;241m.\u001b[39mis_Mul:\n\u001b[1;32m    925\u001b[0m     n, d \u001b[38;5;241m=\u001b[39m [i\u001b[38;5;241m.\u001b[39m_eval_expand_mul(\u001b[38;5;241m*\u001b[39m\u001b[38;5;241m*\u001b[39mhints) \u001b[38;5;28;01mif\u001b[39;00m i\u001b[38;5;241m.\u001b[39mis_Mul \u001b[38;5;28;01melse\u001b[39;00m i\n\u001b[1;32m    926\u001b[0m         \u001b[38;5;28;01mfor\u001b[39;00m i \u001b[38;5;129;01min\u001b[39;00m (n, d)]\n",
      "File \u001b[0;32m~/anaconda3/envs/thesis/lib/python3.12/site-packages/sympy/simplify/radsimp.py:1130\u001b[0m, in \u001b[0;36mfraction\u001b[0;34m(expr, exact)\u001b[0m\n\u001b[1;32m   1128\u001b[0m         denom\u001b[38;5;241m.\u001b[39mappend(term\u001b[38;5;241m.\u001b[39mq)\n\u001b[1;32m   1129\u001b[0m     \u001b[38;5;28;01melse\u001b[39;00m:\n\u001b[0;32m-> 1130\u001b[0m         numer\u001b[38;5;241m.\u001b[39mappend(term)\n\u001b[1;32m   1131\u001b[0m \u001b[38;5;28;01mreturn\u001b[39;00m Mul(\u001b[38;5;241m*\u001b[39mnumer, evaluate\u001b[38;5;241m=\u001b[39m\u001b[38;5;129;01mnot\u001b[39;00m exact), Mul(\u001b[38;5;241m*\u001b[39mdenom, evaluate\u001b[38;5;241m=\u001b[39m\u001b[38;5;129;01mnot\u001b[39;00m exact)\n",
      "\u001b[0;31mKeyboardInterrupt\u001b[0m: "
     ]
    }
   ],
   "source": [
    "Jh_inv = sp.simplify(Jh.inv())\n",
    "Jh_invtrans = Jh_inv.transpose()\n",
    "\n",
    "\n",
    "\n",
    "Jh_inv = sp.Matrix([(-((l1 (l2 sin(q1(t)-q2(t))-xa sin(q1(t))+ya cos(q1(t))))/Sqrt[(l1 cos(q1(t))+l2 cos(q2(t))-xa)^2+(l1 sin(q1(t))+l2 sin(q2(t))-ya)^2]), \n",
    "                     (l2 (l1 sin(q1(t)-q2(t))+xa sin(q2(t))-ya cos(q2(t))))/Sqrt[(l1 cos(q1(t))+l2 cos(q2(t))-xa)^2+(l1 sin(q1(t))+l2 sin(q2(t))-ya)^2]\n",
    "(l1 (l1+l2 cos(q1(t)-q2(t))-xa cos(q1(t))-ya sin(q1(t))))/(l1^2+2 l1 l2 cos(q1(t)-q2(t))-2 l1 xa cos(q1(t))-2 l1 ya sin(q1(t))+l2^2-2 l2 xa cos(q2(t))-2 l2 ya sin(q2(t))+xa^2+ya^2)\t(l2 (l1 cos(q1(t)-q2(t))+l2-xa cos(q2(t))-ya sin(q2(t))))/(l1^2+2 l1 l2 cos(q1(t)-q2(t))-2 l1 xa cos(q1(t))-2 l1 ya sin(q1(t))+l2^2-2 l2 xa cos(q2(t))-2 l2 ya sin(q2(t))+xa^2+ya^2)\n",
    "\n",
    ")])"
   ]
  },
  {
   "cell_type": "code",
   "execution_count": 10,
   "id": "8ad2bb3b",
   "metadata": {
    "scrolled": true
   },
   "outputs": [
    {
     "name": "stdout",
     "output_type": "stream",
     "text": [
      "⎡1⎤\n",
      "⎢ ⎥\n",
      "⎣0⎦\n"
     ]
    }
   ],
   "source": [
    "A_theta = Jh_invtrans * A_q\n",
    "A_theta = sp.simplify(A_theta)\n",
    "sp.pprint(A_theta, wrap_line = False)"
   ]
  },
  {
   "cell_type": "markdown",
   "id": "44f2cb3d",
   "metadata": {},
   "source": [
    "# Now to find the Mass, Coriolis & Centrifugal and Gravity matrix\n",
    "\n",
    "\n"
   ]
  },
  {
   "cell_type": "code",
   "execution_count": 4,
   "id": "ee4b05b1",
   "metadata": {},
   "outputs": [
    {
     "name": "stdout",
     "output_type": "stream",
     "text": [
      "-l1*sin(q1(t))*Derivative(q1(t), t) - l2*sin(q2(t))*Derivative(q2(t), t)\n"
     ]
    }
   ],
   "source": [
    "# Positions of the center of mass for each link\n",
    "# Defined in absolute angles from the horizontal \n",
    "x1 = l1 * sp.cos(q1)\n",
    "y1 = l1 * sp.sin(q1)\n",
    "x2 = l1 * sp.cos(q1) + l2 * sp.cos(q2)\n",
    "y2 = l1 * sp.sin(q1) + l2 * sp.sin(q2)\n",
    "\n",
    "# Velocities of the center of mass for each link\n",
    "vx1 = sp.diff(x1, t)\n",
    "vy1 = sp.diff(y1, t)\n",
    "vx2 = sp.diff(x2, t)\n",
    "vy2 = sp.diff(y2, t)\n",
    "\n",
    "print(vx2)"
   ]
  },
  {
   "cell_type": "code",
   "execution_count": 5,
   "id": "c49ba0d7",
   "metadata": {},
   "outputs": [],
   "source": [
    "# Total kinetic energy\n",
    "T = 0.5 * m * (vx2**2 + vy2**2)\n",
    "\n",
    "# Total potential energy\n",
    "V = m * g * y2\n",
    "\n",
    "# Lagrangian\n",
    "L = T - V"
   ]
  },
  {
   "cell_type": "code",
   "execution_count": 6,
   "id": "8d81f271",
   "metadata": {},
   "outputs": [
    {
     "name": "stdout",
     "output_type": "stream",
     "text": [
      "L_q1 = l1*m*(g*cos(q1(t))\n",
      "       + l1*Derivative(q1(t), (t, 2))\n",
      "       + l2*sin(q1(t) - q2(t))*Derivative(q2(t), t)**2\n",
      "       + l2*cos(q1(t) - q2(t))*Derivative(q2(t), (t, 2)))\n",
      "\n",
      "L_q2 = l2*m*(g*cos(q2(t)) - l1*sin(q1(t) - q2(t))*Derivative(q1(t), t)**2\n",
      "       + l1*cos(q1(t) - q2(t))*Derivative(q1(t), (t, 2))\n",
      "       + l2*Derivative(q2(t), (t, 2)))\n",
      "\n",
      "1.0*l1*m*(g*cos(q1(t)) + l1*Derivative(q1(t), (t, 2)) + l2*sin(q1(t) - q2(t))*Derivative(q2(t), t)**2 + l2*cos(q1(t) - q2(t))*Derivative(q2(t), (t, 2)))\n"
     ]
    }
   ],
   "source": [
    "# Lagrangian equations\n",
    "eoms = []\n",
    "for i in range(2):\n",
    "    L_qi = L.diff(q[i].diff(t)).diff(t) - L.diff(q[i])\n",
    "    L_qi = L_qi.simplify()\n",
    "    eoms.append(L_qi)\n",
    "\n",
    "\n",
    "def format_lagrange(eom, name):\n",
    "    eom = str(eom).replace('1.0*','')\n",
    "    terms = str(eom).split('+')\n",
    "    formatted = f\"{name} = \" \n",
    "    for i, term in enumerate(terms):\n",
    "        if i == 0:\n",
    "            formatted += f\"{term.strip()}\\n\"\n",
    "        else:\n",
    "            formatted += f\"       + {term.strip()}\\n\"\n",
    "    return formatted\n",
    "\n",
    "L_q1_formatted = format_lagrange(eoms[0], \"L_q1\")\n",
    "L_q2_formatted = format_lagrange(eoms[1], \"L_q2\")\n",
    "\n",
    "if __name__ == \"__main__\":\n",
    "    # Print the formatted equations\n",
    "    print(L_q1_formatted)\n",
    "    print(L_q2_formatted)\n",
    "\n",
    "print(eoms[0])"
   ]
  },
  {
   "cell_type": "code",
   "execution_count": 7,
   "id": "b1a83625",
   "metadata": {},
   "outputs": [
    {
     "name": "stdout",
     "output_type": "stream",
     "text": [
      "M_q:\n",
      "⎡            2                                         ⎤\n",
      "⎢          l₁ ⋅m             l₁⋅l₂⋅m⋅cos(q₁(t) - q₂(t))⎥\n",
      "⎢                                                      ⎥\n",
      "⎢                                        2             ⎥\n",
      "⎣l₁⋅l₂⋅m⋅cos(q₁(t) - q₂(t))            l₂ ⋅m           ⎦\n",
      "\n",
      "C_q:\n",
      "⎡                                                                  d        ⎤\n",
      "⎢                  0                    l₁⋅l₂⋅m⋅sin(q₁(t) - q₂(t))⋅──(q₂(t))⎥\n",
      "⎢                                                                  dt       ⎥\n",
      "⎢                                                                           ⎥\n",
      "⎢                            d                                              ⎥\n",
      "⎢-l₁⋅l₂⋅m⋅sin(q₁(t) - q₂(t))⋅──(q₁(t))                   0                  ⎥\n",
      "⎣                            dt                                             ⎦\n",
      "\n",
      "G_q:\n",
      "⎡g⋅l₁⋅m⋅cos(q₁(t))⎤\n",
      "⎢                 ⎥\n",
      "⎣g⋅l₂⋅m⋅cos(q₂(t))⎦\n"
     ]
    }
   ],
   "source": [
    "# Generalized velocity and acceleration\n",
    "#q_dot = [q[0].diff(t), q[1].diff(t)]\n",
    "#q_ddot = [q_dot[0].diff(t), q_dot[1].diff(t)]\n",
    "# Mass matrix (inertia matrix)\n",
    "M_q = sp.zeros(2)\n",
    "for i in range(2):\n",
    "    for j in range(2):\n",
    "        M_q[i, j] = (T.diff(q_dot[i]).diff(q_dot[j])).simplify()\n",
    "M_q = sp.nsimplify(M_q)\n",
    "\n",
    "# Coriolis matrix\n",
    "C_q = sp.zeros(2, 2)\n",
    "for i in range(2):\n",
    "    for j in range(2):\n",
    "        for k in range(2):\n",
    "            C_q[i, j] += 0.5 * (M_q[i, j].diff(q[k]) + M_q[i, k].diff(q[j]) - M_q[j, k].diff(q[i])) * q_dot[k]\n",
    "C_q = sp.nsimplify(C_q)\n",
    "\n",
    "# Gravitational force vector\n",
    "G_q = sp.zeros(2, 1)\n",
    "for i in range(2):\n",
    "    G_q[i] = V.diff(q[i]).simplify()\n",
    "G_q = sp.nsimplify(G_q)\n",
    "\n",
    "print(\"M_q:\")\n",
    "sp.pprint(M_q)\n",
    "print(\"\\nC_q:\")\n",
    "sp.pprint(C_q)\n",
    "print(\"\\nG_q:\")\n",
    "sp.pprint(G_q)"
   ]
  },
  {
   "cell_type": "code",
   "execution_count": 11,
   "id": "03ac2072",
   "metadata": {},
   "outputs": [
    {
     "name": "stdout",
     "output_type": "stream",
     "text": [
      "⎡1⎤\n",
      "⎢ ⎥\n",
      "⎣0⎦\n"
     ]
    }
   ],
   "source": [
    "A = (xa - kx)\n",
    "B = (ya - ky)\n",
    "\n",
    "subs_dict = {A: xa - kx, B: ya - ky}\n",
    "\n",
    "\n",
    "sp.pprint(A_theta)"
   ]
  },
  {
   "cell_type": "code",
   "execution_count": 9,
   "id": "0eae6116",
   "metadata": {},
   "outputs": [
    {
     "name": "stdout",
     "output_type": "stream",
     "text": [
      "⎡                      -l₁⋅cos(q₁(t) - q₂(t)) - l₂ + xa⋅cos(q₂(t)) + ya⋅sin(q₂(t))                         l₁⋅sin(q₁(t) - q₂(t)) + xa⋅sin(q₂(t)) - ya⋅cos(q₂(t))⎤\n",
      "⎢────────────────────────────────────────────────────────────────────────────────────────────────────────  ─────────────────────────────────────────────────────⎥\n",
      "⎢      _______________________________________________________________________________                                     l₁⋅sin(q₁(t) - q₂(t))                ⎥\n",
      "⎢     ╱                                     2                                       2                                                                           ⎥\n",
      "⎢l₁⋅╲╱  (l₁⋅sin(q₁(t)) + l₂⋅sin(q₂(t)) - ya)  + (l₁⋅cos(q₁(t)) + l₂⋅cos(q₂(t)) - xa)  ⋅sin(q₁(t) - q₂(t))                                                       ⎥\n",
      "⎢                                                                                                                                                               ⎥\n",
      "⎢                       l₁ + l₂⋅cos(q₁(t) - q₂(t)) - xa⋅cos(q₁(t)) - ya⋅sin(q₁(t))                         l₂⋅sin(q₁(t) - q₂(t)) - xa⋅sin(q₁(t)) + ya⋅cos(q₁(t))⎥\n",
      "⎢────────────────────────────────────────────────────────────────────────────────────────────────────────  ─────────────────────────────────────────────────────⎥\n",
      "⎢      _______________________________________________________________________________                                     l₂⋅sin(q₁(t) - q₂(t))                ⎥\n",
      "⎢     ╱                                     2                                       2                                                                           ⎥\n",
      "⎣l₂⋅╲╱  (l₁⋅sin(q₁(t)) + l₂⋅sin(q₂(t)) - ya)  + (l₁⋅cos(q₁(t)) + l₂⋅cos(q₂(t)) - xa)  ⋅sin(q₁(t) - q₂(t))                                                       ⎦\n",
      "⎡1⎤\n",
      "⎢ ⎥\n",
      "⎣0⎦\n"
     ]
    }
   ],
   "source": [
    "\n",
    "\n",
    "\n",
    "Jh_inv = sp.Matrix([[(A*l2*sp.cos(q2)+B*l2*sp.sin(q2))/(sp.sqrt(A**2+B**2)*l1*l2*sp.sin(q1-q2)),\n",
    "                     (A*l2*sp.sin(q2)-B*l2*sp.cos(q2))/(l1*l2*sp.sin(q1-q2))],\n",
    "                   [(-A*l1*sp.cos(q1)-B*l1*sp.sin(q1))/(sp.sqrt(A**2+B**2)*l1*l2*sp.sin(q1-q2)),\n",
    "                    (-A*l1*sp.sin(q1)+B*l1*sp.cos(q1))/(l1*l2*sp.sin(q1-q2))]])\n",
    "Jh_inv = sp.simplify(Jh_inv)\n",
    "sp.pprint(Jh_inv, wrap_line=False)\n",
    "Jh_invtrans = Jh_inv.transpose()\n",
    "A_theta = Jh_invtrans * A_q\n",
    "A_theta = sp.simplify(A_theta)\n",
    "sp.pprint(A_theta, wrap_line = False)"
   ]
  },
  {
   "cell_type": "code",
   "execution_count": 24,
   "id": "cd9d238f",
   "metadata": {},
   "outputs": [
    {
     "name": "stdout",
     "output_type": "stream",
     "text": [
      "⎡                                                                                                                                                                                                                                                                                                                                                                                                                     m⋅((l₁⋅sin(q₁(t) - q₂(t)) + xa⋅sin(q₂(t)) - ya⋅cos(q₂(t)))⋅(-l₁⋅cos(q₁(t) - q₂(t)) - l₂ + xa⋅cos(q₂(t)) + ya⋅sin(q₂(t)) + (l₁ + l₂⋅cos(q₁(t) - q₂(t)) - xa⋅cos(q₁(t)) - ya⋅sin(q₁(t)))⋅cos(q₁(t) - q₂(t))) + (l₂⋅sin(q₁(t) - q₂(t)) - xa⋅sin(q₁(t)) + ya⋅cos(q₁(t)))⋅(l₁ + l₂⋅cos(q₁(t) - q₂(t)) - xa⋅cos(q₁(t)) - ya⋅sin(q₁(t)) - (l₁⋅cos(q₁(t) - q₂(t)) + l₂ - xa⋅cos(q₂(t)) - ya⋅sin(q₂(t)))⋅cos(q₁(t) - q₂(t))))⎤\n",
      "⎢                                                                                                                                                                                                         m                                                                                                                                                                                                           ────────────────────────────────────────────────────────────────────────────────────────────────────────────────────────────────────────────────────────────────────────────────────────────────────────────────────────────────────────────────────────────────────────────────────────────────────────────────────────────────────────────────────────────────────────────────────────────────────────────────────⎥\n",
      "⎢                                                                                                                                                                                                                                                                                                                                                                                                                                                                                                                                                                               _______________________________________________________________________________                                                                                                                                                                           ⎥\n",
      "⎢                                                                                                                                                                                                                                                                                                                                                                                                                                                                                                                                                                              ╱                                     2                                       2     2                                                                                                                                                                      ⎥\n",
      "⎢                                                                                                                                                                                                                                                                                                                                                                                                                                                                                                                                                                            ╲╱  (l₁⋅sin(q₁(t)) + l₂⋅sin(q₂(t)) - ya)  + (l₁⋅cos(q₁(t)) + l₂⋅cos(q₂(t)) - xa)  ⋅sin (q₁(t) - q₂(t))                                                                                                                                                       ⎥\n",
      "⎢                                                                                                                                                                                                                                                                                                                                                                                                                                                                                                                                                                                                                                                                                                                                                                                                                                         ⎥\n",
      "⎢m⋅((l₁ + l₂⋅cos(q₁(t) - q₂(t)) - xa⋅cos(q₁(t)) - ya⋅sin(q₁(t)))⋅(l₁⋅sin(2⋅q₁(t) - 2⋅q₂(t)) + 2⋅l₂⋅sin(q₁(t) - q₂(t)) - xa⋅sin(q₁(t) - 2⋅q₂(t)) - xa⋅sin(q₁(t)) - ya⋅cos(q₁(t) - 2⋅q₂(t)) + ya⋅cos(q₁(t))) - (l₁⋅cos(q₁(t) - q₂(t)) + l₂ - xa⋅cos(q₂(t)) - ya⋅sin(q₂(t)))⋅(2⋅l₁⋅sin(q₁(t) - q₂(t)) + l₂⋅sin(2⋅q₁(t) - 2⋅q₂(t)) - xa⋅sin(2⋅q₁(t) - q₂(t)) + xa⋅sin(q₂(t)) + ya⋅cos(2⋅q₁(t) - q₂(t)) - ya⋅cos(q₂(t))))       m⋅((l₁⋅sin(q₁(t) - q₂(t)) + xa⋅sin(q₂(t)) - ya⋅cos(q₂(t)))⋅(2⋅l₁⋅sin(q₁(t) - q₂(t)) + l₂⋅sin(2⋅q₁(t) - 2⋅q₂(t)) - xa⋅sin(2⋅q₁(t) - q₂(t)) + xa⋅sin(q₂(t)) + ya⋅cos(2⋅q₁(t) - q₂(t)) - ya⋅cos(q₂(t))) + (l₂⋅sin(q₁(t) - q₂(t)) - xa⋅sin(q₁(t)) + ya⋅cos(q₁(t)))⋅(l₁⋅sin(2⋅q₁(t) - 2⋅q₂(t)) + 2⋅l₂⋅sin(q₁(t) - q₂(t)) - xa⋅sin(q₁(t) - 2⋅q₂(t)) - xa⋅sin(q₁(t)) - ya⋅cos(q₁(t) - 2⋅q₂(t)) + ya⋅cos(q₁(t))))      ⎥\n",
      "⎢───────────────────────────────────────────────────────────────────────────────────────────────────────────────────────────────────────────────────────────────────────────────────────────────────────────────────────────────────────────────────────────────────────────────────────────────────────────────────────────────────────────────────────────────────────────────────────────────────────────────────       ─────────────────────────────────────────────────────────────────────────────────────────────────────────────────────────────────────────────────────────────────────────────────────────────────────────────────────────────────────────────────────────────────────────────────────────────────────────────────────────────────────────────────────────────────────────────────────────────────────────      ⎥\n",
      "⎢                                                                                                                                                          _______________________________________________________________________________                                                                                                                                                                                                                                                                                                                                                                                2                                                                                                                                                                                                               ⎥\n",
      "⎢                                                                                                                                                         ╱                                     2                                       2     2                                                                                                                                                                                                                                                                                                                                                                      2⋅sin (q₁(t) - q₂(t))                                                                                                                                                                                                ⎥\n",
      "⎣                                                                                                                                                     2⋅╲╱  (l₁⋅sin(q₁(t)) + l₂⋅sin(q₂(t)) - ya)  + (l₁⋅cos(q₁(t)) + l₂⋅cos(q₂(t)) - xa)  ⋅sin (q₁(t) - q₂(t))                                                                                                                                                                                                                                                                                                                                                                                                                                                                                                                                                                            ⎦\n"
     ]
    }
   ],
   "source": [
    "\n",
    "#M_theta = Jh_invtrans * M_q * Jh_inv\n",
    "\n",
    "M_theta_10 = sp.simplify(M_theta[1,0])\n",
    "numerator = sp.fraction(M_theta_10)[0]\n",
    "#print(numerator)#, wrap_line=False)\n",
    "                        \n",
    "sp.pprint(sp.simplify(M_theta), wrap_line = False)"
   ]
  },
  {
   "cell_type": "code",
   "execution_count": null,
   "id": "f1668731",
   "metadata": {},
   "outputs": [],
   "source": []
  },
  {
   "cell_type": "code",
   "execution_count": null,
   "id": "891183dc",
   "metadata": {},
   "outputs": [],
   "source": [
    "sp.pprint(M_q)"
   ]
  },
  {
   "cell_type": "code",
   "execution_count": null,
   "id": "80150e7e",
   "metadata": {},
   "outputs": [],
   "source": [
    "Jh00 = (A * l1 * sp.sin(q1) - B * l1 * sp.cos(q1)) / (sp.sqrt(A**2 + B**2))\n",
    "Jh01 = (A * l2 * sp.sin(q2) - B * l2 * sp.cos(q2)) / (sp.sqrt(A**2 + B**2))\n",
    "Jh10 = (- A * l1 * sp.cos(q1) - B * l1 * sp.sin(q1)) / (A**2 + B**2)\n",
    "Jh11 = (- A * l2 * sp.cos(q2) - B * l2 * sp.sin(q2)) / (A**2 + B**2)\n",
    "\n",
    "\n",
    "Jh_1 = sp.Matrix([[Jh00, Jh01],\n",
    "                     [Jh10, Jh11]])\n",
    "\n",
    "Jh_inv1 = sp.simplify(Jh.adjugate() / Jh.det())\n",
    "Jh_invtrans1 = sp.simplify(Jh_inv1.transpose())\n",
    "sp.pprint(sp.simplify(Jh_inv1))"
   ]
  },
  {
   "cell_type": "code",
   "execution_count": null,
   "id": "2dc1687e",
   "metadata": {},
   "outputs": [],
   "source": [
    "sp.pprint(Jh_inv - Jh_inv1, wrap_line=False)"
   ]
  },
  {
   "cell_type": "code",
   "execution_count": null,
   "id": "7db9a790",
   "metadata": {},
   "outputs": [],
   "source": [
    "M_theta = Jh_invtrans1 * M_q * Jh_inv1\n",
    "sp.pprint(sp.simplify(M_theta), wrap_line = False)"
   ]
  },
  {
   "cell_type": "code",
   "execution_count": null,
   "id": "f67ee929",
   "metadata": {},
   "outputs": [],
   "source": [
    "Jh_inv = sp.Matrix([[(A * l2 * sp.cos(q2) + B * l2 * sp.sin(q2))/(sp.sqrt(A**2 + B**2) * l1 * l2 * sp.sin(q1 - q2)),\n",
    "                      (A * l2 * sp.sin(q2) - B * l2 * sp.cos(q2))/(l1 * l2 * sp.sin(q1 - q2))],\n",
    "                   [(A * l1 * sp.cos(q1) + B * l1 * sp.sin(q1))/(sp.sqrt(A**2 + B**2) * l1 * l2 * sp.sin(q1 - q2)),\n",
    "                    (A * l1 * sp.sin(q1) + B * l1 * sp.cos(q1))/(l1 * l2 * sp.sin(q1 -q2))]])\n",
    "\n",
    "Jh_invtrans = Jh_inv.transpose()"
   ]
  },
  {
   "cell_type": "code",
   "execution_count": null,
   "id": "0d2bd44b",
   "metadata": {},
   "outputs": [],
   "source": [
    "sp.pprint(sp.simplify(Jh_invtrans * M_q * Jh_inv), wrap_line = False)"
   ]
  },
  {
   "cell_type": "code",
   "execution_count": null,
   "id": "c7d53639",
   "metadata": {},
   "outputs": [],
   "source": [
    "\n",
    "\n",
    "# Define expressions for P, Q, R, S, T, U, V\n",
    "P_expr = (A * l2 * sp.cos(q2) + B * l2 * sp.sin(q2)) / (sp.sqrt(A**2 + B**2) * l1 * l2 * sp.sin(q1 - q2))\n",
    "Q_expr = (A * l2 * sp.sin(q2) - B * l2 * sp.cos(q2)) / (l1 * l2 * sp.sin(q1 - q2))\n",
    "R_expr = (-A * l1 * sp.cos(q1) - B * l1 * sp.sin(q1)) / (sp.sqrt(A**2 + B**2) * l1 * l2 * sp.sin(q1 - q2))\n",
    "S_expr = (-A * l1 * sp.sin(q1) + B * l1 * sp.cos(q1)) / (l1 * l2 * sp.sin(q1 - q2))\n",
    "T_expr = m * l1**2\n",
    "U_expr = m * l1 * l2 * sp.cos(q1 - q2)\n",
    "V_expr = m * l2**2\n",
    "\n",
    "# Define matrices Jh_inv, Jh_invtrans, and M_q\n",
    "Jh_inv3 = sp.Matrix([[P_expr, Q_expr], [R_expr, S_expr]])\n",
    "Jh_invtrans3 = sp.Matrix([[P_expr, R_expr], [Q_expr, S_expr]])\n",
    "M_q3 = sp.Matrix([[T_expr, U_expr], [U_expr, V_expr]])\n",
    "\n",
    "sp.pprint(M_q, wrap_line=False)\n",
    "sp.pprint(M_q, wrap_line=False)\n",
    "sp.pprint(M_q - M_q3, wrap_line=False)\n",
    "\n",
    "# Perform matrix multiplication and simplify\n",
    "M_theta = sp.simplify(Jh_invtrans * M_q * Jh_inv)\n",
    "M_theta3 = sp.simplify(Jh_invtrans * M_q3 * Jh_inv)\n",
    "\n",
    "# Display the result\n",
    "sp.pprint(M_theta, wrap_line=False)\n",
    "sp.pprint(M_theta3, wrap_line=False)"
   ]
  },
  {
   "cell_type": "code",
   "execution_count": null,
   "id": "f1dd437e",
   "metadata": {},
   "outputs": [],
   "source": [
    "\n"
   ]
  },
  {
   "cell_type": "code",
   "execution_count": null,
   "id": "00a5886d",
   "metadata": {},
   "outputs": [],
   "source": []
  }
 ],
 "metadata": {
  "kernelspec": {
   "display_name": "Python (thesis)",
   "language": "python",
   "name": "thesis"
  },
  "language_info": {
   "codemirror_mode": {
    "name": "ipython",
    "version": 3
   },
   "file_extension": ".py",
   "mimetype": "text/x-python",
   "name": "python",
   "nbconvert_exporter": "python",
   "pygments_lexer": "ipython3",
   "version": "3.12.4"
  }
 },
 "nbformat": 4,
 "nbformat_minor": 5
}
