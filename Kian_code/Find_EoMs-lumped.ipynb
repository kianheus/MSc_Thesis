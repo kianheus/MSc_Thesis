{
 "cells": [
  {
   "cell_type": "code",
   "execution_count": 1,
   "id": "f8d1ac2c",
   "metadata": {},
   "outputs": [
    {
     "data": {
      "text/html": [
       "<style>.container { width:300% !important; }</style>"
      ],
      "text/plain": [
       "<IPython.core.display.HTML object>"
      ]
     },
     "metadata": {},
     "output_type": "display_data"
    }
   ],
   "source": [
    "from IPython.display import display, HTML\n",
    "display(HTML(\"<style>.container { width:300% !important; }</style>\"))\n",
    "\n",
    "import sympy as sp\n",
    "\n",
    "t = sp.Symbol('t')\n",
    "q1 = sp.Function(\"q1\")(t)\n",
    "q2 = sp.Function(\"q2\")(t)\n",
    "q1_dot = sp.diff(q1, t)\n",
    "q2_dot = sp.diff(q2, t)\n",
    "q1_ddot = sp.diff(q1_dot, t)\n",
    "q2_ddot = sp.diff(q2_dot, t)\n",
    "\n",
    "# Generalized coordinates and velocities\n",
    "q = [q1, q2]\n",
    "q_dot = sp.Matrix([q1_dot, q2_dot])\n",
    "q_ddot = sp.Matrix([q1_ddot, q2_ddot])\n",
    "\n",
    "# Define the link lengths and masses\n",
    "m, g = sp.symbols('m g')\n",
    "l1, l2 = sp.symbols('l1 l2')\n",
    "J1, J2 = sp.symbols('J1 J2')"
   ]
  },
  {
   "cell_type": "code",
   "execution_count": 2,
   "id": "50492620",
   "metadata": {},
   "outputs": [
    {
     "name": "stdout",
     "output_type": "stream",
     "text": [
      "\n",
      "\n",
      "⎡           -l₁⋅(l₂⋅sin(q₁(t) - q₂(t)) - xa⋅sin(q₁(t)) + ya⋅cos(q₁(t)))            ⎤\n",
      "⎢──────────────────────────────────────────────────────────────────────────────────⎥\n",
      "⎢   _______________________________________________________________________________⎥\n",
      "⎢  ╱                                     2                                       2 ⎥\n",
      "⎢╲╱  (l₁⋅sin(q₁(t)) + l₂⋅sin(q₂(t)) - ya)  + (l₁⋅cos(q₁(t)) + l₂⋅cos(q₂(t)) - xa)  ⎥\n",
      "⎢                                                                                  ⎥\n",
      "⎢            l₂⋅(l₁⋅sin(q₁(t) - q₂(t)) + xa⋅sin(q₂(t)) - ya⋅cos(q₂(t)))            ⎥\n",
      "⎢──────────────────────────────────────────────────────────────────────────────────⎥\n",
      "⎢   _______________________________________________________________________________⎥\n",
      "⎢  ╱                                     2                                       2 ⎥\n",
      "⎣╲╱  (l₁⋅sin(q₁(t)) + l₂⋅sin(q₂(t)) - ya)  + (l₁⋅cos(q₁(t)) + l₂⋅cos(q₂(t)) - xa)  ⎦\n"
     ]
    }
   ],
   "source": [
    "# Actuator parameters\n",
    "xa, ya = sp.symbols('xa ya') #x, y coordinate of actuator\n",
    "\n",
    "# Rope connection length along joint 2\n",
    "kx = l1 * sp.cos(q1) + l2 * sp.cos(q2)\n",
    "ky = l1 * sp.sin(q1) + l2 * sp.sin(q2)\n",
    "k = sp.Matrix([[kx],\n",
    "               [ky]])\n",
    "\n",
    "#R = sp.Matrix([[xa - kx],\n",
    "#               [ya - ky]])\n",
    "#Rx = R[0]\n",
    "#Ry = R[1]\n",
    "#r = R/R.norm()\n",
    "\n",
    "l = sp.sqrt((xa - kx)**2 + (ya - ky)**2)\n",
    "alpha = sp.atan2((ya - ky),(xa - kx))\n",
    "\n",
    "\n",
    "A1 = sp.diff(l, q1).simplify()\n",
    "A2 = sp.diff(l, q2).simplify()\n",
    "A_q = sp.simplify(sp.Matrix([[A1],\n",
    "                  [A2]]))\n",
    "\n",
    "print(\"\\n\")\n",
    "sp.pprint(A_q, wrap_line=False)"
   ]
  },
  {
   "cell_type": "code",
   "execution_count": 3,
   "id": "ac4922e0",
   "metadata": {},
   "outputs": [
    {
     "name": "stdout",
     "output_type": "stream",
     "text": [
      "⎡           l₁⋅(-l₂⋅sin(q₁(t) - q₂(t)) + xa⋅sin(q₁(t)) - ya⋅cos(q₁(t)))                          l₂⋅(l₁⋅sin(q₁(t) - q₂(t)) + xa⋅sin(q₂(t)) - ya⋅cos(q₂(t)))            ⎤\n",
      "⎢──────────────────────────────────────────────────────────────────────────────────  ──────────────────────────────────────────────────────────────────────────────────⎥\n",
      "⎢   _______________________________________________________________________________     _______________________________________________________________________________⎥\n",
      "⎢  ╱                                     2                                       2     ╱                                     2                                       2 ⎥\n",
      "⎢╲╱  (l₁⋅sin(q₁(t)) + l₂⋅sin(q₂(t)) - ya)  + (l₁⋅cos(q₁(t)) + l₂⋅cos(q₂(t)) - xa)    ╲╱  (l₁⋅sin(q₁(t)) + l₂⋅sin(q₂(t)) - ya)  + (l₁⋅cos(q₁(t)) + l₂⋅cos(q₂(t)) - xa)  ⎥\n",
      "⎢                                                                                                                                                                      ⎥\n",
      "⎢         l₁⋅(l₁ + l₂⋅cos(q₁(t) - q₂(t)) - xa⋅cos(q₁(t)) - ya⋅sin(q₁(t)))                     l₂⋅(l₁⋅cos(q₁(t) - q₂(t)) + l₂ - xa⋅cos(q₂(t)) - ya⋅sin(q₂(t)))          ⎥\n",
      "⎢  ─────────────────────────────────────────────────────────────────────────────       ─────────────────────────────────────────────────────────────────────────────   ⎥\n",
      "⎢                                      2                                       2                                           2                                       2   ⎥\n",
      "⎣  (l₁⋅sin(q₁(t)) + l₂⋅sin(q₂(t)) - ya)  + (l₁⋅cos(q₁(t)) + l₂⋅cos(q₂(t)) - xa)        (l₁⋅sin(q₁(t)) + l₂⋅sin(q₂(t)) - ya)  + (l₁⋅cos(q₁(t)) + l₂⋅cos(q₂(t)) - xa)    ⎦\n"
     ]
    }
   ],
   "source": [
    "h1 = l\n",
    "h2 = alpha\n",
    "theta = sp.Matrix([[h1],\n",
    "                   [h2]])\n",
    "\n",
    "Jh = theta.jacobian(q)\n",
    "Jh = sp.simplify(Jh)\n",
    "sp.pprint(Jh, wrap_line = False)"
   ]
  },
  {
   "cell_type": "markdown",
   "id": "9e84e694",
   "metadata": {},
   "source": [
    "# Jh_inv obtained from Mathematica code (Find_EoMs-lumped.nb)"
   ]
  },
  {
   "cell_type": "code",
   "execution_count": 4,
   "id": "c7e53a00",
   "metadata": {},
   "outputs": [
    {
     "name": "stdout",
     "output_type": "stream",
     "text": [
      "⎡                      -l₁⋅cos(q₁(t) - q₂(t)) - l₂ + xa⋅cos(q₂(t)) + ya⋅sin(q₂(t))                         l₁⋅sin(q₁(t) - q₂(t)) + xa⋅sin(q₂(t)) - ya⋅cos(q₂(t))⎤\n",
      "⎢────────────────────────────────────────────────────────────────────────────────────────────────────────  ─────────────────────────────────────────────────────⎥\n",
      "⎢      _______________________________________________________________________________                                     l₁⋅sin(q₁(t) - q₂(t))                ⎥\n",
      "⎢     ╱                                     2                                       2                                                                           ⎥\n",
      "⎢l₁⋅╲╱  (l₁⋅sin(q₁(t)) + l₂⋅sin(q₂(t)) - ya)  + (l₁⋅cos(q₁(t)) + l₂⋅cos(q₂(t)) - xa)  ⋅sin(q₁(t) - q₂(t))                                                       ⎥\n",
      "⎢                                                                                                                                                               ⎥\n",
      "⎢                       l₁ + l₂⋅cos(q₁(t) - q₂(t)) - xa⋅cos(q₁(t)) - ya⋅sin(q₁(t))                         l₂⋅sin(q₁(t) - q₂(t)) - xa⋅sin(q₁(t)) + ya⋅cos(q₁(t))⎥\n",
      "⎢────────────────────────────────────────────────────────────────────────────────────────────────────────  ─────────────────────────────────────────────────────⎥\n",
      "⎢      _______________________________________________________________________________                                     l₂⋅sin(q₁(t) - q₂(t))                ⎥\n",
      "⎢     ╱                                     2                                       2                                                                           ⎥\n",
      "⎣l₂⋅╲╱  (l₁⋅sin(q₁(t)) + l₂⋅sin(q₂(t)) - ya)  + (l₁⋅cos(q₁(t)) + l₂⋅cos(q₂(t)) - xa)  ⋅sin(q₁(t) - q₂(t))                                                       ⎦\n",
      "⎡1⎤\n",
      "⎢ ⎥\n",
      "⎣0⎦\n"
     ]
    }
   ],
   "source": [
    "A = (xa - kx)\n",
    "B = (ya - ky)\n",
    "\n",
    "Jh_inv = sp.Matrix([[(A*l2*sp.cos(q2)+B*l2*sp.sin(q2))/(sp.sqrt(A**2+B**2)*l1*l2*sp.sin(q1-q2)),\n",
    "                     (A*l2*sp.sin(q2)-B*l2*sp.cos(q2))/(l1*l2*sp.sin(q1-q2))],\n",
    "                   [(-A*l1*sp.cos(q1)-B*l1*sp.sin(q1))/(sp.sqrt(A**2+B**2)*l1*l2*sp.sin(q1-q2)),\n",
    "                    (-A*l1*sp.sin(q1)+B*l1*sp.cos(q1))/(l1*l2*sp.sin(q1-q2))]])\n",
    "Jh_inv = sp.simplify(Jh_inv)\n",
    "\n",
    "Jh_invtrans = Jh_inv.transpose()\n",
    "\n",
    "A_theta = Jh_invtrans * A_q\n",
    "A_theta = sp.simplify(A_theta)\n",
    "\n",
    "sp.pprint(Jh_inv, wrap_line=False)\n",
    "sp.pprint(A_theta, wrap_line = False)"
   ]
  },
  {
   "cell_type": "code",
   "execution_count": 5,
   "id": "8ad2bb3b",
   "metadata": {
    "scrolled": true
   },
   "outputs": [
    {
     "name": "stdout",
     "output_type": "stream",
     "text": [
      "⎡1⎤\n",
      "⎢ ⎥\n",
      "⎣0⎦\n"
     ]
    }
   ],
   "source": [
    "A_theta = Jh_invtrans * A_q\n",
    "A_theta = sp.simplify(A_theta)\n",
    "sp.pprint(A_theta, wrap_line = False)"
   ]
  },
  {
   "cell_type": "markdown",
   "id": "44f2cb3d",
   "metadata": {},
   "source": [
    "# Now to find the Mass, Coriolis & Centrifugal and Gravity matrix\n",
    "\n",
    "\n"
   ]
  },
  {
   "cell_type": "code",
   "execution_count": 6,
   "id": "ee4b05b1",
   "metadata": {},
   "outputs": [
    {
     "name": "stdout",
     "output_type": "stream",
     "text": [
      "-l1*sin(q1(t))*Derivative(q1(t), t) - l2*sin(q2(t))*Derivative(q2(t), t)\n"
     ]
    }
   ],
   "source": [
    "# Positions of the center of mass for each link\n",
    "# Defined in absolute angles from the horizontal \n",
    "x1 = l1 * sp.cos(q1)\n",
    "y1 = l1 * sp.sin(q1)\n",
    "x2 = l1 * sp.cos(q1) + l2 * sp.cos(q2)\n",
    "y2 = l1 * sp.sin(q1) + l2 * sp.sin(q2)\n",
    "\n",
    "# Velocities of the center of mass for each link\n",
    "vx1 = sp.diff(x1, t)\n",
    "vy1 = sp.diff(y1, t)\n",
    "vx2 = sp.diff(x2, t)\n",
    "vy2 = sp.diff(y2, t)\n",
    "\n",
    "print(vx2)"
   ]
  },
  {
   "cell_type": "code",
   "execution_count": 7,
   "id": "c49ba0d7",
   "metadata": {},
   "outputs": [],
   "source": [
    "# Total kinetic energy\n",
    "T = 0.5 * m * (vx2**2 + vy2**2)\n",
    "\n",
    "# Total potential energy\n",
    "V = m * g * y2\n",
    "\n",
    "# Lagrangian\n",
    "L = T - V"
   ]
  },
  {
   "cell_type": "code",
   "execution_count": 8,
   "id": "8d81f271",
   "metadata": {},
   "outputs": [
    {
     "name": "stdout",
     "output_type": "stream",
     "text": [
      "L_q1 = l1*m*(g*cos(q1(t))\n",
      "       + l1*Derivative(q1(t), (t, 2))\n",
      "       + l2*sin(q1(t) - q2(t))*Derivative(q2(t), t)**2\n",
      "       + l2*cos(q1(t) - q2(t))*Derivative(q2(t), (t, 2)))\n",
      "\n",
      "L_q2 = l2*m*(g*cos(q2(t)) - l1*sin(q1(t) - q2(t))*Derivative(q1(t), t)**2\n",
      "       + l1*cos(q1(t) - q2(t))*Derivative(q1(t), (t, 2))\n",
      "       + l2*Derivative(q2(t), (t, 2)))\n",
      "\n",
      "1.0*l1*m*(g*cos(q1(t)) + l1*Derivative(q1(t), (t, 2)) + l2*sin(q1(t) - q2(t))*Derivative(q2(t), t)**2 + l2*cos(q1(t) - q2(t))*Derivative(q2(t), (t, 2)))\n"
     ]
    }
   ],
   "source": [
    "# Lagrangian equations\n",
    "eoms = []\n",
    "for i in range(2):\n",
    "    L_qi = L.diff(q[i].diff(t)).diff(t) - L.diff(q[i])\n",
    "    L_qi = L_qi.simplify()\n",
    "    eoms.append(L_qi)\n",
    "\n",
    "\n",
    "def format_lagrange(eom, name):\n",
    "    eom = str(eom).replace('1.0*','')\n",
    "    terms = str(eom).split('+')\n",
    "    formatted = f\"{name} = \" \n",
    "    for i, term in enumerate(terms):\n",
    "        if i == 0:\n",
    "            formatted += f\"{term.strip()}\\n\"\n",
    "        else:\n",
    "            formatted += f\"       + {term.strip()}\\n\"\n",
    "    return formatted\n",
    "\n",
    "L_q1_formatted = format_lagrange(eoms[0], \"L_q1\")\n",
    "L_q2_formatted = format_lagrange(eoms[1], \"L_q2\")\n",
    "\n",
    "if __name__ == \"__main__\":\n",
    "    # Print the formatted equations\n",
    "    print(L_q1_formatted)\n",
    "    print(L_q2_formatted)\n",
    "\n",
    "print(eoms[0])"
   ]
  },
  {
   "cell_type": "code",
   "execution_count": 9,
   "id": "b1a83625",
   "metadata": {},
   "outputs": [
    {
     "name": "stdout",
     "output_type": "stream",
     "text": [
      "M_q:\n",
      "⎡            2                                         ⎤\n",
      "⎢          l₁ ⋅m             l₁⋅l₂⋅m⋅cos(q₁(t) - q₂(t))⎥\n",
      "⎢                                                      ⎥\n",
      "⎢                                        2             ⎥\n",
      "⎣l₁⋅l₂⋅m⋅cos(q₁(t) - q₂(t))            l₂ ⋅m           ⎦\n",
      "\n",
      "C_q:\n",
      "⎡                                                                  d        ⎤\n",
      "⎢                  0                    l₁⋅l₂⋅m⋅sin(q₁(t) - q₂(t))⋅──(q₂(t))⎥\n",
      "⎢                                                                  dt       ⎥\n",
      "⎢                                                                           ⎥\n",
      "⎢                            d                                              ⎥\n",
      "⎢-l₁⋅l₂⋅m⋅sin(q₁(t) - q₂(t))⋅──(q₁(t))                   0                  ⎥\n",
      "⎣                            dt                                             ⎦\n",
      "\n",
      "G_q:\n",
      "⎡g⋅l₁⋅m⋅cos(q₁(t))⎤\n",
      "⎢                 ⎥\n",
      "⎣g⋅l₂⋅m⋅cos(q₂(t))⎦\n"
     ]
    }
   ],
   "source": [
    "# Generalized velocity and acceleration\n",
    "#q_dot = [q[0].diff(t), q[1].diff(t)]\n",
    "#q_ddot = [q_dot[0].diff(t), q_dot[1].diff(t)]\n",
    "# Mass matrix (inertia matrix)\n",
    "M_q = sp.zeros(2)\n",
    "for i in range(2):\n",
    "    for j in range(2):\n",
    "        M_q[i, j] = (T.diff(q_dot[i]).diff(q_dot[j])).simplify()\n",
    "M_q = sp.nsimplify(M_q)\n",
    "\n",
    "# Coriolis matrix\n",
    "C_q = sp.zeros(2, 2)\n",
    "for i in range(2):\n",
    "    for j in range(2):\n",
    "        for k in range(2):\n",
    "            C_q[i, j] += 0.5 * (M_q[i, j].diff(q[k]) + M_q[i, k].diff(q[j]) - M_q[j, k].diff(q[i])) * q_dot[k]\n",
    "C_q = sp.nsimplify(C_q)\n",
    "\n",
    "# Gravitational force vector\n",
    "G_q = sp.zeros(2, 1)\n",
    "for i in range(2):\n",
    "    G_q[i] = V.diff(q[i]).simplify()\n",
    "G_q = sp.nsimplify(G_q)\n",
    "\n",
    "print(\"M_q:\")\n",
    "sp.pprint(M_q)\n",
    "print(\"\\nC_q:\")\n",
    "sp.pprint(C_q)\n",
    "print(\"\\nG_q:\")\n",
    "sp.pprint(G_q)"
   ]
  },
  {
   "cell_type": "code",
   "execution_count": 12,
   "id": "cd9d238f",
   "metadata": {},
   "outputs": [
    {
     "name": "stdout",
     "output_type": "stream",
     "text": [
      "WARNING: SymPy DOES NOT FIND THE PROPER SIMPLIFICATION, M_theta IS DIAGONAL FOR THIS SELECTION OF COORDINATES\n",
      "⎡                                                                                                                                                                                                                                                                                                                                                                                                                     m⋅((l₁⋅sin(q₁(t) - q₂(t)) + xa⋅sin(q₂(t)) - ya⋅cos(q₂(t)))⋅(-l₁⋅cos(q₁(t) - q₂(t)) - l₂ + xa⋅cos(q₂(t)) + ya⋅sin(q₂(t)) + (l₁ + l₂⋅cos(q₁(t) - q₂(t)) - xa⋅cos(q₁(t)) - ya⋅sin(q₁(t)))⋅cos(q₁(t) - q₂(t))) + (l₂⋅sin(q₁(t) - q₂(t)) - xa⋅sin(q₁(t)) + ya⋅cos(q₁(t)))⋅(l₁ + l₂⋅cos(q₁(t) - q₂(t)) - xa⋅cos(q₁(t)) - ya⋅sin(q₁(t)) - (l₁⋅cos(q₁(t) - q₂(t)) + l₂ - xa⋅cos(q₂(t)) - ya⋅sin(q₂(t)))⋅cos(q₁(t) - q₂(t))))⎤\n",
      "⎢                                                                                                                                                                                                         m                                                                                                                                                                                                           ────────────────────────────────────────────────────────────────────────────────────────────────────────────────────────────────────────────────────────────────────────────────────────────────────────────────────────────────────────────────────────────────────────────────────────────────────────────────────────────────────────────────────────────────────────────────────────────────────────────────────⎥\n",
      "⎢                                                                                                                                                                                                                                                                                                                                                                                                                                                                                                                                                                               _______________________________________________________________________________                                                                                                                                                                           ⎥\n",
      "⎢                                                                                                                                                                                                                                                                                                                                                                                                                                                                                                                                                                              ╱                                     2                                       2     2                                                                                                                                                                      ⎥\n",
      "⎢                                                                                                                                                                                                                                                                                                                                                                                                                                                                                                                                                                            ╲╱  (l₁⋅sin(q₁(t)) + l₂⋅sin(q₂(t)) - ya)  + (l₁⋅cos(q₁(t)) + l₂⋅cos(q₂(t)) - xa)  ⋅sin (q₁(t) - q₂(t))                                                                                                                                                       ⎥\n",
      "⎢                                                                                                                                                                                                                                                                                                                                                                                                                                                                                                                                                                                                                                                                                                                                                                                                                                         ⎥\n",
      "⎢m⋅((l₁ + l₂⋅cos(q₁(t) - q₂(t)) - xa⋅cos(q₁(t)) - ya⋅sin(q₁(t)))⋅(l₁⋅sin(2⋅q₁(t) - 2⋅q₂(t)) + 2⋅l₂⋅sin(q₁(t) - q₂(t)) - xa⋅sin(q₁(t) - 2⋅q₂(t)) - xa⋅sin(q₁(t)) - ya⋅cos(q₁(t) - 2⋅q₂(t)) + ya⋅cos(q₁(t))) - (l₁⋅cos(q₁(t) - q₂(t)) + l₂ - xa⋅cos(q₂(t)) - ya⋅sin(q₂(t)))⋅(2⋅l₁⋅sin(q₁(t) - q₂(t)) + l₂⋅sin(2⋅q₁(t) - 2⋅q₂(t)) - xa⋅sin(2⋅q₁(t) - q₂(t)) + xa⋅sin(q₂(t)) + ya⋅cos(2⋅q₁(t) - q₂(t)) - ya⋅cos(q₂(t))))       m⋅((l₁⋅sin(q₁(t) - q₂(t)) + xa⋅sin(q₂(t)) - ya⋅cos(q₂(t)))⋅(2⋅l₁⋅sin(q₁(t) - q₂(t)) + l₂⋅sin(2⋅q₁(t) - 2⋅q₂(t)) - xa⋅sin(2⋅q₁(t) - q₂(t)) + xa⋅sin(q₂(t)) + ya⋅cos(2⋅q₁(t) - q₂(t)) - ya⋅cos(q₂(t))) + (l₂⋅sin(q₁(t) - q₂(t)) - xa⋅sin(q₁(t)) + ya⋅cos(q₁(t)))⋅(l₁⋅sin(2⋅q₁(t) - 2⋅q₂(t)) + 2⋅l₂⋅sin(q₁(t) - q₂(t)) - xa⋅sin(q₁(t) - 2⋅q₂(t)) - xa⋅sin(q₁(t)) - ya⋅cos(q₁(t) - 2⋅q₂(t)) + ya⋅cos(q₁(t))))      ⎥\n",
      "⎢───────────────────────────────────────────────────────────────────────────────────────────────────────────────────────────────────────────────────────────────────────────────────────────────────────────────────────────────────────────────────────────────────────────────────────────────────────────────────────────────────────────────────────────────────────────────────────────────────────────────────       ─────────────────────────────────────────────────────────────────────────────────────────────────────────────────────────────────────────────────────────────────────────────────────────────────────────────────────────────────────────────────────────────────────────────────────────────────────────────────────────────────────────────────────────────────────────────────────────────────────────      ⎥\n",
      "⎢                                                                                                                                                          _______________________________________________________________________________                                                                                                                                                                                                                                                                                                                                                                                2                                                                                                                                                                                                               ⎥\n",
      "⎢                                                                                                                                                         ╱                                     2                                       2     2                                                                                                                                                                                                                                                                                                                                                                      2⋅sin (q₁(t) - q₂(t))                                                                                                                                                                                                ⎥\n",
      "⎣                                                                                                                                                     2⋅╲╱  (l₁⋅sin(q₁(t)) + l₂⋅sin(q₂(t)) - ya)  + (l₁⋅cos(q₁(t)) + l₂⋅cos(q₂(t)) - xa)  ⋅sin (q₁(t) - q₂(t))                                                                                                                                                                                                                                                                                                                                                                                                                                                                                                                                                                            ⎦\n"
     ]
    }
   ],
   "source": [
    "\n",
    "M_theta = Jh_invtrans * M_q * Jh_inv\n",
    "\n",
    "M_theta_10 = sp.simplify(M_theta[1,0])\n",
    "numerator = sp.fraction(M_theta_10)[0]\n",
    "#print(numerator)#, wrap_line=False)\n",
    "                        \n",
    "print(\"WARNING: SymPy DOES NOT FIND THE PROPER SIMPLIFICATION, M_theta IS DIAGONAL FOR THIS SELECTION OF COORDINATES\")\n",
    "sp.pprint(sp.simplify(M_theta), wrap_line = False)"
   ]
  },
  {
   "cell_type": "code",
   "execution_count": 13,
   "id": "891183dc",
   "metadata": {},
   "outputs": [
    {
     "name": "stdout",
     "output_type": "stream",
     "text": [
      "⎡            2                                         ⎤\n",
      "⎢          l₁ ⋅m             l₁⋅l₂⋅m⋅cos(q₁(t) - q₂(t))⎥\n",
      "⎢                                                      ⎥\n",
      "⎢                                        2             ⎥\n",
      "⎣l₁⋅l₂⋅m⋅cos(q₁(t) - q₂(t))            l₂ ⋅m           ⎦\n"
     ]
    }
   ],
   "source": [
    "sp.pprint(M_q)"
   ]
  },
  {
   "cell_type": "code",
   "execution_count": 14,
   "id": "80150e7e",
   "metadata": {},
   "outputs": [
    {
     "name": "stdout",
     "output_type": "stream",
     "text": [
      "⎡                                                                              ↪\n",
      "⎢                                                                              ↪\n",
      "⎢                                                                              ↪\n",
      "⎢───────────────────────────────────────────────────────────────────────────── ↪\n",
      "⎢   ⎛    2                                                                     ↪\n",
      "⎢l₁⋅⎝- l₁ ⋅sin(q₁(t) - q₂(t)) - l₁⋅l₂⋅sin(2⋅q₁(t) - 2⋅q₂(t)) + l₁⋅xa⋅sin(q₁(t) ↪\n",
      "⎢                                                                              ↪\n",
      "⎢                                                                              ↪\n",
      "⎢                                                                              ↪\n",
      "⎢                                                                              ↪\n",
      "⎢───────────────────────────────────────────────────────────────────────────── ↪\n",
      "⎢   ⎛    2                                                                     ↪\n",
      "⎣l₂⋅⎝- l₁ ⋅sin(q₁(t) - q₂(t)) - l₁⋅l₂⋅sin(2⋅q₁(t) - 2⋅q₂(t)) + l₁⋅xa⋅sin(q₁(t) ↪\n",
      "\n",
      "↪                                                                              ↪\n",
      "↪                                                                              ↪\n",
      "↪                                                                              ↪\n",
      "↪ ──────────────────────────────────────────────────────────────────────────── ↪\n",
      "↪                                                                              ↪\n",
      "↪  - q₂(t))⋅cos(q₁(t)) + l₁⋅xa⋅sin(q₁(t))⋅cos(q₁(t) - q₂(t)) - l₁⋅xa⋅sin(q₂(t) ↪\n",
      "↪                                                                              ↪\n",
      "↪                                                                              ↪\n",
      "↪                                                                              ↪\n",
      "↪                                                                              ↪\n",
      "↪ ──────────────────────────────────────────────────────────────────────────── ↪\n",
      "↪                                                                              ↪\n",
      "↪  - q₂(t))⋅cos(q₁(t)) + l₁⋅xa⋅sin(q₁(t))⋅cos(q₁(t) - q₂(t)) - l₁⋅xa⋅sin(q₂(t) ↪\n",
      "\n",
      "↪                                                                              ↪\n",
      "↪                                                                              ↪\n",
      "↪                                    (l₁⋅cos(q₁(t) - q₂(t)) + l₂ - xa⋅cos(q₂(t ↪\n",
      "↪ ──────────────────────────────────────────────────────────────────────────── ↪\n",
      "↪                                                                              ↪\n",
      "↪ ) + l₁⋅ya⋅sin(q₁(t) - q₂(t))⋅sin(q₁(t)) - l₁⋅ya⋅cos(q₁(t) - q₂(t))⋅cos(q₁(t) ↪\n",
      "↪                                                                              ↪\n",
      "↪                                                                              ↪\n",
      "↪                                                                              ↪\n",
      "↪                                    (-l₁ - l₂⋅cos(q₁(t) - q₂(t)) + xa⋅cos(q₁( ↪\n",
      "↪ ──────────────────────────────────────────────────────────────────────────── ↪\n",
      "↪                                                                              ↪\n",
      "↪ ) + l₁⋅ya⋅sin(q₁(t) - q₂(t))⋅sin(q₁(t)) - l₁⋅ya⋅cos(q₁(t) - q₂(t))⋅cos(q₁(t) ↪\n",
      "\n",
      "↪                        _____________________________________________________ ↪\n",
      "↪                       ╱   2                                                  ↪\n",
      "↪ )) - ya⋅sin(q₂(t)))⋅╲╱  l₁  + 2⋅l₁⋅l₂⋅cos(q₁(t) - q₂(t)) - 2⋅l₁⋅xa⋅cos(q₁(t) ↪\n",
      "↪ ──────────────────────────────────────────────────────────────────────────── ↪\n",
      "↪                          2                                                   ↪\n",
      "↪ ) + l₁⋅ya⋅cos(q₂(t)) - l₂ ⋅sin(q₁(t) - q₂(t)) + l₂⋅xa⋅sin(q₁(t) - q₂(t))⋅cos ↪\n",
      "↪                                                                              ↪\n",
      "↪                         ____________________________________________________ ↪\n",
      "↪                        ╱   2                                                 ↪\n",
      "↪ t)) + ya⋅sin(q₁(t)))⋅╲╱  l₁  + 2⋅l₁⋅l₂⋅cos(q₁(t) - q₂(t)) - 2⋅l₁⋅xa⋅cos(q₁(t ↪\n",
      "↪ ──────────────────────────────────────────────────────────────────────────── ↪\n",
      "↪                          2                                                   ↪\n",
      "↪ ) + l₁⋅ya⋅cos(q₂(t)) - l₂ ⋅sin(q₁(t) - q₂(t)) + l₂⋅xa⋅sin(q₁(t) - q₂(t))⋅cos ↪\n",
      "\n",
      "↪ ____________________________________________________________________________ ↪\n",
      "↪                            2                                               2 ↪\n",
      "↪ ) - 2⋅l₁⋅ya⋅sin(q₁(t)) + l₂  - 2⋅l₂⋅xa⋅cos(q₂(t)) - 2⋅l₂⋅ya⋅sin(q₂(t)) + xa  ↪\n",
      "↪ ──────────────────────────────────────────────────────────────────────────── ↪\n",
      "↪                                                                              ↪\n",
      "↪ (q₂(t)) + l₂⋅xa⋅sin(q₁(t)) - l₂⋅xa⋅sin(q₂(t))⋅cos(q₁(t) - q₂(t)) + l₂⋅ya⋅sin ↪\n",
      "↪                                                                              ↪\n",
      "↪ ____________________________________________________________________________ ↪\n",
      "↪                             2                                                ↪\n",
      "↪ )) - 2⋅l₁⋅ya⋅sin(q₁(t)) + l₂  - 2⋅l₂⋅xa⋅cos(q₂(t)) - 2⋅l₂⋅ya⋅sin(q₂(t)) + xa ↪\n",
      "↪ ──────────────────────────────────────────────────────────────────────────── ↪\n",
      "↪                                                                              ↪\n",
      "↪ (q₂(t)) + l₂⋅xa⋅sin(q₁(t)) - l₂⋅xa⋅sin(q₂(t))⋅cos(q₁(t) - q₂(t)) + l₂⋅ya⋅sin ↪\n",
      "\n",
      "↪ _______                                                                      ↪\n",
      "↪      2                                                                       ↪\n",
      "↪  + ya                                                                        ↪\n",
      "↪ ──────────────────────────────────────────────────────────────────────────── ↪\n",
      "↪                                                                              ↪\n",
      "↪ (q₁(t) - q₂(t))⋅sin(q₂(t)) + l₂⋅ya⋅cos(q₁(t) - q₂(t))⋅cos(q₂(t)) - l₂⋅ya⋅cos ↪\n",
      "↪                                                                              ↪\n",
      "↪ ________                                                                     ↪\n",
      "↪ 2     2                                                                      ↪\n",
      "↪   + ya                                                                       ↪\n",
      "↪ ──────────────────────────────────────────────────────────────────────────── ↪\n",
      "↪                                                                              ↪\n",
      "↪ (q₁(t) - q₂(t))⋅sin(q₂(t)) + l₂⋅ya⋅cos(q₁(t) - q₂(t))⋅cos(q₂(t)) - l₂⋅ya⋅cos ↪\n",
      "\n",
      "↪                                                                              ↪\n",
      "↪                                                                              ↪\n",
      "↪                                                                              ↪\n",
      "↪ ──────────────────────────────────────────────────────────────────────────── ↪\n",
      "↪             2                           2                           2        ↪\n",
      "↪ (q₁(t)) - xa ⋅sin(q₁(t))⋅cos(q₂(t)) + xa ⋅sin(q₂(t))⋅cos(q₁(t)) - ya ⋅sin(q₁ ↪\n",
      "↪                                                                              ↪\n",
      "↪                                                                              ↪\n",
      "↪                                                                              ↪\n",
      "↪                                                                              ↪\n",
      "↪ ──────────────────────────────────────────────────────────────────────────── ↪\n",
      "↪             2                           2                           2        ↪\n",
      "↪ (q₁(t)) - xa ⋅sin(q₁(t))⋅cos(q₂(t)) + xa ⋅sin(q₂(t))⋅cos(q₁(t)) - ya ⋅sin(q₁ ↪\n",
      "\n",
      "↪                                                                              ↪\n",
      "↪                                                 3                        2   ↪\n",
      "↪                                               l₁ ⋅sin(q₁(t) - q₂(t)) + l₁ ⋅l ↪\n",
      "↪ ────────────────────────────────────────────  ────────────────────────────── ↪\n",
      "↪                     2                      ⎞                                 ↪\n",
      "↪ (t))⋅cos(q₂(t)) + ya ⋅sin(q₂(t))⋅cos(q₁(t))⎠                                 ↪\n",
      "↪                                                                              ↪\n",
      "↪                                                                              ↪\n",
      "↪                                                 2                            ↪\n",
      "↪                                               l₁ ⋅l₂⋅sin(q₁(t) - q₂(t)) - l₁ ↪\n",
      "↪ ────────────────────────────────────────────  ────────────────────────────── ↪\n",
      "↪                     2                      ⎞                                 ↪\n",
      "↪ (t))⋅cos(q₂(t)) + ya ⋅sin(q₂(t))⋅cos(q₁(t))⎠                                 ↪\n",
      "\n",
      "↪                                                                              ↪\n",
      "↪                              2                               2               ↪\n",
      "↪ ₂⋅sin(2⋅q₁(t) - 2⋅q₂(t)) - l₁ ⋅xa⋅sin(2⋅q₁(t) - q₂(t)) + 2⋅l₁ ⋅xa⋅sin(q₂(t)) ↪\n",
      "↪ ──────────────────────────────────────────────────────────────────────────── ↪\n",
      "↪                                                                              ↪\n",
      "↪                                                                              ↪\n",
      "↪                                                                              ↪\n",
      "↪                                                                              ↪\n",
      "↪ 2                   2                      2                                 ↪\n",
      "↪  ⋅xa⋅sin(q₁(t)) + l₁ ⋅ya⋅cos(q₁(t)) + l₁⋅l₂ ⋅sin(2⋅q₁(t) - 2⋅q₂(t)) - 2⋅l₁⋅l ↪\n",
      "↪ ──────────────────────────────────────────────────────────────────────────── ↪\n",
      "↪                                                                              ↪\n",
      "↪                                                                              ↪\n",
      "\n",
      "↪                                                                              ↪\n",
      "↪      2                               2                      2                ↪\n",
      "↪  + l₁ ⋅ya⋅cos(2⋅q₁(t) - q₂(t)) - 2⋅l₁ ⋅ya⋅cos(q₂(t)) + l₁⋅l₂ ⋅sin(q₁(t) - q₂ ↪\n",
      "↪ ──────────────────────────────────────────────────────────────────────────── ↪\n",
      "↪                            ⎛  2                                              ↪\n",
      "↪                         l₁⋅⎝l₁ ⋅sin(q₁(t) - q₂(t)) + l₁⋅l₂⋅sin(2⋅q₁(t) - 2⋅q ↪\n",
      "↪                                                                              ↪\n",
      "↪                                                                              ↪\n",
      "↪                                                                    2         ↪\n",
      "↪ ₂⋅xa⋅sin(2⋅q₁(t) - q₂(t)) + 2⋅l₁⋅l₂⋅ya⋅cos(2⋅q₁(t) - q₂(t)) + l₁⋅xa ⋅sin(2⋅q ↪\n",
      "↪ ──────────────────────────────────────────────────────────────────────────── ↪\n",
      "↪                            ⎛  2                                              ↪\n",
      "↪                         l₂⋅⎝l₁ ⋅sin(q₁(t) - q₂(t)) + l₁⋅l₂⋅sin(2⋅q₁(t) - 2⋅q ↪\n",
      "\n",
      "↪                                                                              ↪\n",
      "↪                                                                              ↪\n",
      "↪ (t)) - 2⋅l₁⋅l₂⋅xa⋅sin(q₁(t) - 2⋅q₂(t)) - 2⋅l₁⋅l₂⋅ya⋅cos(q₁(t) - 2⋅q₂(t)) + 2 ↪\n",
      "↪ ──────────────────────────────────────────────────────────────────────────── ↪\n",
      "↪                                                                              ↪\n",
      "↪ ₂(t)) - l₁⋅xa⋅sin(2⋅q₁(t) - q₂(t)) + l₁⋅xa⋅sin(q₂(t)) + l₁⋅ya⋅cos(2⋅q₁(t) -  ↪\n",
      "↪                                                                              ↪\n",
      "↪                                                                              ↪\n",
      "↪                                        2                  3                  ↪\n",
      "↪ ₁(t)) - 2⋅l₁⋅xa⋅ya⋅cos(2⋅q₁(t)) - l₁⋅ya ⋅sin(2⋅q₁(t)) + l₂ ⋅sin(q₁(t) - q₂(t ↪\n",
      "↪ ──────────────────────────────────────────────────────────────────────────── ↪\n",
      "↪                                                                              ↪\n",
      "↪ ₂(t)) - l₁⋅xa⋅sin(2⋅q₁(t) - q₂(t)) + l₁⋅xa⋅sin(q₂(t)) + l₁⋅ya⋅cos(2⋅q₁(t) -  ↪\n",
      "\n",
      "↪                                                                              ↪\n",
      "↪       2                           2                                          ↪\n",
      "↪ ⋅l₁⋅xa ⋅sin(q₁(t) - q₂(t)) - l₁⋅xa ⋅sin(q₁(t) + q₂(t)) + 2⋅l₁⋅xa⋅ya⋅cos(q₁(t ↪\n",
      "↪ ──────────────────────────────────────────────────────────────────────────── ↪\n",
      "↪                               2                                              ↪\n",
      "↪ q₂(t)) - l₁⋅ya⋅cos(q₂(t)) + l₂ ⋅sin(q₁(t) - q₂(t)) - l₂⋅xa⋅sin(q₁(t) - 2⋅q₂( ↪\n",
      "↪                                                                              ↪\n",
      "↪                                                                              ↪\n",
      "↪        2                               2                   2                 ↪\n",
      "↪ )) - l₂ ⋅xa⋅sin(q₁(t) - 2⋅q₂(t)) - 2⋅l₂ ⋅xa⋅sin(q₁(t)) - l₂ ⋅ya⋅cos(q₁(t) -  ↪\n",
      "↪ ──────────────────────────────────────────────────────────────────────────── ↪\n",
      "↪                               2                                              ↪\n",
      "↪ q₂(t)) - l₁⋅ya⋅cos(q₂(t)) + l₂ ⋅sin(q₁(t) - q₂(t)) - l₂⋅xa⋅sin(q₁(t) - 2⋅q₂( ↪\n",
      "\n",
      "↪                                                                              ↪\n",
      "↪                     2                           2                        2   ↪\n",
      "↪ ) + q₂(t)) + 2⋅l₁⋅ya ⋅sin(q₁(t) - q₂(t)) + l₁⋅ya ⋅sin(q₁(t) + q₂(t)) + l₂ ⋅x ↪\n",
      "↪ ──────────────────────────────────────────────────────────────────────────── ↪\n",
      "↪                                                                            2 ↪\n",
      "↪ t)) - l₂⋅xa⋅sin(q₁(t)) - l₂⋅ya⋅cos(q₁(t) - 2⋅q₂(t)) + l₂⋅ya⋅cos(q₁(t)) + xa  ↪\n",
      "↪                                                                              ↪\n",
      "↪                                                                              ↪\n",
      "↪                2                        2                           2        ↪\n",
      "↪ 2⋅q₂(t)) + 2⋅l₂ ⋅ya⋅cos(q₁(t)) + 2⋅l₂⋅xa ⋅sin(q₁(t) - q₂(t)) + l₂⋅xa ⋅sin(q₁ ↪\n",
      "↪ ──────────────────────────────────────────────────────────────────────────── ↪\n",
      "↪                                                                            2 ↪\n",
      "↪ t)) - l₂⋅xa⋅sin(q₁(t)) - l₂⋅ya⋅cos(q₁(t) - 2⋅q₂(t)) + l₂⋅ya⋅cos(q₁(t)) + xa  ↪\n",
      "\n",
      "↪                                                                              ↪\n",
      "↪                  2                      2                                    ↪\n",
      "↪ a⋅sin(q₂(t)) - l₂ ⋅ya⋅cos(q₂(t)) - l₂⋅xa ⋅sin(2⋅q₂(t)) + 2⋅l₂⋅xa⋅ya⋅cos(2⋅q₂ ↪\n",
      "↪ ──────────────────────────────────────────────────────────────────────────── ↪\n",
      "↪                         2                   ⎞                                ↪\n",
      "↪ ⋅sin(q₁(t) - q₂(t)) + ya ⋅sin(q₁(t) - q₂(t))⎠                                ↪\n",
      "↪                                                                              ↪\n",
      "↪                                                                              ↪\n",
      "↪                                                       2                      ↪\n",
      "↪ (t) + q₂(t)) - 2⋅l₂⋅xa⋅ya⋅cos(q₁(t) + q₂(t)) + 2⋅l₂⋅ya ⋅sin(q₁(t) - q₂(t)) - ↪\n",
      "↪ ──────────────────────────────────────────────────────────────────────────── ↪\n",
      "↪                         2                   ⎞                                ↪\n",
      "↪ ⋅sin(q₁(t) - q₂(t)) + ya ⋅sin(q₁(t) - q₂(t))⎠                                ↪\n",
      "\n",
      "↪                                                                              ↪\n",
      "↪             2                  3                2                      2     ↪\n",
      "↪ (t)) + l₂⋅ya ⋅sin(2⋅q₂(t)) + xa ⋅sin(q₂(t)) - xa ⋅ya⋅cos(q₂(t)) + xa⋅ya ⋅sin ↪\n",
      "↪ ──────────────────────────────────────────────────────────────────────────── ↪\n",
      "↪                                                                              ↪\n",
      "↪                                                                              ↪\n",
      "↪                                                                              ↪\n",
      "↪                                                                              ↪\n",
      "↪       2                        3                2                      2     ↪\n",
      "↪  l₂⋅ya ⋅sin(q₁(t) + q₂(t)) - xa ⋅sin(q₁(t)) + xa ⋅ya⋅cos(q₁(t)) - xa⋅ya ⋅sin ↪\n",
      "↪ ──────────────────────────────────────────────────────────────────────────── ↪\n",
      "↪                                                                              ↪\n",
      "↪                                                                              ↪\n",
      "\n",
      "↪                         ⎤\n",
      "↪             3           ⎥\n",
      "↪ (q₂(t)) - ya ⋅cos(q₂(t))⎥\n",
      "↪ ────────────────────────⎥\n",
      "↪                         ⎥\n",
      "↪                         ⎥\n",
      "↪                         ⎥\n",
      "↪                         ⎥\n",
      "↪             3           ⎥\n",
      "↪ (q₁(t)) + ya ⋅cos(q₁(t))⎥\n",
      "↪ ────────────────────────⎥\n",
      "↪                         ⎥\n",
      "↪                         ⎦\n"
     ]
    }
   ],
   "source": [
    "Jh00 = (A * l1 * sp.sin(q1) - B * l1 * sp.cos(q1)) / (sp.sqrt(A**2 + B**2))\n",
    "Jh01 = (A * l2 * sp.sin(q2) - B * l2 * sp.cos(q2)) / (sp.sqrt(A**2 + B**2))\n",
    "Jh10 = (- A * l1 * sp.cos(q1) - B * l1 * sp.sin(q1)) / (A**2 + B**2)\n",
    "Jh11 = (- A * l2 * sp.cos(q2) - B * l2 * sp.sin(q2)) / (A**2 + B**2)\n",
    "\n",
    "\n",
    "Jh_1 = sp.Matrix([[Jh00, Jh01],\n",
    "                     [Jh10, Jh11]])\n",
    "\n",
    "Jh_inv1 = sp.simplify(Jh.adjugate() / Jh.det())\n",
    "Jh_invtrans1 = sp.simplify(Jh_inv1.transpose())\n",
    "sp.pprint(sp.simplify(Jh_inv1))"
   ]
  },
  {
   "cell_type": "code",
   "execution_count": 15,
   "id": "2dc1687e",
   "metadata": {},
   "outputs": [
    {
     "name": "stdout",
     "output_type": "stream",
     "text": [
      "⎡                                                                                                                                                                                                                                                              ________________________________________________________________________________________________________________________________________                                                                                                                                                                                                                                                                                                                                                                                                                                                                                                                                                                                                                                                                                                                                                                                                                                                                                                                                                                            ⎤\n",
      "⎢                                                                                                                                                                                                                                                             ╱   2                                                                            2                                               2     2                                                                                                                                                                                                                                                                                                                                                                     3                        2                               2                               2                   2                               2                      2                                                                                                 2                           2                                                             2                           2                        2                   2                      2                                               2                  3                2                      2                3           ⎥\n",
      "⎢                                                                                                                                                                                             (-l₁⋅cos(q₁(t) - q₂(t)) - l₂ + xa⋅cos(q₂(t)) + ya⋅sin(q₂(t)))⋅╲╱  l₁  + 2⋅l₁⋅l₂⋅cos(q₁(t) - q₂(t)) - 2⋅l₁⋅xa⋅cos(q₁(t)) - 2⋅l₁⋅ya⋅sin(q₁(t)) + l₂  - 2⋅l₂⋅xa⋅cos(q₂(t)) - 2⋅l₂⋅ya⋅sin(q₂(t)) + xa  + ya                                                                                                                                                                                                                      -l₁⋅cos(q₁(t) - q₂(t)) - l₂ + xa⋅cos(q₂(t)) + ya⋅sin(q₂(t))                         l₁⋅sin(q₁(t) - q₂(t)) + xa⋅sin(q₂(t)) - ya⋅cos(q₂(t))   - l₁ ⋅sin(q₁(t) - q₂(t)) - l₁ ⋅l₂⋅sin(2⋅q₁(t) - 2⋅q₂(t)) + l₁ ⋅xa⋅sin(2⋅q₁(t) - q₂(t)) - 2⋅l₁ ⋅xa⋅sin(q₂(t)) - l₁ ⋅ya⋅cos(2⋅q₁(t) - q₂(t)) + 2⋅l₁ ⋅ya⋅cos(q₂(t)) - l₁⋅l₂ ⋅sin(q₁(t) - q₂(t)) + 2⋅l₁⋅l₂⋅xa⋅sin(q₁(t) - 2⋅q₂(t)) + 2⋅l₁⋅l₂⋅ya⋅cos(q₁(t) - 2⋅q₂(t)) - 2⋅l₁⋅xa ⋅sin(q₁(t) - q₂(t)) + l₁⋅xa ⋅sin(q₁(t) + q₂(t)) - 2⋅l₁⋅xa⋅ya⋅cos(q₁(t) + q₂(t)) - 2⋅l₁⋅ya ⋅sin(q₁(t) - q₂(t)) - l₁⋅ya ⋅sin(q₁(t) + q₂(t)) - l₂ ⋅xa⋅sin(q₂(t)) + l₂ ⋅ya⋅cos(q₂(t)) + l₂⋅xa ⋅sin(2⋅q₂(t)) - 2⋅l₂⋅xa⋅ya⋅cos(2⋅q₂(t)) - l₂⋅ya ⋅sin(2⋅q₂(t)) - xa ⋅sin(q₂(t)) + xa ⋅ya⋅cos(q₂(t)) - xa⋅ya ⋅sin(q₂(t)) + ya ⋅cos(q₂(t))⎥\n",
      "⎢- ─────────────────────────────────────────────────────────────────────────────────────────────────────────────────────────────────────────────────────────────────────────────────────────────────────────────────────────────────────────────────────────────────────────────────────────────────────────────────────────────────────────────────────────────────────────────────────────────────────────────────────────────────────────────────────────────────────────────────────────────────────────────────────────────────────────────────────────────────────────────────────────────── + ────────────────────────────────────────────────────────────────────────────────────────────────────────  ───────────────────────────────────────────────────── - ────────────────────────────────────────────────────────────────────────────────────────────────────────────────────────────────────────────────────────────────────────────────────────────────────────────────────────────────────────────────────────────────────────────────────────────────────────────────────────────────────────────────────────────────────────────────────────────────────────────────────────────────────────────────────────────────────────────────────────────────────────────────────────────────────────────────────────────────────────────────────────────────────────────⎥\n",
      "⎢     ⎛  2                                                                                                                                                                                                                                                     2                                                                                                                                                                                                                      2                           2                           2                           2                      ⎞         _______________________________________________________________________________                                     l₁⋅sin(q₁(t) - q₂(t))                                                                                                                                                        ⎛    2                                                                                                                                                       2                                                                                                                        2                        2                   ⎞                                                                                                                                   ⎥\n",
      "⎢  l₁⋅⎝l₁ ⋅sin(q₁(t) - q₂(t)) + l₁⋅l₂⋅sin(2⋅q₁(t) - 2⋅q₂(t)) - l₁⋅xa⋅sin(q₁(t) - q₂(t))⋅cos(q₁(t)) - l₁⋅xa⋅sin(q₁(t))⋅cos(q₁(t) - q₂(t)) + l₁⋅xa⋅sin(q₂(t)) - l₁⋅ya⋅sin(q₁(t) - q₂(t))⋅sin(q₁(t)) + l₁⋅ya⋅cos(q₁(t) - q₂(t))⋅cos(q₁(t)) - l₁⋅ya⋅cos(q₂(t)) + l₂ ⋅sin(q₁(t) - q₂(t)) - l₂⋅xa⋅sin(q₁(t) - q₂(t))⋅cos(q₂(t)) - l₂⋅xa⋅sin(q₁(t)) + l₂⋅xa⋅sin(q₂(t))⋅cos(q₁(t) - q₂(t)) - l₂⋅ya⋅sin(q₁(t) - q₂(t))⋅sin(q₂(t)) - l₂⋅ya⋅cos(q₁(t) - q₂(t))⋅cos(q₂(t)) + l₂⋅ya⋅cos(q₁(t)) + xa ⋅sin(q₁(t))⋅cos(q₂(t)) - xa ⋅sin(q₂(t))⋅cos(q₁(t)) + ya ⋅sin(q₁(t))⋅cos(q₂(t)) - ya ⋅sin(q₂(t))⋅cos(q₁(t))⎠        ╱                                     2                                       2                                                                                                                                                                                                                l₁⋅⎝- l₁ ⋅sin(q₁(t) - q₂(t)) - l₁⋅l₂⋅sin(2⋅q₁(t) - 2⋅q₂(t)) + l₁⋅xa⋅sin(2⋅q₁(t) - q₂(t)) - l₁⋅xa⋅sin(q₂(t)) - l₁⋅ya⋅cos(2⋅q₁(t) - q₂(t)) + l₁⋅ya⋅cos(q₂(t)) - l₂ ⋅sin(q₁(t) - q₂(t)) + l₂⋅xa⋅sin(q₁(t) - 2⋅q₂(t)) + l₂⋅xa⋅sin(q₁(t)) + l₂⋅ya⋅cos(q₁(t) - 2⋅q₂(t)) - l₂⋅ya⋅cos(q₁(t)) - xa ⋅sin(q₁(t) - q₂(t)) - ya ⋅sin(q₁(t) - q₂(t))⎠                                                                                                                                   ⎥\n",
      "⎢                                                                                                                                                                                                                                                                                                                                                                                                                                                                                                                                                                                                    l₁⋅╲╱  (l₁⋅sin(q₁(t)) + l₂⋅sin(q₂(t)) - ya)  + (l₁⋅cos(q₁(t)) + l₂⋅cos(q₂(t)) - xa)  ⋅sin(q₁(t) - q₂(t))                                                                                                                                                                                                                                                                                                                                                                                                                                                                                                                                                                                                                                                                      ⎥\n",
      "⎢                                                                                                                                                                                                                                                                                                                                                                                                                                                                                                                                                                                                                                                                                                                                                                                                                                                                                                                                                                                                                                                                                                                                                                                                                                                                                                                                                                                  ⎥\n",
      "⎢                                                                                                                                                                                                                                                             ________________________________________________________________________________________________________________________________________                                                                                                                                                                                                                                                                                                                                                                                                                                                                                                                                                                                                                                                                                                                                                                                                                                                                                                                                                                             ⎥\n",
      "⎢                                                                                                                                                                                                                                                            ╱   2                                                                            2                                               2     2                                                                                                                                                                                                                                                                                                                                                                      2                           2                   2                      2                                                                                                   2                                               2                  3                        2                               2                   2                               2                        2                           2                                                             2                           2                        3                2                      2                3           ⎥\n",
      "⎢                                                                                                                                                                                             (l₁ + l₂⋅cos(q₁(t) - q₂(t)) - xa⋅cos(q₁(t)) - ya⋅sin(q₁(t)))⋅╲╱  l₁  + 2⋅l₁⋅l₂⋅cos(q₁(t) - q₂(t)) - 2⋅l₁⋅xa⋅cos(q₁(t)) - 2⋅l₁⋅ya⋅sin(q₁(t)) + l₂  - 2⋅l₂⋅xa⋅cos(q₂(t)) - 2⋅l₂⋅ya⋅sin(q₂(t)) + xa  + ya                                                                                                                                                                                                                        l₁ + l₂⋅cos(q₁(t) - q₂(t)) - xa⋅cos(q₁(t)) - ya⋅sin(q₁(t))                         l₂⋅sin(q₁(t) - q₂(t)) - xa⋅sin(q₁(t)) + ya⋅cos(q₁(t))   - l₁ ⋅l₂⋅sin(q₁(t) - q₂(t)) + l₁ ⋅xa⋅sin(q₁(t)) - l₁ ⋅ya⋅cos(q₁(t)) - l₁⋅l₂ ⋅sin(2⋅q₁(t) - 2⋅q₂(t)) + 2⋅l₁⋅l₂⋅xa⋅sin(2⋅q₁(t) - q₂(t)) - 2⋅l₁⋅l₂⋅ya⋅cos(2⋅q₁(t) - q₂(t)) - l₁⋅xa ⋅sin(2⋅q₁(t)) + 2⋅l₁⋅xa⋅ya⋅cos(2⋅q₁(t)) + l₁⋅ya ⋅sin(2⋅q₁(t)) - l₂ ⋅sin(q₁(t) - q₂(t)) + l₂ ⋅xa⋅sin(q₁(t) - 2⋅q₂(t)) + 2⋅l₂ ⋅xa⋅sin(q₁(t)) + l₂ ⋅ya⋅cos(q₁(t) - 2⋅q₂(t)) - 2⋅l₂ ⋅ya⋅cos(q₁(t)) - 2⋅l₂⋅xa ⋅sin(q₁(t) - q₂(t)) - l₂⋅xa ⋅sin(q₁(t) + q₂(t)) + 2⋅l₂⋅xa⋅ya⋅cos(q₁(t) + q₂(t)) - 2⋅l₂⋅ya ⋅sin(q₁(t) - q₂(t)) + l₂⋅ya ⋅sin(q₁(t) + q₂(t)) + xa ⋅sin(q₁(t)) - xa ⋅ya⋅cos(q₁(t)) + xa⋅ya ⋅sin(q₁(t)) - ya ⋅cos(q₁(t))⎥\n",
      "⎢- ─────────────────────────────────────────────────────────────────────────────────────────────────────────────────────────────────────────────────────────────────────────────────────────────────────────────────────────────────────────────────────────────────────────────────────────────────────────────────────────────────────────────────────────────────────────────────────────────────────────────────────────────────────────────────────────────────────────────────────────────────────────────────────────────────────────────────────────────────────────────────────────────── + ────────────────────────────────────────────────────────────────────────────────────────────────────────  ───────────────────────────────────────────────────── - ────────────────────────────────────────────────────────────────────────────────────────────────────────────────────────────────────────────────────────────────────────────────────────────────────────────────────────────────────────────────────────────────────────────────────────────────────────────────────────────────────────────────────────────────────────────────────────────────────────────────────────────────────────────────────────────────────────────────────────────────────────────────────────────────────────────────────────────────────────────────────────────────────────────⎥\n",
      "⎢     ⎛  2                                                                                                                                                                                                                                                     2                                                                                                                                                                                                                      2                           2                           2                           2                      ⎞         _______________________________________________________________________________                                     l₂⋅sin(q₁(t) - q₂(t))                                                                                                                                                        ⎛    2                                                                                                                                                       2                                                                                                                        2                        2                   ⎞                                                                                                                                   ⎥\n",
      "⎢  l₂⋅⎝l₁ ⋅sin(q₁(t) - q₂(t)) + l₁⋅l₂⋅sin(2⋅q₁(t) - 2⋅q₂(t)) - l₁⋅xa⋅sin(q₁(t) - q₂(t))⋅cos(q₁(t)) - l₁⋅xa⋅sin(q₁(t))⋅cos(q₁(t) - q₂(t)) + l₁⋅xa⋅sin(q₂(t)) - l₁⋅ya⋅sin(q₁(t) - q₂(t))⋅sin(q₁(t)) + l₁⋅ya⋅cos(q₁(t) - q₂(t))⋅cos(q₁(t)) - l₁⋅ya⋅cos(q₂(t)) + l₂ ⋅sin(q₁(t) - q₂(t)) - l₂⋅xa⋅sin(q₁(t) - q₂(t))⋅cos(q₂(t)) - l₂⋅xa⋅sin(q₁(t)) + l₂⋅xa⋅sin(q₂(t))⋅cos(q₁(t) - q₂(t)) - l₂⋅ya⋅sin(q₁(t) - q₂(t))⋅sin(q₂(t)) - l₂⋅ya⋅cos(q₁(t) - q₂(t))⋅cos(q₂(t)) + l₂⋅ya⋅cos(q₁(t)) + xa ⋅sin(q₁(t))⋅cos(q₂(t)) - xa ⋅sin(q₂(t))⋅cos(q₁(t)) + ya ⋅sin(q₁(t))⋅cos(q₂(t)) - ya ⋅sin(q₂(t))⋅cos(q₁(t))⎠        ╱                                     2                                       2                                                                                                                                                                                                                l₂⋅⎝- l₁ ⋅sin(q₁(t) - q₂(t)) - l₁⋅l₂⋅sin(2⋅q₁(t) - 2⋅q₂(t)) + l₁⋅xa⋅sin(2⋅q₁(t) - q₂(t)) - l₁⋅xa⋅sin(q₂(t)) - l₁⋅ya⋅cos(2⋅q₁(t) - q₂(t)) + l₁⋅ya⋅cos(q₂(t)) - l₂ ⋅sin(q₁(t) - q₂(t)) + l₂⋅xa⋅sin(q₁(t) - 2⋅q₂(t)) + l₂⋅xa⋅sin(q₁(t)) + l₂⋅ya⋅cos(q₁(t) - 2⋅q₂(t)) - l₂⋅ya⋅cos(q₁(t)) - xa ⋅sin(q₁(t) - q₂(t)) - ya ⋅sin(q₁(t) - q₂(t))⎠                                                                                                                                   ⎥\n",
      "⎣                                                                                                                                                                                                                                                                                                                                                                                                                                                                                                                                                                                                    l₂⋅╲╱  (l₁⋅sin(q₁(t)) + l₂⋅sin(q₂(t)) - ya)  + (l₁⋅cos(q₁(t)) + l₂⋅cos(q₂(t)) - xa)  ⋅sin(q₁(t) - q₂(t))                                                                                                                                                                                                                                                                                                                                                                                                                                                                                                                                                                                                                                                                      ⎦\n"
     ]
    }
   ],
   "source": [
    "sp.pprint(Jh_inv - Jh_inv1, wrap_line=False)"
   ]
  },
  {
   "cell_type": "code",
   "execution_count": null,
   "id": "7db9a790",
   "metadata": {},
   "outputs": [],
   "source": [
    "M_theta = Jh_invtrans1 * M_q * Jh_inv1\n",
    "sp.pprint(sp.simplify(M_theta), wrap_line = False)"
   ]
  },
  {
   "cell_type": "code",
   "execution_count": null,
   "id": "f67ee929",
   "metadata": {},
   "outputs": [],
   "source": [
    "Jh_inv = sp.Matrix([[(A * l2 * sp.cos(q2) + B * l2 * sp.sin(q2))/(sp.sqrt(A**2 + B**2) * l1 * l2 * sp.sin(q1 - q2)),\n",
    "                      (A * l2 * sp.sin(q2) - B * l2 * sp.cos(q2))/(l1 * l2 * sp.sin(q1 - q2))],\n",
    "                   [(A * l1 * sp.cos(q1) + B * l1 * sp.sin(q1))/(sp.sqrt(A**2 + B**2) * l1 * l2 * sp.sin(q1 - q2)),\n",
    "                    (A * l1 * sp.sin(q1) + B * l1 * sp.cos(q1))/(l1 * l2 * sp.sin(q1 -q2))]])\n",
    "\n",
    "Jh_invtrans = Jh_inv.transpose()"
   ]
  },
  {
   "cell_type": "code",
   "execution_count": null,
   "id": "0d2bd44b",
   "metadata": {},
   "outputs": [],
   "source": [
    "sp.pprint(sp.simplify(Jh_invtrans * M_q * Jh_inv), wrap_line = False)"
   ]
  },
  {
   "cell_type": "code",
   "execution_count": null,
   "id": "c7d53639",
   "metadata": {},
   "outputs": [],
   "source": [
    "\n",
    "\n",
    "# Define expressions for P, Q, R, S, T, U, V\n",
    "P_expr = (A * l2 * sp.cos(q2) + B * l2 * sp.sin(q2)) / (sp.sqrt(A**2 + B**2) * l1 * l2 * sp.sin(q1 - q2))\n",
    "Q_expr = (A * l2 * sp.sin(q2) - B * l2 * sp.cos(q2)) / (l1 * l2 * sp.sin(q1 - q2))\n",
    "R_expr = (-A * l1 * sp.cos(q1) - B * l1 * sp.sin(q1)) / (sp.sqrt(A**2 + B**2) * l1 * l2 * sp.sin(q1 - q2))\n",
    "S_expr = (-A * l1 * sp.sin(q1) + B * l1 * sp.cos(q1)) / (l1 * l2 * sp.sin(q1 - q2))\n",
    "T_expr = m * l1**2\n",
    "U_expr = m * l1 * l2 * sp.cos(q1 - q2)\n",
    "V_expr = m * l2**2\n",
    "\n",
    "# Define matrices Jh_inv, Jh_invtrans, and M_q\n",
    "Jh_inv3 = sp.Matrix([[P_expr, Q_expr], [R_expr, S_expr]])\n",
    "Jh_invtrans3 = sp.Matrix([[P_expr, R_expr], [Q_expr, S_expr]])\n",
    "M_q3 = sp.Matrix([[T_expr, U_expr], [U_expr, V_expr]])\n",
    "\n",
    "sp.pprint(M_q, wrap_line=False)\n",
    "sp.pprint(M_q, wrap_line=False)\n",
    "sp.pprint(M_q - M_q3, wrap_line=False)\n",
    "\n",
    "# Perform matrix multiplication and simplify\n",
    "M_theta = sp.simplify(Jh_invtrans * M_q * Jh_inv)\n",
    "M_theta3 = sp.simplify(Jh_invtrans * M_q3 * Jh_inv)\n",
    "\n",
    "# Display the result\n",
    "sp.pprint(M_theta, wrap_line=False)\n",
    "sp.pprint(M_theta3, wrap_line=False)"
   ]
  },
  {
   "cell_type": "code",
   "execution_count": null,
   "id": "f1dd437e",
   "metadata": {},
   "outputs": [],
   "source": [
    "\n"
   ]
  },
  {
   "cell_type": "code",
   "execution_count": null,
   "id": "00a5886d",
   "metadata": {},
   "outputs": [],
   "source": []
  }
 ],
 "metadata": {
  "kernelspec": {
   "display_name": "Python (thesis)",
   "language": "python",
   "name": "thesis"
  },
  "language_info": {
   "codemirror_mode": {
    "name": "ipython",
    "version": 3
   },
   "file_extension": ".py",
   "mimetype": "text/x-python",
   "name": "python",
   "nbconvert_exporter": "python",
   "pygments_lexer": "ipython3",
   "version": "3.12.4"
  }
 },
 "nbformat": 4,
 "nbformat_minor": 5
}
